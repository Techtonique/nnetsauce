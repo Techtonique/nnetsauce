{
  "nbformat": 4,
  "nbformat_minor": 0,
  "metadata": {
    "colab": {
      "name": "randombag_classification.ipynb",
      "provenance": [],
      "collapsed_sections": []
    },
    "kernelspec": {
      "name": "python3",
      "display_name": "Python 3"
    }
  },
  "cells": [
    {
      "cell_type": "markdown",
      "metadata": {
        "id": "3yzVZcFVW4J3",
        "colab_type": "text"
      },
      "source": [
        "\n",
        "\n",
        "This notebook demonstrates the use of `nnetsauce`'s RandomBag (bootstrap aggregating of quasi-randomized networks) classifier."
      ]
    },
    {
      "cell_type": "code",
      "metadata": {
        "id": "I2BYGMHm_YT4",
        "colab_type": "code",
        "colab": {
          "base_uri": "https://localhost:8080/",
          "height": 211
        },
        "outputId": "35b4710a-832a-4e13-9301-8abe54a01a0a"
      },
      "source": [
        "pip install git+https://github.com/thierrymoudiki/nnetsauce.git"
      ],
      "execution_count": 1,
      "outputs": [
        {
          "output_type": "stream",
          "text": [
            "Collecting git+https://github.com/thierrymoudiki/nnetsauce.git\n",
            "  Cloning https://github.com/thierrymoudiki/nnetsauce.git to /tmp/pip-req-build-5avsisea\n",
            "  Running command git clone -q https://github.com/thierrymoudiki/nnetsauce.git /tmp/pip-req-build-5avsisea\n",
            "Building wheels for collected packages: nnetsauce\n",
            "  Building wheel for nnetsauce (setup.py) ... \u001b[?25l\u001b[?25hdone\n",
            "  Created wheel for nnetsauce: filename=nnetsauce-0.2.0-cp36-none-any.whl size=81119 sha256=decd769f4534b7b8075c53b53742394c319388b572e3fef681618764c468c2b1\n",
            "  Stored in directory: /tmp/pip-ephem-wheel-cache-f2zhei62/wheels/c7/77/cc/a317b05d253859b63000b77a371ac0fd6f8b428a57752a70ef\n",
            "Successfully built nnetsauce\n",
            "Installing collected packages: nnetsauce\n",
            "Successfully installed nnetsauce-0.2.0\n"
          ],
          "name": "stdout"
        }
      ]
    },
    {
      "cell_type": "code",
      "metadata": {
        "id": "VSpcAAgc_Hyp",
        "colab_type": "code",
        "colab": {}
      },
      "source": [
        "import nnetsauce as ns\n",
        "import numpy as np\n",
        "from sklearn.datasets import load_breast_cancer, load_wine, load_iris, make_classification\n",
        "from sklearn.tree import DecisionTreeClassifier\n",
        "from sklearn.linear_model import LogisticRegression\n",
        "from sklearn.model_selection import train_test_split\n",
        "from sklearn import metrics\n",
        "from time import time\n"
      ],
      "execution_count": 0,
      "outputs": []
    },
    {
      "cell_type": "code",
      "metadata": {
        "id": "G2vC9oPh_hVe",
        "colab_type": "code",
        "outputId": "dfdeab9a-a28b-475b-9eb8-dde71f881175",
        "colab": {
          "base_uri": "https://localhost:8080/",
          "height": 312
        }
      },
      "source": [
        "# dataset no. 1 ----------\n",
        "\n",
        "# logistic reg\n",
        "breast_cancer = load_breast_cancer()\n",
        "Z = breast_cancer.data\n",
        "t = breast_cancer.target\n",
        "np.random.seed(123)\n",
        "X_train, X_test, y_train, y_test = train_test_split(Z, t, test_size=0.2)\n",
        "\n",
        "# decision tree\n",
        "clf = DecisionTreeClassifier(max_depth=2, random_state=123)\n",
        "fit_obj = ns.RandomBagClassifier(clf, n_hidden_features=2,\n",
        "                                direct_link=True,\n",
        "                                n_estimators=100, \n",
        "                                col_sample=0.9, row_sample=0.9,\n",
        "                                dropout=0.3, n_clusters=0, verbose=1)\n",
        "\n",
        "start = time()\n",
        "fit_obj.fit(X_train, y_train)\n",
        "print(time() - start)\n",
        "print(fit_obj.score(X_test, y_test))\n",
        "print(fit_obj.score(X_test, y_test, scoring=\"roc_auc\"))\n",
        "\n",
        "\n",
        "start = time()\n",
        "preds = fit_obj.predict(X_test)\n",
        "print(time() - start)\n",
        "print(metrics.classification_report(preds, y_test))\n",
        "\n",
        "\n"
      ],
      "execution_count": 3,
      "outputs": [
        {
          "output_type": "stream",
          "text": [
            "100/100 [██████████████████████████████] - 1s 6ms/step\n",
            "0.630929708480835\n",
            "100/100 [██████████████████████████████] - 0s 367us/step\n",
            "0.9298245614035088\n",
            "100/100 [██████████████████████████████] - 0s 362us/step\n",
            "0.9077848312729703\n",
            "100/100 [██████████████████████████████] - 0s 360us/step\n",
            "0.037676095962524414\n",
            "              precision    recall  f1-score   support\n",
            "\n",
            "           0       0.83      0.97      0.89        35\n",
            "           1       0.99      0.91      0.95        79\n",
            "\n",
            "    accuracy                           0.93       114\n",
            "   macro avg       0.91      0.94      0.92       114\n",
            "weighted avg       0.94      0.93      0.93       114\n",
            "\n"
          ],
          "name": "stdout"
        }
      ]
    },
    {
      "cell_type": "code",
      "metadata": {
        "id": "hG9dStrw_K1J",
        "colab_type": "code",
        "outputId": "dccae755-9ae9-4256-bd56-d7755e477537",
        "colab": {
          "base_uri": "https://localhost:8080/",
          "height": 260
        }
      },
      "source": [
        "# dataset no. 2 ----------\n",
        "\n",
        "wine = load_wine()\n",
        "Z = wine.data\n",
        "t = wine.target\n",
        "np.random.seed(123)\n",
        "Z_train, Z_test, y_train, y_test = train_test_split(Z, t, test_size=0.2)\n",
        "\n",
        "clf = DecisionTreeClassifier(max_depth=2, random_state=123)\n",
        "fit_obj = ns.RandomBagClassifier(clf, n_hidden_features=5,\n",
        "                                direct_link=True,\n",
        "                                n_estimators=100, \n",
        "                                col_sample=0.5, row_sample=0.5,\n",
        "                                dropout=0.1, n_clusters=3, \n",
        "                                type_clust=\"gmm\", verbose=1)\n",
        "\n",
        "fit_obj.fit(Z_train, y_train)\n",
        "print(fit_obj.score(Z_test, y_test))\n",
        "\n",
        "preds = fit_obj.predict(Z_test)\n",
        "print(metrics.classification_report(preds, y_test))\n",
        "\n",
        "\n"
      ],
      "execution_count": 4,
      "outputs": [
        {
          "output_type": "stream",
          "text": [
            "100/100 [██████████████████████████████] - 1s 13ms/step\n",
            "100/100 [██████████████████████████████] - 0s 623us/step\n",
            "1.0\n",
            "100/100 [██████████████████████████████] - 0s 597us/step\n",
            "              precision    recall  f1-score   support\n",
            "\n",
            "           0       1.00      1.00      1.00         8\n",
            "           1       1.00      1.00      1.00        11\n",
            "           2       1.00      1.00      1.00        17\n",
            "\n",
            "    accuracy                           1.00        36\n",
            "   macro avg       1.00      1.00      1.00        36\n",
            "weighted avg       1.00      1.00      1.00        36\n",
            "\n"
          ],
          "name": "stdout"
        }
      ]
    },
    {
      "cell_type": "code",
      "metadata": {
        "id": "VGK8QEtW_Q-V",
        "colab_type": "code",
        "outputId": "e8352b18-1af1-4784-9e5e-ad3e62b548cf",
        "colab": {
          "base_uri": "https://localhost:8080/",
          "height": 34
        }
      },
      "source": [
        "# dataset no. 3 ----------\n",
        "\n",
        "iris = load_iris()\n",
        "Z = iris.data\n",
        "t = iris.target\n",
        "np.random.seed(123)\n",
        "Z_train, Z_test, y_train, y_test = train_test_split(Z, t, test_size=0.2)\n",
        "\n",
        "clf = LogisticRegression(solver='liblinear', multi_class = 'ovr', \n",
        "                         random_state=123)\n",
        "fit_obj = ns.RandomBagClassifier(clf, n_hidden_features=5,\n",
        "                                direct_link=False,\n",
        "                                n_estimators=100, \n",
        "                                col_sample=0.5, row_sample=0.5,\n",
        "                                dropout=0.1, n_clusters=0, verbose=0,\n",
        "                                n_jobs=1)\n",
        "\n",
        "fit_obj.fit(Z_train, y_train)\n",
        "# model accuracy on test set \n",
        "print(fit_obj.score(Z_test, y_test))\n",
        "\n"
      ],
      "execution_count": 5,
      "outputs": [
        {
          "output_type": "stream",
          "text": [
            "0.9333333333333333\n"
          ],
          "name": "stdout"
        }
      ]
    },
    {
      "cell_type": "code",
      "metadata": {
        "id": "PW_y6D06_VBz",
        "colab_type": "code",
        "outputId": "cb51f85c-5928-446b-a716-a013cd3ca029",
        "colab": {
          "base_uri": "https://localhost:8080/",
          "height": 243
        }
      },
      "source": [
        "\n",
        "# dataset no. 4 ----------\n",
        "\n",
        "X, y = make_classification(n_samples=2500, n_features=20, \n",
        "                                               random_state=783451)\n",
        "X_train, X_test, y_train, y_test = train_test_split(X, y, test_size=0.2, \n",
        "                                                    random_state=351452)\n",
        "\n",
        "clf = DecisionTreeClassifier(max_depth=1, random_state=123)\n",
        "fit_obj = ns.RandomBagClassifier(clf, n_hidden_features=5,\n",
        "                                direct_link=True,\n",
        "                                n_estimators=100, \n",
        "                                col_sample=0.5, row_sample=0.5,\n",
        "                                dropout=0.1, n_clusters=3, \n",
        "                                type_clust=\"gmm\", verbose=1)\n",
        "\n",
        "fit_obj.fit(X_train, y_train)\n",
        "print(fit_obj.score(X_test, y_test))\n",
        "\n",
        "preds = fit_obj.predict(X_test)\n",
        "print(metrics.classification_report(preds, y_test))\n"
      ],
      "execution_count": 6,
      "outputs": [
        {
          "output_type": "stream",
          "text": [
            "100/100 [██████████████████████████████] - 9s 85ms/step\n",
            "100/100 [██████████████████████████████] - 0s 1ms/step\n",
            "0.912\n",
            "100/100 [██████████████████████████████] - 0s 1ms/step\n",
            "              precision    recall  f1-score   support\n",
            "\n",
            "           0       0.88      0.96      0.91       246\n",
            "           1       0.95      0.87      0.91       254\n",
            "\n",
            "    accuracy                           0.91       500\n",
            "   macro avg       0.91      0.91      0.91       500\n",
            "weighted avg       0.92      0.91      0.91       500\n",
            "\n"
          ],
          "name": "stdout"
        }
      ]
    }
  ]
}