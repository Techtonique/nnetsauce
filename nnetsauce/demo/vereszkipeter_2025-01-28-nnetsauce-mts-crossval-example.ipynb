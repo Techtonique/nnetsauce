{
 "cells": [
  {
   "cell_type": "code",
   "execution_count": 121,
   "id": "18b94dd6",
   "metadata": {
    "_cell_guid": "76cc445f-125a-4539-9661-24c0025c36ad",
    "_uuid": "6ea69723-f050-4f8b-96c6-ece2e597b2b9",
    "execution": {
     "iopub.execute_input": "2025-01-28T09:54:26.071523Z",
     "iopub.status.busy": "2025-01-28T09:54:26.071025Z",
     "iopub.status.idle": "2025-01-28T09:54:39.155636Z",
     "shell.execute_reply": "2025-01-28T09:54:39.154323Z"
    },
    "papermill": {
     "duration": 13.092646,
     "end_time": "2025-01-28T09:54:39.157856",
     "exception": false,
     "start_time": "2025-01-28T09:54:26.065210",
     "status": "completed"
    },
    "tags": []
   },
   "outputs": [
    {
     "name": "stderr",
     "output_type": "stream",
     "text": [
      "Python(55812) MallocStackLogging: can't turn off malloc stack logging because it was not enabled.\n"
     ]
    },
    {
     "name": "stdout",
     "output_type": "stream",
     "text": [
      "Requirement already satisfied: pip in /Users/t/Documents/Python_Packages/nnetsauce/venv/lib/python3.11/site-packages (25.0)\n"
     ]
    },
    {
     "name": "stderr",
     "output_type": "stream",
     "text": [
      "Python(55841) MallocStackLogging: can't turn off malloc stack logging because it was not enabled.\n"
     ]
    },
    {
     "name": "stdout",
     "output_type": "stream",
     "text": [
      "Processing /Users/t/Documents/Python_Packages/nnetsauce\n",
      "  Preparing metadata (setup.py) ... \u001b[?25ldone\n",
      "\u001b[?25hRequirement already satisfied: joblib in /Users/t/Documents/Python_Packages/nnetsauce/venv/lib/python3.11/site-packages (from nnetsauce==0.30.4) (1.4.2)\n",
      "Requirement already satisfied: matplotlib in /Users/t/Documents/Python_Packages/nnetsauce/venv/lib/python3.11/site-packages (from nnetsauce==0.30.4) (3.10.0)\n",
      "Requirement already satisfied: numpy in /Users/t/Documents/Python_Packages/nnetsauce/venv/lib/python3.11/site-packages (from nnetsauce==0.30.4) (2.2.2)\n",
      "Requirement already satisfied: pandas in /Users/t/Documents/Python_Packages/nnetsauce/venv/lib/python3.11/site-packages (from nnetsauce==0.30.4) (2.2.3)\n",
      "Requirement already satisfied: requests in /Users/t/Documents/Python_Packages/nnetsauce/venv/lib/python3.11/site-packages (from nnetsauce==0.30.4) (2.32.3)\n",
      "Requirement already satisfied: scipy in /Users/t/Documents/Python_Packages/nnetsauce/venv/lib/python3.11/site-packages (from nnetsauce==0.30.4) (1.15.1)\n",
      "Requirement already satisfied: scikit-learn in /Users/t/Documents/Python_Packages/nnetsauce/venv/lib/python3.11/site-packages (from nnetsauce==0.30.4) (1.6.1)\n",
      "Requirement already satisfied: statsmodels in /Users/t/Documents/Python_Packages/nnetsauce/venv/lib/python3.11/site-packages (from nnetsauce==0.30.4) (0.14.4)\n",
      "Requirement already satisfied: threadpoolctl in /Users/t/Documents/Python_Packages/nnetsauce/venv/lib/python3.11/site-packages (from nnetsauce==0.30.4) (3.5.0)\n",
      "Requirement already satisfied: tqdm in /Users/t/Documents/Python_Packages/nnetsauce/venv/lib/python3.11/site-packages (from nnetsauce==0.30.4) (4.67.1)\n",
      "Requirement already satisfied: contourpy>=1.0.1 in /Users/t/Documents/Python_Packages/nnetsauce/venv/lib/python3.11/site-packages (from matplotlib->nnetsauce==0.30.4) (1.3.1)\n",
      "Requirement already satisfied: cycler>=0.10 in /Users/t/Documents/Python_Packages/nnetsauce/venv/lib/python3.11/site-packages (from matplotlib->nnetsauce==0.30.4) (0.12.1)\n",
      "Requirement already satisfied: fonttools>=4.22.0 in /Users/t/Documents/Python_Packages/nnetsauce/venv/lib/python3.11/site-packages (from matplotlib->nnetsauce==0.30.4) (4.55.4)\n",
      "Requirement already satisfied: kiwisolver>=1.3.1 in /Users/t/Documents/Python_Packages/nnetsauce/venv/lib/python3.11/site-packages (from matplotlib->nnetsauce==0.30.4) (1.4.8)\n",
      "Requirement already satisfied: packaging>=20.0 in /Users/t/Documents/Python_Packages/nnetsauce/venv/lib/python3.11/site-packages (from matplotlib->nnetsauce==0.30.4) (24.2)\n",
      "Requirement already satisfied: pillow>=8 in /Users/t/Documents/Python_Packages/nnetsauce/venv/lib/python3.11/site-packages (from matplotlib->nnetsauce==0.30.4) (11.1.0)\n",
      "Requirement already satisfied: pyparsing>=2.3.1 in /Users/t/Documents/Python_Packages/nnetsauce/venv/lib/python3.11/site-packages (from matplotlib->nnetsauce==0.30.4) (3.2.1)\n",
      "Requirement already satisfied: python-dateutil>=2.7 in /Users/t/Documents/Python_Packages/nnetsauce/venv/lib/python3.11/site-packages (from matplotlib->nnetsauce==0.30.4) (2.9.0.post0)\n",
      "Requirement already satisfied: pytz>=2020.1 in /Users/t/Documents/Python_Packages/nnetsauce/venv/lib/python3.11/site-packages (from pandas->nnetsauce==0.30.4) (2024.2)\n",
      "Requirement already satisfied: tzdata>=2022.7 in /Users/t/Documents/Python_Packages/nnetsauce/venv/lib/python3.11/site-packages (from pandas->nnetsauce==0.30.4) (2025.1)\n",
      "Requirement already satisfied: charset-normalizer<4,>=2 in /Users/t/Documents/Python_Packages/nnetsauce/venv/lib/python3.11/site-packages (from requests->nnetsauce==0.30.4) (3.4.1)\n",
      "Requirement already satisfied: idna<4,>=2.5 in /Users/t/Documents/Python_Packages/nnetsauce/venv/lib/python3.11/site-packages (from requests->nnetsauce==0.30.4) (3.10)\n",
      "Requirement already satisfied: urllib3<3,>=1.21.1 in /Users/t/Documents/Python_Packages/nnetsauce/venv/lib/python3.11/site-packages (from requests->nnetsauce==0.30.4) (2.3.0)\n",
      "Requirement already satisfied: certifi>=2017.4.17 in /Users/t/Documents/Python_Packages/nnetsauce/venv/lib/python3.11/site-packages (from requests->nnetsauce==0.30.4) (2024.12.14)\n",
      "Requirement already satisfied: patsy>=0.5.6 in /Users/t/Documents/Python_Packages/nnetsauce/venv/lib/python3.11/site-packages (from statsmodels->nnetsauce==0.30.4) (1.0.1)\n",
      "Requirement already satisfied: six>=1.5 in /Users/t/Documents/Python_Packages/nnetsauce/venv/lib/python3.11/site-packages (from python-dateutil>=2.7->matplotlib->nnetsauce==0.30.4) (1.17.0)\n",
      "Building wheels for collected packages: nnetsauce\n",
      "  Building wheel for nnetsauce (setup.py) ... \u001b[?25ldone\n",
      "\u001b[?25h  Created wheel for nnetsauce: filename=nnetsauce-0.30.4-py3-none-any.whl size=189590 sha256=56bb0f54e2b8348cc28881c8e3bb8ff2a03696cb2b6788bd881f6f24ff8b4bb9\n",
      "  Stored in directory: /private/var/folders/cp/q8d6040n3m38d22z3hkk1zc40000gn/T/pip-ephem-wheel-cache-6u81kmb0/wheels/1a/03/81/1cc0cae33e498e24d4eec5887a4e621a55002440ceebce517d\n",
      "Successfully built nnetsauce\n",
      "Installing collected packages: nnetsauce\n",
      "  Attempting uninstall: nnetsauce\n",
      "    Found existing installation: nnetsauce 0.30.4\n",
      "    Uninstalling nnetsauce-0.30.4:\n",
      "      Successfully uninstalled nnetsauce-0.30.4\n",
      "Successfully installed nnetsauce-0.30.4\n"
     ]
    }
   ],
   "source": [
    "!pip install --upgrade pip\n",
    "#!pip install -U git+https://github.com/Techtonique/nnetsauce.git\n",
    "#!pip install -U nnetsauce\n",
    "!pip install -U ../.. --no-cache-dir \n",
    "\n",
    "# Both pip and git tried no difference"
   ]
  },
  {
   "cell_type": "markdown",
   "id": "de22bad1",
   "metadata": {
    "papermill": {
     "duration": 0.004146,
     "end_time": "2025-01-28T09:54:39.166906",
     "exception": false,
     "start_time": "2025-01-28T09:54:39.162760",
     "status": "completed"
    },
    "tags": []
   },
   "source": [
    "### This code is copied from nnetasuce's MTS crross_val_score example:"
   ]
  },
  {
   "cell_type": "code",
   "execution_count": null,
   "id": "ee144e5a",
   "metadata": {},
   "outputs": [],
   "source": []
  },
  {
   "cell_type": "code",
   "execution_count": 122,
   "id": "6a3136a8",
   "metadata": {
    "_cell_guid": "76cc445f-125a-4539-9661-24c0025c36ad",
    "_uuid": "6ea69723-f050-4f8b-96c6-ece2e597b2b9",
    "collapsed": false,
    "execution": {
     "iopub.execute_input": "2025-01-28T09:54:39.177392Z",
     "iopub.status.busy": "2025-01-28T09:54:39.177028Z",
     "iopub.status.idle": "2025-01-28T09:54:48.751003Z",
     "shell.execute_reply": "2025-01-28T09:54:48.749366Z"
    },
    "jupyter": {
     "outputs_hidden": false
    },
    "papermill": {
     "duration": 9.581666,
     "end_time": "2025-01-28T09:54:48.753158",
     "exception": false,
     "start_time": "2025-01-28T09:54:39.171492",
     "status": "completed"
    },
    "tags": []
   },
   "outputs": [
    {
     "name": "stdout",
     "output_type": "stream",
     "text": [
      "     year  quarter  realgdp  realcons  realinv  realgovt  realdpi   cpi  \\\n",
      "0 1959.00     1.00  2710.35   1707.40   286.90    470.05  1886.90 28.98   \n",
      "1 1959.00     2.00  2778.80   1733.70   310.86    481.30  1919.70 29.15   \n",
      "2 1959.00     3.00  2775.49   1751.80   289.23    491.26  1916.40 29.35   \n",
      "3 1959.00     4.00  2785.20   1753.70   299.36    484.05  1931.30 29.37   \n",
      "4 1960.00     1.00  2847.70   1770.50   331.72    462.20  1955.50 29.54   \n",
      "\n",
      "      m1  tbilrate  unemp    pop  infl  realint  \n",
      "0 139.70      2.82   5.80 177.15  0.00     0.00  \n",
      "1 141.70      3.08   5.10 177.83  2.34     0.74  \n",
      "2 140.50      3.82   5.30 178.66  2.74     1.09  \n",
      "3 140.00      4.33   5.60 179.39  0.27     4.06  \n",
      "4 139.60      3.50   5.20 180.01  2.31     1.19  \n",
      "df_train.shape: (181, 3)\n"
     ]
    }
   ],
   "source": [
    "import os \n",
    "import nnetsauce as ns \n",
    "import numpy as np\n",
    "import pandas as pd\n",
    "import statsmodels.api as sm\n",
    "from sklearn.datasets import load_diabetes\n",
    "from sklearn.linear_model import ElasticNet, Ridge, LassoCV\n",
    "from sklearn.model_selection import train_test_split\n",
    "from statsmodels.tsa.base.datetools import dates_from_str\n",
    "from nnetsauce.utils.model_selection import cross_val_score\n",
    "\n",
    "#print(f\"\\n ----- Running: {os.path.basename(__file__)}... ----- \\n\")\n",
    "\n",
    "# some example data\n",
    "mdata = sm.datasets.macrodata.load_pandas().data\n",
    "# prepare the dates index\n",
    "dates = mdata[['year', 'quarter']].astype(int).astype(str)\n",
    "quarterly = dates[\"year\"] + \"Q\" + dates[\"quarter\"]\n",
    "quarterly = dates_from_str(quarterly)\n",
    "print(mdata.head())\n",
    "mdata = mdata[['realgovt', 'tbilrate', 'cpi']]\n",
    "mdata.index = pd.DatetimeIndex(quarterly)\n",
    "data = np.log(mdata).diff().dropna()\n",
    "\n",
    "n = data.shape[0]\n",
    "max_idx_train = np.floor(n*0.9)\n",
    "training_index = np.arange(0, max_idx_train)\n",
    "testing_index = np.arange(max_idx_train, n)\n",
    "df_train = data.iloc[training_index,:]\n",
    "df_test = data.iloc[testing_index,:]\n",
    "\n",
    "print(f\"df_train.shape: {df_train.shape}\")\n",
    "regr = Ridge()\n",
    "obj_MTS = ns.MTS(regr, lags = 3, \n",
    "                 n_hidden_features=7, \n",
    "                 seed=24, verbose = 0,\n",
    "                 show_progress=False)"
   ]
  },
  {
   "cell_type": "code",
   "execution_count": 123,
   "id": "6f84ef80",
   "metadata": {
    "execution": {
     "iopub.execute_input": "2025-01-28T09:54:48.764381Z",
     "iopub.status.busy": "2025-01-28T09:54:48.764003Z",
     "iopub.status.idle": "2025-01-28T09:54:48.768175Z",
     "shell.execute_reply": "2025-01-28T09:54:48.767202Z"
    },
    "papermill": {
     "duration": 0.011447,
     "end_time": "2025-01-28T09:54:48.769697",
     "exception": false,
     "start_time": "2025-01-28T09:54:48.758250",
     "status": "completed"
    },
    "tags": []
   },
   "outputs": [],
   "source": [
    "# Tried to set frequency for df_train but exception occurs\n",
    "#df_train = df_train.asfreq(\"QE\")\n",
    "\n",
    "# TM: Not sure what 'QE' does, stick to the examples in the documentation (otherwise, you could contribute this to the package)"
   ]
  },
  {
   "cell_type": "code",
   "execution_count": 124,
   "id": "4a5489a0",
   "metadata": {
    "execution": {
     "iopub.execute_input": "2025-01-28T09:54:48.780632Z",
     "iopub.status.busy": "2025-01-28T09:54:48.780227Z",
     "iopub.status.idle": "2025-01-28T09:54:48.879573Z",
     "shell.execute_reply": "2025-01-28T09:54:48.878453Z"
    },
    "papermill": {
     "duration": 0.107206,
     "end_time": "2025-01-28T09:54:48.881915",
     "exception": false,
     "start_time": "2025-01-28T09:54:48.774709",
     "status": "completed"
    },
    "tags": []
   },
   "outputs": [
    {
     "data": {
      "text/html": [
       "<style>#sk-container-id-11 {\n",
       "  /* Definition of color scheme common for light and dark mode */\n",
       "  --sklearn-color-text: #000;\n",
       "  --sklearn-color-text-muted: #666;\n",
       "  --sklearn-color-line: gray;\n",
       "  /* Definition of color scheme for unfitted estimators */\n",
       "  --sklearn-color-unfitted-level-0: #fff5e6;\n",
       "  --sklearn-color-unfitted-level-1: #f6e4d2;\n",
       "  --sklearn-color-unfitted-level-2: #ffe0b3;\n",
       "  --sklearn-color-unfitted-level-3: chocolate;\n",
       "  /* Definition of color scheme for fitted estimators */\n",
       "  --sklearn-color-fitted-level-0: #f0f8ff;\n",
       "  --sklearn-color-fitted-level-1: #d4ebff;\n",
       "  --sklearn-color-fitted-level-2: #b3dbfd;\n",
       "  --sklearn-color-fitted-level-3: cornflowerblue;\n",
       "\n",
       "  /* Specific color for light theme */\n",
       "  --sklearn-color-text-on-default-background: var(--sg-text-color, var(--theme-code-foreground, var(--jp-content-font-color1, black)));\n",
       "  --sklearn-color-background: var(--sg-background-color, var(--theme-background, var(--jp-layout-color0, white)));\n",
       "  --sklearn-color-border-box: var(--sg-text-color, var(--theme-code-foreground, var(--jp-content-font-color1, black)));\n",
       "  --sklearn-color-icon: #696969;\n",
       "\n",
       "  @media (prefers-color-scheme: dark) {\n",
       "    /* Redefinition of color scheme for dark theme */\n",
       "    --sklearn-color-text-on-default-background: var(--sg-text-color, var(--theme-code-foreground, var(--jp-content-font-color1, white)));\n",
       "    --sklearn-color-background: var(--sg-background-color, var(--theme-background, var(--jp-layout-color0, #111)));\n",
       "    --sklearn-color-border-box: var(--sg-text-color, var(--theme-code-foreground, var(--jp-content-font-color1, white)));\n",
       "    --sklearn-color-icon: #878787;\n",
       "  }\n",
       "}\n",
       "\n",
       "#sk-container-id-11 {\n",
       "  color: var(--sklearn-color-text);\n",
       "}\n",
       "\n",
       "#sk-container-id-11 pre {\n",
       "  padding: 0;\n",
       "}\n",
       "\n",
       "#sk-container-id-11 input.sk-hidden--visually {\n",
       "  border: 0;\n",
       "  clip: rect(1px 1px 1px 1px);\n",
       "  clip: rect(1px, 1px, 1px, 1px);\n",
       "  height: 1px;\n",
       "  margin: -1px;\n",
       "  overflow: hidden;\n",
       "  padding: 0;\n",
       "  position: absolute;\n",
       "  width: 1px;\n",
       "}\n",
       "\n",
       "#sk-container-id-11 div.sk-dashed-wrapped {\n",
       "  border: 1px dashed var(--sklearn-color-line);\n",
       "  margin: 0 0.4em 0.5em 0.4em;\n",
       "  box-sizing: border-box;\n",
       "  padding-bottom: 0.4em;\n",
       "  background-color: var(--sklearn-color-background);\n",
       "}\n",
       "\n",
       "#sk-container-id-11 div.sk-container {\n",
       "  /* jupyter's `normalize.less` sets `[hidden] { display: none; }`\n",
       "     but bootstrap.min.css set `[hidden] { display: none !important; }`\n",
       "     so we also need the `!important` here to be able to override the\n",
       "     default hidden behavior on the sphinx rendered scikit-learn.org.\n",
       "     See: https://github.com/scikit-learn/scikit-learn/issues/21755 */\n",
       "  display: inline-block !important;\n",
       "  position: relative;\n",
       "}\n",
       "\n",
       "#sk-container-id-11 div.sk-text-repr-fallback {\n",
       "  display: none;\n",
       "}\n",
       "\n",
       "div.sk-parallel-item,\n",
       "div.sk-serial,\n",
       "div.sk-item {\n",
       "  /* draw centered vertical line to link estimators */\n",
       "  background-image: linear-gradient(var(--sklearn-color-text-on-default-background), var(--sklearn-color-text-on-default-background));\n",
       "  background-size: 2px 100%;\n",
       "  background-repeat: no-repeat;\n",
       "  background-position: center center;\n",
       "}\n",
       "\n",
       "/* Parallel-specific style estimator block */\n",
       "\n",
       "#sk-container-id-11 div.sk-parallel-item::after {\n",
       "  content: \"\";\n",
       "  width: 100%;\n",
       "  border-bottom: 2px solid var(--sklearn-color-text-on-default-background);\n",
       "  flex-grow: 1;\n",
       "}\n",
       "\n",
       "#sk-container-id-11 div.sk-parallel {\n",
       "  display: flex;\n",
       "  align-items: stretch;\n",
       "  justify-content: center;\n",
       "  background-color: var(--sklearn-color-background);\n",
       "  position: relative;\n",
       "}\n",
       "\n",
       "#sk-container-id-11 div.sk-parallel-item {\n",
       "  display: flex;\n",
       "  flex-direction: column;\n",
       "}\n",
       "\n",
       "#sk-container-id-11 div.sk-parallel-item:first-child::after {\n",
       "  align-self: flex-end;\n",
       "  width: 50%;\n",
       "}\n",
       "\n",
       "#sk-container-id-11 div.sk-parallel-item:last-child::after {\n",
       "  align-self: flex-start;\n",
       "  width: 50%;\n",
       "}\n",
       "\n",
       "#sk-container-id-11 div.sk-parallel-item:only-child::after {\n",
       "  width: 0;\n",
       "}\n",
       "\n",
       "/* Serial-specific style estimator block */\n",
       "\n",
       "#sk-container-id-11 div.sk-serial {\n",
       "  display: flex;\n",
       "  flex-direction: column;\n",
       "  align-items: center;\n",
       "  background-color: var(--sklearn-color-background);\n",
       "  padding-right: 1em;\n",
       "  padding-left: 1em;\n",
       "}\n",
       "\n",
       "\n",
       "/* Toggleable style: style used for estimator/Pipeline/ColumnTransformer box that is\n",
       "clickable and can be expanded/collapsed.\n",
       "- Pipeline and ColumnTransformer use this feature and define the default style\n",
       "- Estimators will overwrite some part of the style using the `sk-estimator` class\n",
       "*/\n",
       "\n",
       "/* Pipeline and ColumnTransformer style (default) */\n",
       "\n",
       "#sk-container-id-11 div.sk-toggleable {\n",
       "  /* Default theme specific background. It is overwritten whether we have a\n",
       "  specific estimator or a Pipeline/ColumnTransformer */\n",
       "  background-color: var(--sklearn-color-background);\n",
       "}\n",
       "\n",
       "/* Toggleable label */\n",
       "#sk-container-id-11 label.sk-toggleable__label {\n",
       "  cursor: pointer;\n",
       "  display: flex;\n",
       "  width: 100%;\n",
       "  margin-bottom: 0;\n",
       "  padding: 0.5em;\n",
       "  box-sizing: border-box;\n",
       "  text-align: center;\n",
       "  align-items: start;\n",
       "  justify-content: space-between;\n",
       "  gap: 0.5em;\n",
       "}\n",
       "\n",
       "#sk-container-id-11 label.sk-toggleable__label .caption {\n",
       "  font-size: 0.6rem;\n",
       "  font-weight: lighter;\n",
       "  color: var(--sklearn-color-text-muted);\n",
       "}\n",
       "\n",
       "#sk-container-id-11 label.sk-toggleable__label-arrow:before {\n",
       "  /* Arrow on the left of the label */\n",
       "  content: \"▸\";\n",
       "  float: left;\n",
       "  margin-right: 0.25em;\n",
       "  color: var(--sklearn-color-icon);\n",
       "}\n",
       "\n",
       "#sk-container-id-11 label.sk-toggleable__label-arrow:hover:before {\n",
       "  color: var(--sklearn-color-text);\n",
       "}\n",
       "\n",
       "/* Toggleable content - dropdown */\n",
       "\n",
       "#sk-container-id-11 div.sk-toggleable__content {\n",
       "  max-height: 0;\n",
       "  max-width: 0;\n",
       "  overflow: hidden;\n",
       "  text-align: left;\n",
       "  /* unfitted */\n",
       "  background-color: var(--sklearn-color-unfitted-level-0);\n",
       "}\n",
       "\n",
       "#sk-container-id-11 div.sk-toggleable__content.fitted {\n",
       "  /* fitted */\n",
       "  background-color: var(--sklearn-color-fitted-level-0);\n",
       "}\n",
       "\n",
       "#sk-container-id-11 div.sk-toggleable__content pre {\n",
       "  margin: 0.2em;\n",
       "  border-radius: 0.25em;\n",
       "  color: var(--sklearn-color-text);\n",
       "  /* unfitted */\n",
       "  background-color: var(--sklearn-color-unfitted-level-0);\n",
       "}\n",
       "\n",
       "#sk-container-id-11 div.sk-toggleable__content.fitted pre {\n",
       "  /* unfitted */\n",
       "  background-color: var(--sklearn-color-fitted-level-0);\n",
       "}\n",
       "\n",
       "#sk-container-id-11 input.sk-toggleable__control:checked~div.sk-toggleable__content {\n",
       "  /* Expand drop-down */\n",
       "  max-height: 200px;\n",
       "  max-width: 100%;\n",
       "  overflow: auto;\n",
       "}\n",
       "\n",
       "#sk-container-id-11 input.sk-toggleable__control:checked~label.sk-toggleable__label-arrow:before {\n",
       "  content: \"▾\";\n",
       "}\n",
       "\n",
       "/* Pipeline/ColumnTransformer-specific style */\n",
       "\n",
       "#sk-container-id-11 div.sk-label input.sk-toggleable__control:checked~label.sk-toggleable__label {\n",
       "  color: var(--sklearn-color-text);\n",
       "  background-color: var(--sklearn-color-unfitted-level-2);\n",
       "}\n",
       "\n",
       "#sk-container-id-11 div.sk-label.fitted input.sk-toggleable__control:checked~label.sk-toggleable__label {\n",
       "  background-color: var(--sklearn-color-fitted-level-2);\n",
       "}\n",
       "\n",
       "/* Estimator-specific style */\n",
       "\n",
       "/* Colorize estimator box */\n",
       "#sk-container-id-11 div.sk-estimator input.sk-toggleable__control:checked~label.sk-toggleable__label {\n",
       "  /* unfitted */\n",
       "  background-color: var(--sklearn-color-unfitted-level-2);\n",
       "}\n",
       "\n",
       "#sk-container-id-11 div.sk-estimator.fitted input.sk-toggleable__control:checked~label.sk-toggleable__label {\n",
       "  /* fitted */\n",
       "  background-color: var(--sklearn-color-fitted-level-2);\n",
       "}\n",
       "\n",
       "#sk-container-id-11 div.sk-label label.sk-toggleable__label,\n",
       "#sk-container-id-11 div.sk-label label {\n",
       "  /* The background is the default theme color */\n",
       "  color: var(--sklearn-color-text-on-default-background);\n",
       "}\n",
       "\n",
       "/* On hover, darken the color of the background */\n",
       "#sk-container-id-11 div.sk-label:hover label.sk-toggleable__label {\n",
       "  color: var(--sklearn-color-text);\n",
       "  background-color: var(--sklearn-color-unfitted-level-2);\n",
       "}\n",
       "\n",
       "/* Label box, darken color on hover, fitted */\n",
       "#sk-container-id-11 div.sk-label.fitted:hover label.sk-toggleable__label.fitted {\n",
       "  color: var(--sklearn-color-text);\n",
       "  background-color: var(--sklearn-color-fitted-level-2);\n",
       "}\n",
       "\n",
       "/* Estimator label */\n",
       "\n",
       "#sk-container-id-11 div.sk-label label {\n",
       "  font-family: monospace;\n",
       "  font-weight: bold;\n",
       "  display: inline-block;\n",
       "  line-height: 1.2em;\n",
       "}\n",
       "\n",
       "#sk-container-id-11 div.sk-label-container {\n",
       "  text-align: center;\n",
       "}\n",
       "\n",
       "/* Estimator-specific */\n",
       "#sk-container-id-11 div.sk-estimator {\n",
       "  font-family: monospace;\n",
       "  border: 1px dotted var(--sklearn-color-border-box);\n",
       "  border-radius: 0.25em;\n",
       "  box-sizing: border-box;\n",
       "  margin-bottom: 0.5em;\n",
       "  /* unfitted */\n",
       "  background-color: var(--sklearn-color-unfitted-level-0);\n",
       "}\n",
       "\n",
       "#sk-container-id-11 div.sk-estimator.fitted {\n",
       "  /* fitted */\n",
       "  background-color: var(--sklearn-color-fitted-level-0);\n",
       "}\n",
       "\n",
       "/* on hover */\n",
       "#sk-container-id-11 div.sk-estimator:hover {\n",
       "  /* unfitted */\n",
       "  background-color: var(--sklearn-color-unfitted-level-2);\n",
       "}\n",
       "\n",
       "#sk-container-id-11 div.sk-estimator.fitted:hover {\n",
       "  /* fitted */\n",
       "  background-color: var(--sklearn-color-fitted-level-2);\n",
       "}\n",
       "\n",
       "/* Specification for estimator info (e.g. \"i\" and \"?\") */\n",
       "\n",
       "/* Common style for \"i\" and \"?\" */\n",
       "\n",
       ".sk-estimator-doc-link,\n",
       "a:link.sk-estimator-doc-link,\n",
       "a:visited.sk-estimator-doc-link {\n",
       "  float: right;\n",
       "  font-size: smaller;\n",
       "  line-height: 1em;\n",
       "  font-family: monospace;\n",
       "  background-color: var(--sklearn-color-background);\n",
       "  border-radius: 1em;\n",
       "  height: 1em;\n",
       "  width: 1em;\n",
       "  text-decoration: none !important;\n",
       "  margin-left: 0.5em;\n",
       "  text-align: center;\n",
       "  /* unfitted */\n",
       "  border: var(--sklearn-color-unfitted-level-1) 1pt solid;\n",
       "  color: var(--sklearn-color-unfitted-level-1);\n",
       "}\n",
       "\n",
       ".sk-estimator-doc-link.fitted,\n",
       "a:link.sk-estimator-doc-link.fitted,\n",
       "a:visited.sk-estimator-doc-link.fitted {\n",
       "  /* fitted */\n",
       "  border: var(--sklearn-color-fitted-level-1) 1pt solid;\n",
       "  color: var(--sklearn-color-fitted-level-1);\n",
       "}\n",
       "\n",
       "/* On hover */\n",
       "div.sk-estimator:hover .sk-estimator-doc-link:hover,\n",
       ".sk-estimator-doc-link:hover,\n",
       "div.sk-label-container:hover .sk-estimator-doc-link:hover,\n",
       ".sk-estimator-doc-link:hover {\n",
       "  /* unfitted */\n",
       "  background-color: var(--sklearn-color-unfitted-level-3);\n",
       "  color: var(--sklearn-color-background);\n",
       "  text-decoration: none;\n",
       "}\n",
       "\n",
       "div.sk-estimator.fitted:hover .sk-estimator-doc-link.fitted:hover,\n",
       ".sk-estimator-doc-link.fitted:hover,\n",
       "div.sk-label-container:hover .sk-estimator-doc-link.fitted:hover,\n",
       ".sk-estimator-doc-link.fitted:hover {\n",
       "  /* fitted */\n",
       "  background-color: var(--sklearn-color-fitted-level-3);\n",
       "  color: var(--sklearn-color-background);\n",
       "  text-decoration: none;\n",
       "}\n",
       "\n",
       "/* Span, style for the box shown on hovering the info icon */\n",
       ".sk-estimator-doc-link span {\n",
       "  display: none;\n",
       "  z-index: 9999;\n",
       "  position: relative;\n",
       "  font-weight: normal;\n",
       "  right: .2ex;\n",
       "  padding: .5ex;\n",
       "  margin: .5ex;\n",
       "  width: min-content;\n",
       "  min-width: 20ex;\n",
       "  max-width: 50ex;\n",
       "  color: var(--sklearn-color-text);\n",
       "  box-shadow: 2pt 2pt 4pt #999;\n",
       "  /* unfitted */\n",
       "  background: var(--sklearn-color-unfitted-level-0);\n",
       "  border: .5pt solid var(--sklearn-color-unfitted-level-3);\n",
       "}\n",
       "\n",
       ".sk-estimator-doc-link.fitted span {\n",
       "  /* fitted */\n",
       "  background: var(--sklearn-color-fitted-level-0);\n",
       "  border: var(--sklearn-color-fitted-level-3);\n",
       "}\n",
       "\n",
       ".sk-estimator-doc-link:hover span {\n",
       "  display: block;\n",
       "}\n",
       "\n",
       "/* \"?\"-specific style due to the `<a>` HTML tag */\n",
       "\n",
       "#sk-container-id-11 a.estimator_doc_link {\n",
       "  float: right;\n",
       "  font-size: 1rem;\n",
       "  line-height: 1em;\n",
       "  font-family: monospace;\n",
       "  background-color: var(--sklearn-color-background);\n",
       "  border-radius: 1rem;\n",
       "  height: 1rem;\n",
       "  width: 1rem;\n",
       "  text-decoration: none;\n",
       "  /* unfitted */\n",
       "  color: var(--sklearn-color-unfitted-level-1);\n",
       "  border: var(--sklearn-color-unfitted-level-1) 1pt solid;\n",
       "}\n",
       "\n",
       "#sk-container-id-11 a.estimator_doc_link.fitted {\n",
       "  /* fitted */\n",
       "  border: var(--sklearn-color-fitted-level-1) 1pt solid;\n",
       "  color: var(--sklearn-color-fitted-level-1);\n",
       "}\n",
       "\n",
       "/* On hover */\n",
       "#sk-container-id-11 a.estimator_doc_link:hover {\n",
       "  /* unfitted */\n",
       "  background-color: var(--sklearn-color-unfitted-level-3);\n",
       "  color: var(--sklearn-color-background);\n",
       "  text-decoration: none;\n",
       "}\n",
       "\n",
       "#sk-container-id-11 a.estimator_doc_link.fitted:hover {\n",
       "  /* fitted */\n",
       "  background-color: var(--sklearn-color-fitted-level-3);\n",
       "}\n",
       "</style><div id=\"sk-container-id-11\" class=\"sk-top-container\"><div class=\"sk-text-repr-fallback\"><pre>MTS(lags=3, n_hidden_features=7, obj=Ridge(), seed=24, show_progress=False)</pre><b>In a Jupyter environment, please rerun this cell to show the HTML representation or trust the notebook. <br />On GitHub, the HTML representation is unable to render, please try loading this page with nbviewer.org.</b></div><div class=\"sk-container\" hidden><div class=\"sk-item sk-dashed-wrapped\"><div class=\"sk-label-container\"><div class=\"sk-label fitted sk-toggleable\"><input class=\"sk-toggleable__control sk-hidden--visually\" id=\"sk-estimator-id-31\" type=\"checkbox\" ><label for=\"sk-estimator-id-31\" class=\"sk-toggleable__label fitted sk-toggleable__label-arrow\"><div><div>MTS</div></div><div><span class=\"sk-estimator-doc-link fitted\">i<span>Fitted</span></span></div></label><div class=\"sk-toggleable__content fitted\"><pre>MTS(lags=3, n_hidden_features=7, obj=Ridge(), seed=24, show_progress=False)</pre></div> </div></div><div class=\"sk-parallel\"><div class=\"sk-parallel-item\"><div class=\"sk-item\"><div class=\"sk-label-container\"><div class=\"sk-label fitted sk-toggleable\"><input class=\"sk-toggleable__control sk-hidden--visually\" id=\"sk-estimator-id-32\" type=\"checkbox\" ><label for=\"sk-estimator-id-32\" class=\"sk-toggleable__label fitted sk-toggleable__label-arrow\"><div><div>obj: Ridge</div></div></label><div class=\"sk-toggleable__content fitted\"><pre>Ridge()</pre></div> </div></div><div class=\"sk-serial\"><div class=\"sk-item\"><div class=\"sk-estimator fitted sk-toggleable\"><input class=\"sk-toggleable__control sk-hidden--visually\" id=\"sk-estimator-id-33\" type=\"checkbox\" ><label for=\"sk-estimator-id-33\" class=\"sk-toggleable__label fitted sk-toggleable__label-arrow\"><div><div>Ridge</div></div><div><a class=\"sk-estimator-doc-link fitted\" rel=\"noreferrer\" target=\"_blank\" href=\"https://scikit-learn.org/1.6/modules/generated/sklearn.linear_model.Ridge.html\">?<span>Documentation for Ridge</span></a></div></label><div class=\"sk-toggleable__content fitted\"><pre>Ridge()</pre></div> </div></div></div></div></div></div></div></div></div>"
      ],
      "text/plain": [
       "MTS(lags=3, n_hidden_features=7, obj=Ridge(), seed=24, show_progress=False)"
      ]
     },
     "execution_count": 124,
     "metadata": {},
     "output_type": "execute_result"
    }
   ],
   "source": [
    "obj_MTS.fit(df_train)"
   ]
  },
  {
   "cell_type": "code",
   "execution_count": 125,
   "id": "855886df",
   "metadata": {
    "execution": {
     "iopub.execute_input": "2025-01-28T09:54:48.893181Z",
     "iopub.status.busy": "2025-01-28T09:54:48.892672Z",
     "iopub.status.idle": "2025-01-28T09:54:48.900827Z",
     "shell.execute_reply": "2025-01-28T09:54:48.899666Z"
    },
    "papermill": {
     "duration": 0.015427,
     "end_time": "2025-01-28T09:54:48.902472",
     "exception": false,
     "start_time": "2025-01-28T09:54:48.887045",
     "status": "completed"
    },
    "tags": []
   },
   "outputs": [
    {
     "data": {
      "text/plain": [
       "0      1959-06-30\n",
       "1      1959-09-30\n",
       "2      1959-12-31\n",
       "3      1960-03-31\n",
       "4      1960-06-30\n",
       "          ...    \n",
       "176    2003-06-30\n",
       "177    2003-09-30\n",
       "178    2003-12-31\n",
       "179    2004-03-31\n",
       "180    2004-06-30\n",
       "Name: date, Length: 181, dtype: object"
      ]
     },
     "execution_count": 125,
     "metadata": {},
     "output_type": "execute_result"
    }
   ],
   "source": [
    "obj_MTS.input_dates\n",
    "# Here we see the quarterly dates as in `quarterly` object"
   ]
  },
  {
   "cell_type": "code",
   "execution_count": null,
   "id": "523ab72e",
   "metadata": {},
   "outputs": [],
   "source": []
  },
  {
   "cell_type": "code",
   "execution_count": 126,
   "id": "5dc8db17",
   "metadata": {
    "execution": {
     "iopub.execute_input": "2025-01-28T09:54:48.913703Z",
     "iopub.status.busy": "2025-01-28T09:54:48.913291Z",
     "iopub.status.idle": "2025-01-28T09:54:48.932465Z",
     "shell.execute_reply": "2025-01-28T09:54:48.931145Z"
    },
    "papermill": {
     "duration": 0.027199,
     "end_time": "2025-01-28T09:54:48.934777",
     "exception": false,
     "start_time": "2025-01-28T09:54:48.907578",
     "status": "completed"
    },
    "tags": []
   },
   "outputs": [
    {
     "name": "stdout",
     "output_type": "stream",
     "text": [
      "            realgovt  tbilrate  cpi\n",
      "date                               \n",
      "2004-09-30      0.00      0.04 0.01\n",
      "2004-12-31      0.00     -0.05 0.01\n",
      "2005-03-31      0.00      0.02 0.01\n",
      "2005-06-30      0.00      0.03 0.01\n",
      "2005-09-30      0.00      0.00 0.01\n",
      "2005-12-31      0.00      0.01 0.01\n",
      "2006-03-31      0.00      0.02 0.01\n",
      "2006-06-30     -0.00      0.02 0.01\n",
      "2006-09-30     -0.00      0.02 0.01\n",
      "2006-12-31     -0.00      0.02 0.01\n"
     ]
    }
   ],
   "source": [
    "print(obj_MTS.predict(h=10))\n",
    "# The output is right!"
   ]
  },
  {
   "cell_type": "code",
   "execution_count": 127,
   "id": "47ad5a40",
   "metadata": {},
   "outputs": [],
   "source": [
    "# obj_MTS.plot(\"realgovt\") # if we want this to work, we need to ask for probabilistic forecasts at the beginning"
   ]
  },
  {
   "cell_type": "code",
   "execution_count": 128,
   "id": "ac3b2483",
   "metadata": {
    "execution": {
     "iopub.execute_input": "2025-01-28T09:54:48.946427Z",
     "iopub.status.busy": "2025-01-28T09:54:48.946036Z",
     "iopub.status.idle": "2025-01-28T09:54:48.952883Z",
     "shell.execute_reply": "2025-01-28T09:54:48.951574Z"
    },
    "papermill": {
     "duration": 0.014677,
     "end_time": "2025-01-28T09:54:48.954818",
     "exception": false,
     "start_time": "2025-01-28T09:54:48.940141",
     "status": "completed"
    },
    "tags": []
   },
   "outputs": [
    {
     "data": {
      "text/plain": [
       "0    2004-09-30\n",
       "1    2004-12-31\n",
       "2    2005-03-31\n",
       "3    2005-06-30\n",
       "4    2005-09-30\n",
       "5    2005-12-31\n",
       "6    2006-03-31\n",
       "7    2006-06-30\n",
       "8    2006-09-30\n",
       "9    2006-12-31\n",
       "Name: date, dtype: object"
      ]
     },
     "execution_count": 128,
     "metadata": {},
     "output_type": "execute_result"
    }
   ],
   "source": [
    "obj_MTS.output_dates_\n",
    "# The same"
   ]
  },
  {
   "cell_type": "code",
   "execution_count": 129,
   "id": "14a2999e",
   "metadata": {
    "_cell_guid": "76cc445f-125a-4539-9661-24c0025c36ad",
    "_uuid": "6ea69723-f050-4f8b-96c6-ece2e597b2b9",
    "collapsed": false,
    "execution": {
     "iopub.execute_input": "2025-01-28T09:54:48.966720Z",
     "iopub.status.busy": "2025-01-28T09:54:48.966240Z",
     "iopub.status.idle": "2025-01-28T09:54:49.506466Z",
     "shell.execute_reply": "2025-01-28T09:54:49.504976Z"
    },
    "jupyter": {
     "outputs_hidden": false
    },
    "papermill": {
     "duration": 0.548349,
     "end_time": "2025-01-28T09:54:49.508381",
     "exception": false,
     "start_time": "2025-01-28T09:54:48.960032",
     "status": "completed"
    },
    "tags": []
   },
   "outputs": [
    {
     "name": "stderr",
     "output_type": "stream",
     "text": [
      "  0%|          | 0/77 [00:00<?, ?it/s]"
     ]
    },
    {
     "name": "stdout",
     "output_type": "stream",
     "text": [
      "TRAIN: [ 0  1  2  3  4  5  6  7  8  9 10 11 12 13 14 15 16 17 18 19 20 21 22 23\n",
      " 24 25 26 27 28 29 30 31 32 33 34 35 36 37 38 39 40 41 42 43 44 45 46 47\n",
      " 48 49 50 51 52 53 54 55 56 57 58 59 60 61 62 63 64 65 66 67 68 69 70 71\n",
      " 72 73 74 75 76 77 78 79 80 81 82 83 84 85 86 87 88 89 90 91 92 93 94 95\n",
      " 96 97 98 99]\n",
      "TEST: [100 101 102 103 104]\n"
     ]
    },
    {
     "name": "stderr",
     "output_type": "stream",
     "text": [
      "  1%|▏         | 1/77 [00:01<01:35,  1.25s/it]"
     ]
    },
    {
     "name": "stdout",
     "output_type": "stream",
     "text": [
      "TRAIN: [  0   1   2   3   4   5   6   7   8   9  10  11  12  13  14  15  16  17\n",
      "  18  19  20  21  22  23  24  25  26  27  28  29  30  31  32  33  34  35\n",
      "  36  37  38  39  40  41  42  43  44  45  46  47  48  49  50  51  52  53\n",
      "  54  55  56  57  58  59  60  61  62  63  64  65  66  67  68  69  70  71\n",
      "  72  73  74  75  76  77  78  79  80  81  82  83  84  85  86  87  88  89\n",
      "  90  91  92  93  94  95  96  97  98  99 100]\n",
      "TEST: [101 102 103 104 105]\n"
     ]
    },
    {
     "name": "stderr",
     "output_type": "stream",
     "text": [
      "  3%|▎         | 2/77 [00:01<01:03,  1.18it/s]"
     ]
    },
    {
     "name": "stdout",
     "output_type": "stream",
     "text": [
      "TRAIN: [  0   1   2   3   4   5   6   7   8   9  10  11  12  13  14  15  16  17\n",
      "  18  19  20  21  22  23  24  25  26  27  28  29  30  31  32  33  34  35\n",
      "  36  37  38  39  40  41  42  43  44  45  46  47  48  49  50  51  52  53\n",
      "  54  55  56  57  58  59  60  61  62  63  64  65  66  67  68  69  70  71\n",
      "  72  73  74  75  76  77  78  79  80  81  82  83  84  85  86  87  88  89\n",
      "  90  91  92  93  94  95  96  97  98  99 100 101]\n",
      "TEST: [102 103 104 105 106]\n"
     ]
    },
    {
     "name": "stderr",
     "output_type": "stream",
     "text": [
      "  4%|▍         | 3/77 [00:02<00:47,  1.56it/s]"
     ]
    },
    {
     "name": "stdout",
     "output_type": "stream",
     "text": [
      "TRAIN: [  0   1   2   3   4   5   6   7   8   9  10  11  12  13  14  15  16  17\n",
      "  18  19  20  21  22  23  24  25  26  27  28  29  30  31  32  33  34  35\n",
      "  36  37  38  39  40  41  42  43  44  45  46  47  48  49  50  51  52  53\n",
      "  54  55  56  57  58  59  60  61  62  63  64  65  66  67  68  69  70  71\n",
      "  72  73  74  75  76  77  78  79  80  81  82  83  84  85  86  87  88  89\n",
      "  90  91  92  93  94  95  96  97  98  99 100 101 102]\n",
      "TEST: [103 104 105 106 107]\n"
     ]
    },
    {
     "name": "stderr",
     "output_type": "stream",
     "text": [
      "  5%|▌         | 4/77 [00:02<00:41,  1.77it/s]"
     ]
    },
    {
     "name": "stdout",
     "output_type": "stream",
     "text": [
      "TRAIN: [  0   1   2   3   4   5   6   7   8   9  10  11  12  13  14  15  16  17\n",
      "  18  19  20  21  22  23  24  25  26  27  28  29  30  31  32  33  34  35\n",
      "  36  37  38  39  40  41  42  43  44  45  46  47  48  49  50  51  52  53\n",
      "  54  55  56  57  58  59  60  61  62  63  64  65  66  67  68  69  70  71\n",
      "  72  73  74  75  76  77  78  79  80  81  82  83  84  85  86  87  88  89\n",
      "  90  91  92  93  94  95  96  97  98  99 100 101 102 103]\n",
      "TEST: [104 105 106 107 108]\n"
     ]
    },
    {
     "name": "stderr",
     "output_type": "stream",
     "text": [
      "  6%|▋         | 5/77 [00:03<00:50,  1.42it/s]"
     ]
    },
    {
     "name": "stdout",
     "output_type": "stream",
     "text": [
      "TRAIN: [  0   1   2   3   4   5   6   7   8   9  10  11  12  13  14  15  16  17\n",
      "  18  19  20  21  22  23  24  25  26  27  28  29  30  31  32  33  34  35\n",
      "  36  37  38  39  40  41  42  43  44  45  46  47  48  49  50  51  52  53\n",
      "  54  55  56  57  58  59  60  61  62  63  64  65  66  67  68  69  70  71\n",
      "  72  73  74  75  76  77  78  79  80  81  82  83  84  85  86  87  88  89\n",
      "  90  91  92  93  94  95  96  97  98  99 100 101 102 103 104]\n",
      "TEST: [105 106 107 108 109]\n"
     ]
    },
    {
     "name": "stderr",
     "output_type": "stream",
     "text": [
      "  8%|▊         | 6/77 [00:05<01:12,  1.02s/it]"
     ]
    },
    {
     "name": "stdout",
     "output_type": "stream",
     "text": [
      "TRAIN: [  0   1   2   3   4   5   6   7   8   9  10  11  12  13  14  15  16  17\n",
      "  18  19  20  21  22  23  24  25  26  27  28  29  30  31  32  33  34  35\n",
      "  36  37  38  39  40  41  42  43  44  45  46  47  48  49  50  51  52  53\n",
      "  54  55  56  57  58  59  60  61  62  63  64  65  66  67  68  69  70  71\n",
      "  72  73  74  75  76  77  78  79  80  81  82  83  84  85  86  87  88  89\n",
      "  90  91  92  93  94  95  96  97  98  99 100 101 102 103 104 105]\n",
      "TEST: [106 107 108 109 110]\n"
     ]
    },
    {
     "name": "stderr",
     "output_type": "stream",
     "text": [
      "  9%|▉         | 7/77 [00:06<01:05,  1.07it/s]"
     ]
    },
    {
     "name": "stdout",
     "output_type": "stream",
     "text": [
      "TRAIN: [  0   1   2   3   4   5   6   7   8   9  10  11  12  13  14  15  16  17\n",
      "  18  19  20  21  22  23  24  25  26  27  28  29  30  31  32  33  34  35\n",
      "  36  37  38  39  40  41  42  43  44  45  46  47  48  49  50  51  52  53\n",
      "  54  55  56  57  58  59  60  61  62  63  64  65  66  67  68  69  70  71\n",
      "  72  73  74  75  76  77  78  79  80  81  82  83  84  85  86  87  88  89\n",
      "  90  91  92  93  94  95  96  97  98  99 100 101 102 103 104 105 106]\n",
      "TEST: [107 108 109 110 111]\n"
     ]
    },
    {
     "name": "stderr",
     "output_type": "stream",
     "text": [
      " 10%|█         | 8/77 [00:06<00:56,  1.22it/s]"
     ]
    },
    {
     "name": "stdout",
     "output_type": "stream",
     "text": [
      "TRAIN: [  0   1   2   3   4   5   6   7   8   9  10  11  12  13  14  15  16  17\n",
      "  18  19  20  21  22  23  24  25  26  27  28  29  30  31  32  33  34  35\n",
      "  36  37  38  39  40  41  42  43  44  45  46  47  48  49  50  51  52  53\n",
      "  54  55  56  57  58  59  60  61  62  63  64  65  66  67  68  69  70  71\n",
      "  72  73  74  75  76  77  78  79  80  81  82  83  84  85  86  87  88  89\n",
      "  90  91  92  93  94  95  96  97  98  99 100 101 102 103 104 105 106 107]\n",
      "TEST: [108 109 110 111 112]\n"
     ]
    },
    {
     "name": "stderr",
     "output_type": "stream",
     "text": [
      " 12%|█▏        | 9/77 [00:07<00:55,  1.22it/s]\n"
     ]
    },
    {
     "name": "stdout",
     "output_type": "stream",
     "text": [
      "TRAIN: [  0   1   2   3   4   5   6   7   8   9  10  11  12  13  14  15  16  17\n",
      "  18  19  20  21  22  23  24  25  26  27  28  29  30  31  32  33  34  35\n",
      "  36  37  38  39  40  41  42  43  44  45  46  47  48  49  50  51  52  53\n",
      "  54  55  56  57  58  59  60  61  62  63  64  65  66  67  68  69  70  71\n",
      "  72  73  74  75  76  77  78  79  80  81  82  83  84  85  86  87  88  89\n",
      "  90  91  92  93  94  95  96  97  98  99 100 101 102 103 104 105 106 107\n",
      " 108]\n",
      "TEST: [109 110 111 112 113]\n"
     ]
    },
    {
     "ename": "OutOfBoundsDatetime",
     "evalue": "Out of bounds timestamp: 2265-09-30 00:00:00 with frequency 'ns'",
     "output_type": "error",
     "traceback": [
      "\u001b[0;31m---------------------------------------------------------------------------\u001b[0m",
      "\u001b[0;31mOverflowError\u001b[0m                             Traceback (most recent call last)",
      "File \u001b[0;32mtimestamps.pyx:2476\u001b[0m, in \u001b[0;36mpandas._libs.tslibs.timestamps.Timestamp.replace\u001b[0;34m()\u001b[0m\n",
      "\u001b[0;31mOverflowError\u001b[0m: Overflow occurred in npy_datetimestruct_to_datetime",
      "\nThe above exception was the direct cause of the following exception:\n",
      "\u001b[0;31mOutOfBoundsDatetime\u001b[0m                       Traceback (most recent call last)",
      "Cell \u001b[0;32mIn[129], line 2\u001b[0m\n\u001b[1;32m      1\u001b[0m \u001b[38;5;66;03m#try:\u001b[39;00m\n\u001b[0;32m----> 2\u001b[0m \u001b[38;5;28mprint\u001b[39m(\u001b[43mobj_MTS\u001b[49m\u001b[38;5;241;43m.\u001b[39;49m\u001b[43mcross_val_score\u001b[49m\u001b[43m(\u001b[49m\u001b[43mdf_train\u001b[49m\u001b[43m,\u001b[49m\u001b[43m                         \u001b[49m\n\u001b[1;32m      3\u001b[0m \u001b[43m        \u001b[49m\u001b[43mn_jobs\u001b[49m\u001b[38;5;241;43m=\u001b[39;49m\u001b[38;5;28;43;01mNone\u001b[39;49;00m\u001b[43m,\u001b[49m\u001b[43m \u001b[49m\n\u001b[1;32m      4\u001b[0m \u001b[43m        \u001b[49m\u001b[43mverbose\u001b[49m\u001b[43m \u001b[49m\u001b[38;5;241;43m=\u001b[39;49m\u001b[43m \u001b[49m\u001b[38;5;241;43m1\u001b[39;49m\u001b[43m,\u001b[49m\n\u001b[1;32m      5\u001b[0m \u001b[43m        \u001b[49m\u001b[43minitial_window\u001b[49m\u001b[38;5;241;43m=\u001b[39;49m\u001b[38;5;241;43m100\u001b[39;49m\u001b[43m,\u001b[49m\n\u001b[1;32m      6\u001b[0m \u001b[43m        \u001b[49m\u001b[43mhorizon\u001b[49m\u001b[38;5;241;43m=\u001b[39;49m\u001b[38;5;241;43m5\u001b[39;49m\u001b[43m,\u001b[49m\n\u001b[1;32m      7\u001b[0m \u001b[43m        \u001b[49m\u001b[43mfixed_window\u001b[49m\u001b[38;5;241;43m=\u001b[39;49m\u001b[38;5;28;43;01mFalse\u001b[39;49;00m\u001b[43m,\u001b[49m\u001b[43m                         \u001b[49m\n\u001b[1;32m      8\u001b[0m \u001b[43m        \u001b[49m\u001b[43mshow_progress\u001b[49m\u001b[38;5;241;43m=\u001b[39;49m\u001b[38;5;28;43;01mTrue\u001b[39;49;00m\u001b[43m)\u001b[49m)\n\u001b[1;32m     10\u001b[0m \u001b[38;5;66;03m#except Exception as e:\u001b[39;00m\n\u001b[1;32m     11\u001b[0m \u001b[38;5;66;03m#    print(\"\\nException occurred:\\n\" + str(e))\u001b[39;00m\n\u001b[1;32m     12\u001b[0m \n\u001b[0;32m   (...)\u001b[0m\n\u001b[1;32m     17\u001b[0m \u001b[38;5;66;03m#    print(\"\\n\" + str(obj_MTS.predict(h=10)))\u001b[39;00m\n\u001b[1;32m     18\u001b[0m \u001b[38;5;66;03m#    print(\"\\n\" + str(obj_MTS.output_dates_))\u001b[39;00m\n",
      "File \u001b[0;32m~/Documents/Python_Packages/nnetsauce/venv/lib/python3.11/site-packages/nnetsauce/mts/mts.py:1312\u001b[0m, in \u001b[0;36mcross_val_score\u001b[0;34m(self, X, scoring, n_jobs, verbose, xreg, initial_window, horizon, fixed_window, show_progress, level, **kwargs)\u001b[0m\n\u001b[1;32m   1310\u001b[0m \u001b[38;5;28;01mif\u001b[39;00m verbose \u001b[38;5;241m==\u001b[39m \u001b[38;5;241m1\u001b[39m:\n\u001b[1;32m   1311\u001b[0m     \u001b[38;5;28mprint\u001b[39m(\u001b[38;5;124mf\u001b[39m\u001b[38;5;124m\"\u001b[39m\u001b[38;5;124mTRAIN: \u001b[39m\u001b[38;5;132;01m{\u001b[39;00mtrain_index\u001b[38;5;132;01m}\u001b[39;00m\u001b[38;5;124m\"\u001b[39m)\n\u001b[0;32m-> 1312\u001b[0m     \u001b[38;5;28mprint\u001b[39m(\u001b[38;5;124mf\u001b[39m\u001b[38;5;124m\"\u001b[39m\u001b[38;5;124mTEST: \u001b[39m\u001b[38;5;132;01m{\u001b[39;00mtest_index\u001b[38;5;132;01m}\u001b[39;00m\u001b[38;5;124m\"\u001b[39m)\n\u001b[1;32m   1313\u001b[0m     \u001b[38;5;28mprint\u001b[39m(\u001b[38;5;124m\"\u001b[39m\u001b[38;5;124mX\u001b[39m\u001b[38;5;124m\"\u001b[39m, X)\n\u001b[1;32m   1315\u001b[0m \u001b[38;5;28;01mif\u001b[39;00m \u001b[38;5;28misinstance\u001b[39m(X, pd\u001b[38;5;241m.\u001b[39mDataFrame):\n",
      "File \u001b[0;32m~/Documents/Python_Packages/nnetsauce/venv/lib/python3.11/site-packages/nnetsauce/mts/mts.py:366\u001b[0m, in \u001b[0;36mMTS.fit\u001b[0;34m(self, X, xreg, **kwargs)\u001b[0m\n\u001b[1;32m    364\u001b[0m     X \u001b[38;5;241m=\u001b[39m X\u001b[38;5;241m.\u001b[39mvalues\n\u001b[1;32m    365\u001b[0m \u001b[38;5;28;01melse\u001b[39;00m:\n\u001b[0;32m--> 366\u001b[0m     input_dates_prev \u001b[38;5;241m=\u001b[39m pd\u001b[38;5;241m.\u001b[39mDatetimeIndex(\u001b[38;5;28mself\u001b[39m\u001b[38;5;241m.\u001b[39mdf_\u001b[38;5;241m.\u001b[39mindex\u001b[38;5;241m.\u001b[39mvalues)\n\u001b[1;32m    367\u001b[0m     frequency \u001b[38;5;241m=\u001b[39m pd\u001b[38;5;241m.\u001b[39minfer_freq(input_dates_prev)\n\u001b[1;32m    368\u001b[0m     \u001b[38;5;28mself\u001b[39m\u001b[38;5;241m.\u001b[39mdf_ \u001b[38;5;241m=\u001b[39m pd\u001b[38;5;241m.\u001b[39mconcat([\u001b[38;5;28mself\u001b[39m\u001b[38;5;241m.\u001b[39mdf_, X], axis\u001b[38;5;241m=\u001b[39m\u001b[38;5;241m0\u001b[39m)\n",
      "File \u001b[0;32m~/Documents/Python_Packages/nnetsauce/venv/lib/python3.11/site-packages/pandas/core/indexes/datetimes.py:1008\u001b[0m, in \u001b[0;36mdate_range\u001b[0;34m(start, end, periods, freq, tz, normalize, name, inclusive, unit, **kwargs)\u001b[0m\n\u001b[1;32m   1005\u001b[0m \u001b[38;5;28;01mif\u001b[39;00m freq \u001b[38;5;129;01mis\u001b[39;00m \u001b[38;5;28;01mNone\u001b[39;00m \u001b[38;5;129;01mand\u001b[39;00m com\u001b[38;5;241m.\u001b[39many_none(periods, start, end):\n\u001b[1;32m   1006\u001b[0m     freq \u001b[38;5;241m=\u001b[39m \u001b[38;5;124m\"\u001b[39m\u001b[38;5;124mD\u001b[39m\u001b[38;5;124m\"\u001b[39m\n\u001b[0;32m-> 1008\u001b[0m dtarr \u001b[38;5;241m=\u001b[39m \u001b[43mDatetimeArray\u001b[49m\u001b[38;5;241;43m.\u001b[39;49m\u001b[43m_generate_range\u001b[49m\u001b[43m(\u001b[49m\n\u001b[1;32m   1009\u001b[0m \u001b[43m    \u001b[49m\u001b[43mstart\u001b[49m\u001b[38;5;241;43m=\u001b[39;49m\u001b[43mstart\u001b[49m\u001b[43m,\u001b[49m\n\u001b[1;32m   1010\u001b[0m \u001b[43m    \u001b[49m\u001b[43mend\u001b[49m\u001b[38;5;241;43m=\u001b[39;49m\u001b[43mend\u001b[49m\u001b[43m,\u001b[49m\n\u001b[1;32m   1011\u001b[0m \u001b[43m    \u001b[49m\u001b[43mperiods\u001b[49m\u001b[38;5;241;43m=\u001b[39;49m\u001b[43mperiods\u001b[49m\u001b[43m,\u001b[49m\n\u001b[1;32m   1012\u001b[0m \u001b[43m    \u001b[49m\u001b[43mfreq\u001b[49m\u001b[38;5;241;43m=\u001b[39;49m\u001b[43mfreq\u001b[49m\u001b[43m,\u001b[49m\n\u001b[1;32m   1013\u001b[0m \u001b[43m    \u001b[49m\u001b[43mtz\u001b[49m\u001b[38;5;241;43m=\u001b[39;49m\u001b[43mtz\u001b[49m\u001b[43m,\u001b[49m\n\u001b[1;32m   1014\u001b[0m \u001b[43m    \u001b[49m\u001b[43mnormalize\u001b[49m\u001b[38;5;241;43m=\u001b[39;49m\u001b[43mnormalize\u001b[49m\u001b[43m,\u001b[49m\n\u001b[1;32m   1015\u001b[0m \u001b[43m    \u001b[49m\u001b[43minclusive\u001b[49m\u001b[38;5;241;43m=\u001b[39;49m\u001b[43minclusive\u001b[49m\u001b[43m,\u001b[49m\n\u001b[1;32m   1016\u001b[0m \u001b[43m    \u001b[49m\u001b[43munit\u001b[49m\u001b[38;5;241;43m=\u001b[39;49m\u001b[43munit\u001b[49m\u001b[43m,\u001b[49m\n\u001b[1;32m   1017\u001b[0m \u001b[43m    \u001b[49m\u001b[38;5;241;43m*\u001b[39;49m\u001b[38;5;241;43m*\u001b[39;49m\u001b[43mkwargs\u001b[49m\u001b[43m,\u001b[49m\n\u001b[1;32m   1018\u001b[0m \u001b[43m\u001b[49m\u001b[43m)\u001b[49m\n\u001b[1;32m   1019\u001b[0m \u001b[38;5;28;01mreturn\u001b[39;00m DatetimeIndex\u001b[38;5;241m.\u001b[39m_simple_new(dtarr, name\u001b[38;5;241m=\u001b[39mname)\n",
      "File \u001b[0;32m~/Documents/Python_Packages/nnetsauce/venv/lib/python3.11/site-packages/pandas/core/arrays/datetimes.py:468\u001b[0m, in \u001b[0;36mDatetimeArray._generate_range\u001b[0;34m(cls, start, end, periods, freq, tz, normalize, ambiguous, nonexistent, inclusive, unit)\u001b[0m\n\u001b[1;32m    464\u001b[0m \u001b[38;5;28;01melse\u001b[39;00m:\n\u001b[1;32m    465\u001b[0m     xdr \u001b[38;5;241m=\u001b[39m _generate_range(\n\u001b[1;32m    466\u001b[0m         start\u001b[38;5;241m=\u001b[39mstart, end\u001b[38;5;241m=\u001b[39mend, periods\u001b[38;5;241m=\u001b[39mperiods, offset\u001b[38;5;241m=\u001b[39mfreq, unit\u001b[38;5;241m=\u001b[39munit\n\u001b[1;32m    467\u001b[0m     )\n\u001b[0;32m--> 468\u001b[0m     i8values \u001b[38;5;241m=\u001b[39m np\u001b[38;5;241m.\u001b[39marray(\u001b[43m[\u001b[49m\u001b[43mx\u001b[49m\u001b[38;5;241;43m.\u001b[39;49m\u001b[43m_value\u001b[49m\u001b[43m \u001b[49m\u001b[38;5;28;43;01mfor\u001b[39;49;00m\u001b[43m \u001b[49m\u001b[43mx\u001b[49m\u001b[43m \u001b[49m\u001b[38;5;129;43;01min\u001b[39;49;00m\u001b[43m \u001b[49m\u001b[43mxdr\u001b[49m\u001b[43m]\u001b[49m, dtype\u001b[38;5;241m=\u001b[39mnp\u001b[38;5;241m.\u001b[39mint64)\n\u001b[1;32m    470\u001b[0m endpoint_tz \u001b[38;5;241m=\u001b[39m start\u001b[38;5;241m.\u001b[39mtz \u001b[38;5;28;01mif\u001b[39;00m start \u001b[38;5;129;01mis\u001b[39;00m \u001b[38;5;129;01mnot\u001b[39;00m \u001b[38;5;28;01mNone\u001b[39;00m \u001b[38;5;28;01melse\u001b[39;00m end\u001b[38;5;241m.\u001b[39mtz\n\u001b[1;32m    472\u001b[0m \u001b[38;5;28;01mif\u001b[39;00m tz \u001b[38;5;129;01mis\u001b[39;00m \u001b[38;5;129;01mnot\u001b[39;00m \u001b[38;5;28;01mNone\u001b[39;00m \u001b[38;5;129;01mand\u001b[39;00m endpoint_tz \u001b[38;5;129;01mis\u001b[39;00m \u001b[38;5;28;01mNone\u001b[39;00m:\n",
      "File \u001b[0;32m~/Documents/Python_Packages/nnetsauce/venv/lib/python3.11/site-packages/pandas/core/arrays/datetimes.py:468\u001b[0m, in \u001b[0;36m<listcomp>\u001b[0;34m(.0)\u001b[0m\n\u001b[1;32m    464\u001b[0m \u001b[38;5;28;01melse\u001b[39;00m:\n\u001b[1;32m    465\u001b[0m     xdr \u001b[38;5;241m=\u001b[39m _generate_range(\n\u001b[1;32m    466\u001b[0m         start\u001b[38;5;241m=\u001b[39mstart, end\u001b[38;5;241m=\u001b[39mend, periods\u001b[38;5;241m=\u001b[39mperiods, offset\u001b[38;5;241m=\u001b[39mfreq, unit\u001b[38;5;241m=\u001b[39munit\n\u001b[1;32m    467\u001b[0m     )\n\u001b[0;32m--> 468\u001b[0m     i8values \u001b[38;5;241m=\u001b[39m np\u001b[38;5;241m.\u001b[39marray(\u001b[43m[\u001b[49m\u001b[43mx\u001b[49m\u001b[38;5;241;43m.\u001b[39;49m\u001b[43m_value\u001b[49m\u001b[43m \u001b[49m\u001b[38;5;28;43;01mfor\u001b[39;49;00m\u001b[43m \u001b[49m\u001b[43mx\u001b[49m\u001b[43m \u001b[49m\u001b[38;5;129;43;01min\u001b[39;49;00m\u001b[43m \u001b[49m\u001b[43mxdr\u001b[49m\u001b[43m]\u001b[49m, dtype\u001b[38;5;241m=\u001b[39mnp\u001b[38;5;241m.\u001b[39mint64)\n\u001b[1;32m    470\u001b[0m endpoint_tz \u001b[38;5;241m=\u001b[39m start\u001b[38;5;241m.\u001b[39mtz \u001b[38;5;28;01mif\u001b[39;00m start \u001b[38;5;129;01mis\u001b[39;00m \u001b[38;5;129;01mnot\u001b[39;00m \u001b[38;5;28;01mNone\u001b[39;00m \u001b[38;5;28;01melse\u001b[39;00m end\u001b[38;5;241m.\u001b[39mtz\n\u001b[1;32m    472\u001b[0m \u001b[38;5;28;01mif\u001b[39;00m tz \u001b[38;5;129;01mis\u001b[39;00m \u001b[38;5;129;01mnot\u001b[39;00m \u001b[38;5;28;01mNone\u001b[39;00m \u001b[38;5;129;01mand\u001b[39;00m endpoint_tz \u001b[38;5;129;01mis\u001b[39;00m \u001b[38;5;28;01mNone\u001b[39;00m:\n",
      "File \u001b[0;32m~/Documents/Python_Packages/nnetsauce/venv/lib/python3.11/site-packages/pandas/core/arrays/datetimes.py:2780\u001b[0m, in \u001b[0;36m_generate_range\u001b[0;34m(start, end, periods, offset, unit)\u001b[0m\n\u001b[1;32m   2775\u001b[0m     periods \u001b[38;5;241m=\u001b[39m \u001b[38;5;241m0\u001b[39m\n\u001b[1;32m   2777\u001b[0m \u001b[38;5;28;01mif\u001b[39;00m end \u001b[38;5;129;01mis\u001b[39;00m \u001b[38;5;28;01mNone\u001b[39;00m:\n\u001b[1;32m   2778\u001b[0m     \u001b[38;5;66;03m# error: No overload variant of \"__radd__\" of \"BaseOffset\" matches\u001b[39;00m\n\u001b[1;32m   2779\u001b[0m     \u001b[38;5;66;03m# argument type \"None\"\u001b[39;00m\n\u001b[0;32m-> 2780\u001b[0m     end \u001b[38;5;241m=\u001b[39m \u001b[43mstart\u001b[49m\u001b[43m \u001b[49m\u001b[38;5;241;43m+\u001b[39;49m\u001b[43m \u001b[49m\u001b[43m(\u001b[49m\u001b[43mperiods\u001b[49m\u001b[43m \u001b[49m\u001b[38;5;241;43m-\u001b[39;49m\u001b[43m \u001b[49m\u001b[38;5;241;43m1\u001b[39;49m\u001b[43m)\u001b[49m\u001b[43m \u001b[49m\u001b[38;5;241;43m*\u001b[39;49m\u001b[43m \u001b[49m\u001b[43moffset\u001b[49m  \u001b[38;5;66;03m# type: ignore[operator]\u001b[39;00m\n\u001b[1;32m   2782\u001b[0m \u001b[38;5;28;01mif\u001b[39;00m start \u001b[38;5;129;01mis\u001b[39;00m \u001b[38;5;28;01mNone\u001b[39;00m:\n\u001b[1;32m   2783\u001b[0m     \u001b[38;5;66;03m# error: No overload variant of \"__radd__\" of \"BaseOffset\" matches\u001b[39;00m\n\u001b[1;32m   2784\u001b[0m     \u001b[38;5;66;03m# argument type \"None\"\u001b[39;00m\n\u001b[1;32m   2785\u001b[0m     start \u001b[38;5;241m=\u001b[39m end \u001b[38;5;241m-\u001b[39m (periods \u001b[38;5;241m-\u001b[39m \u001b[38;5;241m1\u001b[39m) \u001b[38;5;241m*\u001b[39m offset  \u001b[38;5;66;03m# type: ignore[operator]\u001b[39;00m\n",
      "File \u001b[0;32moffsets.pyx:468\u001b[0m, in \u001b[0;36mpandas._libs.tslibs.offsets.BaseOffset.__radd__\u001b[0;34m()\u001b[0m\n",
      "File \u001b[0;32moffsets.pyx:463\u001b[0m, in \u001b[0;36mpandas._libs.tslibs.offsets.BaseOffset.__add__\u001b[0;34m()\u001b[0m\n",
      "File \u001b[0;32moffsets.pyx:141\u001b[0m, in \u001b[0;36mpandas._libs.tslibs.offsets.apply_wraps.wrapper\u001b[0;34m()\u001b[0m\n",
      "File \u001b[0;32moffsets.pyx:2736\u001b[0m, in \u001b[0;36mpandas._libs.tslibs.offsets.QuarterOffset._apply\u001b[0;34m()\u001b[0m\n",
      "File \u001b[0;32moffsets.pyx:5231\u001b[0m, in \u001b[0;36mpandas._libs.tslibs.offsets.shift_month\u001b[0;34m()\u001b[0m\n",
      "File \u001b[0;32mtimestamps.pyx:2479\u001b[0m, in \u001b[0;36mpandas._libs.tslibs.timestamps.Timestamp.replace\u001b[0;34m()\u001b[0m\n",
      "\u001b[0;31mOutOfBoundsDatetime\u001b[0m: Out of bounds timestamp: 2265-09-30 00:00:00 with frequency 'ns'"
     ]
    }
   ],
   "source": [
    "#try:\n",
    "print(obj_MTS.cross_val_score(df_train,                         \n",
    "        n_jobs=None, \n",
    "        verbose = 1,\n",
    "        initial_window=100,\n",
    "        horizon=5,\n",
    "        fixed_window=False,                         \n",
    "        show_progress=True))\n",
    "\n",
    "#except Exception as e:\n",
    "#    print(\"\\nException occurred:\\n\" + str(e))\n",
    "\n",
    "#finally:\n",
    "#    print(\"\\n==> After cross_val_score the input dates are much longer:\")\n",
    "#    print(\"\\n\" + str(obj_MTS.input_dates))\n",
    "#    print(\"\\n==> I do predict and wee see daily data are not in line with original:\")\n",
    "#    print(\"\\n\" + str(obj_MTS.predict(h=10)))\n",
    "#    print(\"\\n\" + str(obj_MTS.output_dates_))"
   ]
  },
  {
   "cell_type": "markdown",
   "id": "1c313868",
   "metadata": {
    "papermill": {
     "duration": 0.005058,
     "end_time": "2025-01-28T09:54:49.519050",
     "exception": false,
     "start_time": "2025-01-28T09:54:49.513992",
     "status": "completed"
    },
    "tags": []
   },
   "source": [
    "If I rerun the previous cell with `cross_val_score` then no exception occurs! Seemingly daily data, no overflow. \n",
    "\n",
    "### If I run `fit` several times the `input_data` attribute of `obj_MTS` always changes."
   ]
  },
  {
   "cell_type": "code",
   "execution_count": 109,
   "id": "03100b91",
   "metadata": {
    "execution": {
     "iopub.execute_input": "2025-01-28T09:54:49.531996Z",
     "iopub.status.busy": "2025-01-28T09:54:49.531569Z",
     "iopub.status.idle": "2025-01-28T09:54:49.595232Z",
     "shell.execute_reply": "2025-01-28T09:54:49.594179Z"
    },
    "papermill": {
     "duration": 0.072675,
     "end_time": "2025-01-28T09:54:49.597207",
     "exception": false,
     "start_time": "2025-01-28T09:54:49.524532",
     "status": "completed"
    },
    "tags": []
   },
   "outputs": [
    {
     "data": {
      "text/plain": [
       "0       1959-06-30\n",
       "1       1959-07-01\n",
       "2       1959-07-02\n",
       "3       1959-07-03\n",
       "4       1959-07-04\n",
       "           ...    \n",
       "1402    1963-05-02\n",
       "1403    1963-05-03\n",
       "1404    1963-05-04\n",
       "1405    1963-05-05\n",
       "1406    1963-05-06\n",
       "Name: date, Length: 1407, dtype: object"
      ]
     },
     "execution_count": 109,
     "metadata": {},
     "output_type": "execute_result"
    }
   ],
   "source": [
    "obj_MTS.fit(df_train)\n",
    "obj_MTS.input_dates"
   ]
  },
  {
   "cell_type": "code",
   "execution_count": 110,
   "id": "271f4748",
   "metadata": {
    "execution": {
     "iopub.execute_input": "2025-01-28T09:54:49.610215Z",
     "iopub.status.busy": "2025-01-28T09:54:49.609856Z",
     "iopub.status.idle": "2025-01-28T09:54:49.666461Z",
     "shell.execute_reply": "2025-01-28T09:54:49.665396Z"
    },
    "papermill": {
     "duration": 0.065666,
     "end_time": "2025-01-28T09:54:49.668847",
     "exception": false,
     "start_time": "2025-01-28T09:54:49.603181",
     "status": "completed"
    },
    "tags": []
   },
   "outputs": [
    {
     "data": {
      "text/plain": [
       "0       1959-06-30\n",
       "1       1959-07-01\n",
       "2       1959-07-02\n",
       "3       1959-07-03\n",
       "4       1959-07-04\n",
       "           ...    \n",
       "1583    1963-10-30\n",
       "1584    1963-10-31\n",
       "1585    1963-11-01\n",
       "1586    1963-11-02\n",
       "1587    1963-11-03\n",
       "Name: date, Length: 1588, dtype: object"
      ]
     },
     "execution_count": 110,
     "metadata": {},
     "output_type": "execute_result"
    }
   ],
   "source": [
    "obj_MTS.fit(df_train)\n",
    "obj_MTS.input_dates"
   ]
  },
  {
   "cell_type": "code",
   "execution_count": null,
   "id": "f198491e",
   "metadata": {
    "papermill": {
     "duration": 0.006413,
     "end_time": "2025-01-28T09:54:49.682679",
     "exception": false,
     "start_time": "2025-01-28T09:54:49.676266",
     "status": "completed"
    },
    "tags": []
   },
   "outputs": [],
   "source": []
  }
 ],
 "metadata": {
  "kaggle": {
   "accelerator": "none",
   "dataSources": [],
   "dockerImageVersionId": 30839,
   "isGpuEnabled": false,
   "isInternetEnabled": true,
   "language": "python",
   "sourceType": "notebook"
  },
  "kernelspec": {
   "display_name": "Python 3",
   "language": "python",
   "name": "python3"
  },
  "language_info": {
   "codemirror_mode": {
    "name": "ipython",
    "version": 3
   },
   "file_extension": ".py",
   "mimetype": "text/x-python",
   "name": "python",
   "nbconvert_exporter": "python",
   "pygments_lexer": "ipython3",
   "version": "3.11.10"
  },
  "papermill": {
   "default_parameters": {},
   "duration": 28.082411,
   "end_time": "2025-01-28T09:54:51.214689",
   "environment_variables": {},
   "exception": null,
   "input_path": "__notebook__.ipynb",
   "output_path": "__notebook__.ipynb",
   "parameters": {},
   "start_time": "2025-01-28T09:54:23.132278",
   "version": "2.6.0"
  }
 },
 "nbformat": 4,
 "nbformat_minor": 5
}
