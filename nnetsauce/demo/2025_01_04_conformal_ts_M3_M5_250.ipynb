{
  "cells": [
    {
      "cell_type": "markdown",
      "metadata": {
        "id": "amfgVTV8KZLu"
      },
      "source": [
        "# Conformalized predictive simulations for univariate time series"
      ]
    },
    {
      "cell_type": "markdown",
      "metadata": {
        "id": "6dXjGXq8KZLz"
      },
      "source": [
        "<span>\n",
        "<a target=\"_blank\" href=\"https://colab.research.google.com/github/Techtonique/ahead_python/blob/main/ahead/demo/thierrymoudiki_20240408_conformal_bench.ipynb\">\n",
        "  <img style=\"width: inherit;\" src=\"https://colab.research.google.com/assets/colab-badge.svg\" alt=\"Open In Colab\"/>\n",
        "</a>\n",
        "</span>\n"
      ]
    },
    {
      "cell_type": "markdown",
      "metadata": {
        "id": "MoVlQqa1MbG1"
      },
      "source": [
        "# 1 - M3 competition (R code), 3003 time series"
      ]
    },
    {
      "cell_type": "markdown",
      "metadata": {
        "id": "R1O52EAKWorr"
      },
      "source": [
        "## 1 - 0 - Import packages"
      ]
    },
    {
      "cell_type": "code",
      "execution_count": null,
      "metadata": {},
      "outputs": [],
      "source": [
        "!pip install rpy2"
      ]
    },
    {
      "cell_type": "code",
      "execution_count": null,
      "metadata": {
        "id": "5upxn0pimn9V"
      },
      "outputs": [],
      "source": [
        "%load_ext rpy2.ipython"
      ]
    },
    {
      "cell_type": "code",
      "execution_count": null,
      "metadata": {
        "id": "LgCrd-I1nY4t"
      },
      "outputs": [],
      "source": [
        "%%R\n",
        "\n",
        "utils::install.packages(c('foreach', 'forecast', 'fpp', 'fpp2', 'remotes', 'Mcomp'),\n",
        "                        repos=\"https://cran.r-project.org\")\n",
        "remotes::install_github(\"Techtonique/ahead\")\n",
        "remotes::install_github(\"thierrymoudiki/simulatetimeseries\")\n",
        "\n",
        "\n",
        "\n",
        "suppressWarnings(library(datasets))\n",
        "suppressWarnings(library(forecast))\n",
        "suppressWarnings(library(fpp2))\n",
        "suppressWarnings(library(ahead))\n",
        "suppressWarnings(library(Mcomp))"
      ]
    },
    {
      "cell_type": "code",
      "execution_count": null,
      "metadata": {
        "id": "iXbjYnUAzScJ"
      },
      "outputs": [],
      "source": [
        "%%R\n",
        "\n",
        "remotes::install_github(\"herbps10/AdaptiveConformal\", force=TRUE)\n",
        "\n",
        "suppressWarnings(library(AdaptiveConformal))"
      ]
    },
    {
      "cell_type": "code",
      "execution_count": null,
      "metadata": {
        "id": "SQc1-8eI87qX"
      },
      "outputs": [],
      "source": [
        "%%R\n",
        "\n",
        "remotes::install_github(\"thierrymoudiki/misc\")\n",
        "\n",
        "suppressWarnings(library(misc))"
      ]
    },
    {
      "cell_type": "code",
      "execution_count": 7,
      "metadata": {
        "colab": {
          "base_uri": "https://localhost:8080/"
        },
        "id": "v0TK7oVIrlk4",
        "outputId": "86412c66-9ec4-4e3d-fa5e-c074ad1ba928"
      },
      "outputs": [
        {
          "name": "stdout",
          "output_type": "stream",
          "text": [
            "[1] 3003\n",
            "[1] 44\n",
            "[1] 8\n",
            "[1] 14\n",
            "[1] 6\n"
          ]
        }
      ],
      "source": [
        "%%R\n",
        "\n",
        "print(length(M3))\n",
        "print(length(M3[[1000]]$x))\n",
        "print(length(M3[[1000]]$xx))\n",
        "print(length(M3[[100]]$x))\n",
        "print(length(M3[[100]]$xx))"
      ]
    },
    {
      "cell_type": "markdown",
      "metadata": {
        "id": "cvA5o7UgqC1x"
      },
      "source": [
        "## 1 - 1 - Functions and data set"
      ]
    },
    {
      "cell_type": "code",
      "execution_count": 8,
      "metadata": {
        "id": "numwKyrpqJzM"
      },
      "outputs": [],
      "source": [
        "%%R\n",
        "\n",
        "winkler_score <- function(obj, actual, level = 95) {\n",
        "  alpha <- 1 - level / 100\n",
        "  lt <- obj$lower\n",
        "  ut <- obj$upper\n",
        "  n_points <- length(actual)\n",
        "  stopifnot((n_points == length(lt)) && (n_points == length(ut)))\n",
        "  diff_lt <- lt - actual\n",
        "  diff_bounds <- ut - lt\n",
        "  diff_ut <- actual - ut\n",
        "  score <-\n",
        "    diff_bounds + (2 / alpha) * (pmax(diff_lt, 0) + pmax(diff_ut, 0))\n",
        "  return(mean(score))\n",
        "}\n",
        "\n",
        "# moving block bootstrap\n",
        "mbb2 <- function(r,\n",
        "                 n,\n",
        "                 b,\n",
        "                 seed = 123,\n",
        "                 return_indices = FALSE)\n",
        "{\n",
        "  n_obs <- dim(r)[1]\n",
        "  n_series <- dim(r)[2]\n",
        "  b <- floor(min(max(3L, b), n_obs - 1L))\n",
        "  if(n >= n_obs)\n",
        "    stop(\"forecasting horizon must be < number of observations\")\n",
        "  n <- min(n_obs, n)\n",
        "\n",
        "  set.seed(seed) # important for base::sample below\n",
        "\n",
        "  r_bt <- matrix(NA, nrow = n_obs, ncol = dim(r)[2])  # local vector for a bootstrap replication\n",
        "\n",
        "  #cat(\"n_obs\", n_obs, \"\\n\")\n",
        "  #cat(\"b\", b, \"\\n\")\n",
        "  for (i in 1:ceiling(n_obs/b)) {\n",
        "    #cat(\"i: \", i, \"----- \\n\")\n",
        "    endpoint <- sample(b:n_obs, size = 1)\n",
        "    #cat(\"endpoint\", endpoint, \"\\n\")\n",
        "    try(r_bt[(i - 1)*b + 1:b, ] <- r[endpoint - (b:1) + 1, ],\n",
        "        silent = TRUE)\n",
        "  }\n",
        "\n",
        "  tmp <- matrix(r_bt[(1:n), ], nrow = n, ncol = n_series)\n",
        "\n",
        "  if(return_indices == FALSE)\n",
        "  {\n",
        "    return(tmp)\n",
        "  } else {\n",
        "    return(arrayInd(match(tmp, r), .dim = dim(r))[1:n, 1])\n",
        "  }\n",
        "}\n",
        "mbb2 <- memoise::memoise(mbb2)\n",
        "\n",
        "# split data set\n",
        "split_dataset <- function(x,\n",
        "                          split_prob = 0.8,\n",
        "                          transformation=c(\"none\",\n",
        "                                           \"boxcox\",\n",
        "                                           \"diff\",\n",
        "                                           \"diffboxcox\"))\n",
        "{\n",
        "  transformation <- match.arg(transformation)\n",
        "\n",
        "  if (identical(transformation, \"boxcox\"))\n",
        "  {\n",
        "    x <- forecast::BoxCox(x, lambda = \"auto\")\n",
        "  }\n",
        "  if (identical(transformation, \"diff\"))\n",
        "  {\n",
        "    x <- diff(x)\n",
        "  }\n",
        "  if (identical(transformation, \"diffboxcox\"))\n",
        "  {\n",
        "    x <- diff(forecast::BoxCox(x, lambda = \"auto\"))\n",
        "  }\n",
        "\n",
        "  freq_x <- frequency(x)\n",
        "  n <- floor(split_prob*length(x))\n",
        "  half_n <- floor(n/2)\n",
        "  x_train <- ts(x[1:half_n],\n",
        "                start=start(x),\n",
        "                frequency = freq_x)\n",
        "  x_calib <- ts(x[(half_n + 1):n],\n",
        "                start=tsp(x_train)[2] + 1 / freq_x,\n",
        "                frequency = freq_x)\n",
        "  x_test <- ts(x[(n + 1):length(x)],\n",
        "               start=tsp(x_calib)[2] + 1 / freq_x,\n",
        "               frequency = freq_x)\n",
        "  res <- vector(\"list\", 4)\n",
        "  res$x <- x\n",
        "  res$x_train <- x_train\n",
        "  res$x_calib <- x_calib\n",
        "  res$x_test <- x_test\n",
        "  return(res)\n",
        "}\n",
        "split_dataset <- memoise::memoise(split_dataset)\n",
        "\n",
        "# forecasting function\n",
        "forecast_function <- function(x,\n",
        "                              method = c(\"theta\",\n",
        "                                         \"dynrm\",\n",
        "                                         \"snaive\"),\n",
        "                              split_prob = 0.8,\n",
        "                              block_size = 5,\n",
        "                              B = 250,\n",
        "                              level = 95,\n",
        "                              seed=123)\n",
        "{\n",
        "  obj_ts <- split_dataset(x, split_prob=split_prob)\n",
        "  method <- match.arg(method)\n",
        "  freq_x <- frequency(obj_ts$x)\n",
        "  fcast_func <- switch(method,\n",
        "                       dynrm = ahead::dynrmf,\n",
        "                       theta = forecast::thetaf,\n",
        "                       snaive = forecast::snaive)\n",
        "\n",
        "  # calibration\n",
        "  obj <- fcast_func(obj_ts$x_train,\n",
        "                    h=length(obj_ts$x_calib)) # train on training set predict on calibration set\n",
        "  calibrated_resids <- obj_ts$x_calib - obj$mean # obtain calibrated residuals\n",
        "  obj_fcast <- fcast_func(obj_ts$x_calib,\n",
        "                          h=length(obj_ts$x_test)) # train on calibration set\n",
        "\n",
        "  sims <- ts(sapply(1:B, function(i) mbb2(matrix(calibrated_resids,\n",
        "                                                 ncol = 1),\n",
        "                                          n=length(obj_ts$x_test),\n",
        "                                          b=block_size,\n",
        "                                          seed=i+seed*100)),\n",
        "             start = start(obj_ts$x_test),\n",
        "             frequency = frequency(obj_ts$x_test))\n",
        "\n",
        "  preds <- obj_fcast$mean + sims\n",
        "  obj_fcast2 <- list()\n",
        "  obj_fcast2$level <- level\n",
        "  obj_fcast2$x <- obj_ts$x_calib\n",
        "  start_preds <- start(obj_fcast$mean)\n",
        "  obj_fcast2$mean <- ts(rowMeans(preds),\n",
        "                        start = start_preds,\n",
        "                        frequency = freq_x)\n",
        "  obj_fcast2$upper <- ts(apply(preds, 1, function(x)\n",
        "    stats::quantile(x, probs = 1 - (1 - level / 100) / 2)),\n",
        "    start = start_preds,\n",
        "    frequency = freq_x)\n",
        "  obj_fcast2$lower <- ts(apply(preds, 1, function(x)\n",
        "    stats::quantile(x, probs = (1 - level / 100) / 2)),\n",
        "    start = start_preds,\n",
        "    frequency = freq_x)\n",
        "  obj_fcast2$method <- method\n",
        "\n",
        "  class(obj_fcast2) <- \"forecast\"\n",
        "\n",
        "  return(obj_fcast2)\n",
        "}\n",
        "\n",
        "\n",
        "compute_errors <- function(obj, preds)\n",
        "{\n",
        "    res <- vector(\"list\", 8)\n",
        "    true <- obj$mean\n",
        "    names(res) <- c(\"coverage\", \"winkler\",\n",
        "                    \"ME\", \"RMSE\", \"MAE\",\n",
        "                    \"MPE\", \"MAPE\", \"MASE\")\n",
        "    res$coverage <- mean(true > obj$lower & true < obj$upper)*100\n",
        "    res$winkler <- winkler_score(obj, actual=true)\n",
        "    res$ME <- mean(true - preds)\n",
        "    res$RMSE <- sqrt(mean((true - preds)^2))\n",
        "    res$MAE <- mean(abs(true - preds))\n",
        "    res$MPE <- mean((true - preds)/true)\n",
        "    res$MAPE <- mean(abs(true - preds)/true)\n",
        "    res$MASE <- mean(abs(true - preds))/mean(abs(true - mean(true)))\n",
        "    return(res)\n",
        "}\n"
      ]
    },
    {
      "cell_type": "code",
      "execution_count": 9,
      "metadata": {
        "id": "iRjnADJrtdWc"
      },
      "outputs": [],
      "source": [
        "%%R\n",
        "\n",
        "all_datasets <- lapply(M3, function(s) ts(c(s$x, s$xx),\n",
        "                                          start=start(s$x),\n",
        "                                          frequency=frequency(s$x)))\n",
        "names(all_datasets) <- names(M3)"
      ]
    },
    {
      "cell_type": "code",
      "execution_count": null,
      "metadata": {
        "id": "Eoeh3SdVWbqU"
      },
      "outputs": [],
      "source": [
        "%%R\n",
        "\n",
        "library(\"AdaptiveConformal\")\n",
        "library(\"ahead\")\n",
        "library(\"simulatetimeseries\")\n",
        "library(\"foreach\")\n",
        "library(\"forecast\")"
      ]
    },
    {
      "cell_type": "code",
      "execution_count": 11,
      "metadata": {
        "colab": {
          "base_uri": "https://localhost:8080/"
        },
        "id": "yihdLlzYQ6oc",
        "outputId": "6c79de0f-8fe7-4769-9549-dddd33e75dde"
      },
      "outputs": [
        {
          "name": "stdout",
          "output_type": "stream",
          "text": [
            "   conformal_method   metric value\n",
            "1    splitconformal coverage    NA\n",
            "2    splitconformal  winkler    NA\n",
            "3    splitconformal       ME    NA\n",
            "4    splitconformal     RMSE    NA\n",
            "5    splitconformal      MAE    NA\n",
            "6    splitconformal      MPE    NA\n",
            "7    splitconformal     MAPE    NA\n",
            "8    splitconformal     MASE    NA\n",
            "9             AgACI coverage    NA\n",
            "10            AgACI  winkler    NA\n",
            "11            AgACI       ME    NA\n",
            "12            AgACI     RMSE    NA\n",
            "13            AgACI      MAE    NA\n",
            "14            AgACI      MPE    NA\n",
            "15            AgACI     MAPE    NA\n",
            "16            AgACI     MASE    NA\n",
            "17            SAOCP coverage    NA\n",
            "18            SAOCP  winkler    NA\n",
            "19            SAOCP       ME    NA\n",
            "20            SAOCP     RMSE    NA\n",
            "21            SAOCP      MAE    NA\n",
            "22            SAOCP      MPE    NA\n",
            "23            SAOCP     MAPE    NA\n",
            "24            SAOCP     MASE    NA\n",
            "25           SF-OGD coverage    NA\n",
            "26           SF-OGD  winkler    NA\n",
            "27           SF-OGD       ME    NA\n",
            "28           SF-OGD     RMSE    NA\n",
            "29           SF-OGD      MAE    NA\n",
            "30           SF-OGD      MPE    NA\n",
            "31           SF-OGD     MAPE    NA\n",
            "32"
          ]
        },
        {
          "name": "stdout",
          "output_type": "stream",
          "text": [
            "           SF-OGD     MASE    NA\n"
          ]
        }
      ],
      "source": [
        "%%R\n",
        "\n",
        "conformal_methods <- c(\"splitconformal\", \"AgACI\", \"SAOCP\", \"SF-OGD\")\n",
        "metrics <- c(\"coverage\", \"winkler\",\n",
        "            \"ME\", \"RMSE\", \"MAE\",\n",
        "            \"MPE\", \"MAPE\", \"MASE\")\n",
        "# will contain results for each time series\n",
        "params_grid <- expand.grid(conformal_methods, metrics)\n",
        "colnames(params_grid) <- c(\"conformal_method\", \"metric\")\n",
        "params_grid <- misc::sort_df(params_grid, by=\"conformal_method\", decreasing = FALSE)\n",
        "params_grid <- cbind(params_grid, value=NA)\n",
        "\n",
        "rownames(params_grid) <- NULL\n",
        "print(params_grid)"
      ]
    },
    {
      "cell_type": "code",
      "execution_count": 12,
      "metadata": {
        "id": "5njxlH5y9vsP"
      },
      "outputs": [],
      "source": [
        "%%R\n",
        "\n",
        "results <- vector(\"list\", length(all_datasets))\n",
        "names(results) <- names(all_datasets)\n",
        "\n",
        "for (i in 1:length(all_datasets))\n",
        "{\n",
        " results[[i]] <- params_grid\n",
        "}"
      ]
    },
    {
      "cell_type": "code",
      "execution_count": 13,
      "metadata": {
        "colab": {
          "base_uri": "https://localhost:8080/"
        },
        "id": "JUYMN2mF8eal",
        "outputId": "58ead2a7-7fa3-4e59-8639-d82c4d3dd14f"
      },
      "outputs": [
        {
          "name": "stdout",
          "output_type": "stream",
          "text": [
            "   conformal_method   metric"
          ]
        },
        {
          "name": "stdout",
          "output_type": "stream",
          "text": [
            " value\n",
            "1    splitconformal coverage    NA\n",
            "2    splitconformal  winkler    NA\n",
            "3    splitconformal       ME    NA\n",
            "4    splitconformal     RMSE    NA\n",
            "5    splitconformal      MAE    NA\n",
            "6    splitconformal      MPE    NA\n",
            "7    splitconformal     MAPE    NA\n",
            "8    splitconformal     MASE    NA\n",
            "9             AgACI coverage    NA\n",
            "10            AgACI  winkler    NA\n",
            "11            AgACI       ME    NA\n",
            "12            AgACI     RMSE    NA\n",
            "13            AgACI      MAE    NA\n",
            "14            AgACI      MPE    NA\n",
            "15            AgACI     MAPE    NA\n",
            "16            AgACI     MASE    NA\n",
            "17            SAOCP coverage    NA\n",
            "18            SAOCP  winkler    NA\n",
            "19            SAOCP       ME    NA\n",
            "20            SAOCP     RMSE    NA\n",
            "21            SAOCP      MAE    NA\n",
            "22            SAOCP      MPE    NA\n",
            "23            SAOCP     MAPE    NA\n",
            "24            SAOCP     MASE    NA\n",
            "25           SF-OGD coverage    NA\n",
            "26           SF-OGD  winkler    NA\n",
            "27           SF-OGD       ME    NA\n",
            "28           SF-OGD     RMSE    NA\n",
            "29           SF-OGD      MAE    NA\n",
            "30           SF-OGD      MPE    NA\n",
            "31           SF-OGD     MAPE    NA\n",
            "32           SF-OGD     MASE    NA\n"
          ]
        }
      ],
      "source": [
        "%%R\n",
        "\n",
        "print(results[[1]])"
      ]
    },
    {
      "cell_type": "markdown",
      "metadata": {
        "id": "29-b-sEiu09X"
      },
      "source": [
        "## 1 - 2 - main loops"
      ]
    },
    {
      "cell_type": "code",
      "execution_count": 14,
      "metadata": {
        "colab": {
          "base_uri": "https://localhost:8080/"
        },
        "id": "2zzdeyS00hAz",
        "outputId": "6c335335-075f-4f5f-bd18-ddbff0c7325b"
      },
      "outputs": [
        {
          "name": "stdout",
          "output_type": "stream",
          "text": [
            "       Qtr1   Qtr2   Qtr3   Qtr4\n",
            "1980 4381.5 4107.5 3959.0 4117.5\n",
            "1981 4182.5 4559.5 4652.0 4487.0\n",
            "1982 4475.5 4472.0 4215.0 4282.0\n",
            "1983 4424.5 4395.5 4466.5 4565.5\n",
            "1984 4841.0 4645.0 4904.5 4980.5\n",
            "1985 4953.5 4951.5 5021.5 5073.5\n",
            "1986 5119.0 5120.5 5181.5 5071.0\n",
            "1987 5188.5 5162.5 5511.0 5594.5\n",
            "1988 5239.5 5800.5 5694.0 5884.0\n",
            "1989 5841.0 6226.0 6268.5 6262.5\n",
            "1990 6290.0 6621.5 6662.5 6745.5\n",
            "1991 6722.0 6509.5 6523.0 6633.5\n",
            "1992 7003.5 6702.0 7023.5 6970.0\n"
          ]
        }
      ],
      "source": [
        "%%R\n",
        "\n",
        "all_datasets[[1000]]"
      ]
    },
    {
      "cell_type": "code",
      "execution_count": 15,
      "metadata": {
        "colab": {
          "base_uri": "https://localhost:8080/"
        },
        "id": "e_h3dLn5sMTS",
        "outputId": "115e08db-1b70-40cd-c191-d3a58449713e"
      },
      "outputs": [
        {
          "name": "stdout",
          "output_type": "stream",
          "text": [
            "  |======================================================================| 100%elapsed \n",
            "  0.026 \n",
            "\n"
          ]
        }
      ],
      "source": [
        "%%R\n",
        "\n",
        "(nb_iter_datasets <- length(all_datasets))\n",
        "\n",
        "\n",
        "pb <- txtProgressBar(min = 0,\n",
        "                     max = nb_iter_datasets, #nb_iter_datasets,\n",
        "                     style = 3)\n",
        "\n",
        "start_time <- proc.time()[3]\n",
        "for (i in 1:nb_iter_datasets) # loop levels and methods\n",
        "{\n",
        "    y <- all_datasets[[i]]\n",
        "    splitted_ts <- simulatetimeseries::splitts(y = y,\n",
        "                                               split_prob = 0.8)\n",
        "    y_train <- splitted_ts$training\n",
        "    y_test <- splitted_ts$testing\n",
        "    idx_row <- 1 # start filling results[[i]] at row\n",
        "    for (j in 1:nrow(results[[i]]))\n",
        "    {\n",
        "        seed_i_j<- 100*i+300*j\n",
        "        set.seed(seed_i_j)\n",
        "        conformal_method <- as.character(results[[i]]$conformal_method[j])\n",
        "\n",
        "        if (conformal_method == \"splitconformal\")\n",
        "        {\n",
        "            obj <- forecast_function(y)\n",
        "\n",
        "            result_accuracy <- compute_errors(obj, y_test)\n",
        "\n",
        "            results[[i]][idx_row, 3] <- result_accuracy$coverage\n",
        "            results[[i]][idx_row + 1, 3] <- result_accuracy$winkler\n",
        "            results[[i]][idx_row + 2, 3] <- result_accuracy$ME\n",
        "            results[[i]][idx_row + 3, 3] <- result_accuracy$RMSE\n",
        "            results[[i]][idx_row + 4, 3] <- result_accuracy$MAE\n",
        "            results[[i]][idx_row + 5, 3] <- result_accuracy$MPE\n",
        "            results[[i]][idx_row + 6, 3] <- result_accuracy$MAPE\n",
        "            results[[i]][idx_row + 7, 3] <- result_accuracy$MASE\n",
        "        }\n",
        "\n",
        "        if (conformal_method %in% c(\"AgACI\", \"SAOCP\", \"SF-OGD\"))\n",
        "        {\n",
        "          idx_method <- switch(conformal_method,\n",
        "                               \"AgACI\" = 0,\n",
        "                               \"SAOCP\" = 8,\n",
        "                               \"SF-OGD\" = 16)\n",
        "\n",
        "          obj <- forecast::thetaf(y_train, h=length(y_test)\n",
        "          , level = 95L) # the function AdaptiveConformal::aci seems to be broken: for obs1, lower=mean=upper\n",
        "\n",
        "          result_accuracy <- compute_errors(obj, y_test)\n",
        "\n",
        "          preds <- obj$mean\n",
        "\n",
        "          start_time <- proc.time()[3]\n",
        "          result_ac <- AdaptiveConformal::aci(as.vector(y_test),\n",
        "                                          as.vector(preds),\n",
        "                                          method = conformal_method,\n",
        "                                          alpha = 0.95)\n",
        "          elapsed <- proc.time()[3] - start_time\n",
        "\n",
        "          result_ac$lower <- result_ac$intervals[, 1]\n",
        "          result_ac$upper <- result_ac$intervals[, 2]\n",
        "\n",
        "          results[[i]][idx_row + 8 + idx_method, 3] <- mean((y_test >= result_ac$lower)*(y_test <= result_ac$upper))*100\n",
        "          results[[i]][idx_row + 9 + idx_method, 3] <- winkler_score(result_ac,\n",
        "                                              actual=y_test,\n",
        "                                              level = 95L)\n",
        "          results[[i]][idx_row + 10 + idx_method, 3] <- result_accuracy$ME\n",
        "          results[[i]][idx_row + 11 + idx_method, 3] <- result_accuracy$RMSE\n",
        "          results[[i]][idx_row + 12 + idx_method, 3] <- result_accuracy$MAE\n",
        "          results[[i]][idx_row + 13 + idx_method, 3] <- result_accuracy$MPE\n",
        "          results[[i]][idx_row + 14 + idx_method, 3] <- result_accuracy$MAPE\n",
        "          results[[i]][idx_row + 15 + idx_method, 3] <- result_accuracy$MASE\n",
        "        }\n",
        "        }\n",
        "\n",
        "  utils::setTxtProgressBar(pb, i)\n",
        "}\n",
        "print(proc.time()[3] - start_time)\n",
        "close(pb)\n",
        "\n",
        "\n"
      ]
    },
    {
      "cell_type": "code",
      "execution_count": 16,
      "metadata": {
        "id": "r6H4ZGDd1hqR"
      },
      "outputs": [],
      "source": [
        "%%R\n",
        "\n",
        "saveRDS(results, \"results_M3_coverages_accuracy_20241031.rds\")"
      ]
    },
    {
      "cell_type": "code",
      "execution_count": 17,
      "metadata": {
        "id": "lfXfCndj2t9d"
      },
      "outputs": [
        {
          "name": "stdout",
          "output_type": "stream",
          "text": [
            "   conformal_method   metric         value\n",
            "1    splitconformal coverage  100.00000000\n",
            "2    splitconformal  winkler  981.84974777\n",
            "3    splitconformal       ME  559.58561941\n",
            "4    splitconformal     RMSE  593.74425710\n",
            "5    splitconformal      MAE  559.58561941\n",
            "6    splitconformal      MPE    0.09915813\n",
            "7    splitconformal     MAPE    0.09915813\n",
            "8    splitconformal     MASE   11.57573873\n",
            "9             AgACI coverage   86.66666667\n",
            "10            AgACI  winkler 1770.04184551\n",
            "11            AgACI       ME -115.63456132\n",
            "12            AgACI     RMSE  234.42706737\n",
            "13            AgACI      MAE  206.06445835\n",
            "14            AgACI      MPE   -0.02318314\n",
            "15            AgACI     MAPE    0.04146758\n",
            "16            AgACI     MASE    8.86251472\n",
            "17            SAOCP coverage    0.00000000\n",
            "18            SAOCP  winkler 8126.43890773\n",
            "19            SAOCP       ME -115.63456132\n",
            "20            SAOCP     RMSE  234.42706737\n",
            "21            SAOCP      MAE  206.06445835\n",
            "22            SAOCP      MPE   -0.02318314\n",
            "23            SAOCP     MAPE    0.04146758\n",
            "24            SAOCP     MASE    8.86251472\n",
            "25           SF-OGD coverage    0.00000000\n",
            "26           SF-OGD  winkler 8241.16623572\n",
            "27           SF-OGD       ME -115.63456132\n",
            "28           SF-OGD     RMSE  234.42706737\n",
            "29           SF-OGD      MAE  206.06445835\n",
            "30           SF-OGD      MPE   -0.02318314\n",
            "31           SF-OGD     MAPE    0.04146758\n",
            "32           SF-OGD     MASE    8.86251472\n"
          ]
        }
      ],
      "source": [
        "%%R\n",
        "\n",
        "results[[900]]"
      ]
    },
    {
      "cell_type": "code",
      "execution_count": 18,
      "metadata": {
        "id": "hDJY_3BLy1Z0"
      },
      "outputs": [
        {
          "name": "stdout",
          "output_type": "stream",
          "text": [
            "[1] \"N2005\"\n"
          ]
        }
      ],
      "source": [
        "%%R\n",
        "\n",
        "names(results)[2005]"
      ]
    },
    {
      "cell_type": "code",
      "execution_count": null,
      "metadata": {
        "id": "229lgq2c08gg"
      },
      "outputs": [],
      "source": [
        "%%R\n",
        "\n",
        "utils::install.packages(c(\"dplyr\", \"forecast\"), repos = \"https://cran.r-project.org\")\n",
        "\n",
        "library(dplyr)\n",
        "library(forecast)"
      ]
    },
    {
      "cell_type": "code",
      "execution_count": null,
      "metadata": {
        "id": "Y1wQRTTxzAFZ"
      },
      "outputs": [],
      "source": [
        "%%R\n",
        "\n",
        "# Use foreach to iterate and combine data frames with an identifying column\n",
        "combined_results <- foreach::foreach(name = names(results), .combine = dplyr::bind_rows) %dopar% {\n",
        "    type <- M3[[name]]$type\n",
        "    period <- M3[[name]]$period\n",
        "  results[[name]] %>%\n",
        "    mutate(series_name = name,\n",
        "           type = type,\n",
        "           period = period)\n",
        "}"
      ]
    },
    {
      "cell_type": "code",
      "execution_count": 21,
      "metadata": {
        "id": "z0VoFgK255uz"
      },
      "outputs": [
        {
          "name": "stdout",
          "output_type": "stream",
          "text": [
            "  conformal_method   metric         value series_name  type period\n",
            "1   splitconformal coverage  100.00000000       N0001 MICRO YEARLY\n",
            "2   splitconformal  winkler  961.37125000       N0001 MICRO YEARLY\n",
            "3   splitconformal       ME -451.78614069       N0001 MICRO YEARLY\n",
            "4   splitconformal     RMSE  503.17233162       N0001 MICRO YEARLY\n",
            "5   splitconformal      MAE  451.78614069       N0001 MICRO YEARLY\n",
            "6   splitconformal      MPE   -0.05761112       N0001 MICRO YEARLY\n",
            "      conformal_method metric       value series_name  type period\n",
            "96091           SF-OGD     ME 292.1919670       N3003 OTHER  OTHER\n",
            "96092           SF-OGD   RMSE 331.0231842       N3003 OTHER  OTHER\n",
            "96093           SF-OGD    MAE 292.1919670       N3003 OTHER  OTHER\n",
            "96094           SF-OGD    MPE   0.0753467       N3003 OTHER  OTHER\n",
            "96095           SF-OGD   MAPE   0.0753467       N3003 OTHER  OTHER\n",
            "96096           SF-OGD   MASE   5.1971807       N3003 OTHER  OTHER\n"
          ]
        }
      ],
      "source": [
        "%%R\n",
        "\n",
        "print(head(combined_results))\n",
        "print(tail(combined_results))"
      ]
    },
    {
      "cell_type": "code",
      "execution_count": 22,
      "metadata": {
        "id": "zGMvYWxpG_BN"
      },
      "outputs": [
        {
          "data": {
            "image/png": "[encoded data removed]",
            "text/plain": [
              "<IPython.core.display.Image object>"
            ]
          },
          "metadata": {},
          "output_type": "display_data"
        }
      ],
      "source": [
        "%%R\n",
        "\n",
        "library(ggplot2)\n",
        "\n",
        "# Filter the data to only include rows where metric is 'coverage'\n",
        "df_coverage <- combined_results %>% filter(metric == 'coverage')\n",
        "\n",
        "# Boxplot\n",
        "ggplot(df_coverage, aes(x = conformal_method, y = value)) +\n",
        "  geom_boxplot(fill = \"lightgray\") +\n",
        "  labs(title = \"Distribution of Coverage rate for 3003 time series by Conformal Method\",\n",
        "       x = \"Conformal Method\",\n",
        "       y = \"Coverage\") +\n",
        "  theme_minimal()\n"
      ]
    },
    {
      "cell_type": "code",
      "execution_count": 23,
      "metadata": {
        "id": "rt6j15-7IIdu"
      },
      "outputs": [
        {
          "data": {
            "image/png": "[encoded data removed]",
            "text/plain": [
              "<IPython.core.display.Image object>"
            ]
          },
          "metadata": {},
          "output_type": "display_data"
        }
      ],
      "source": [
        "%%R\n",
        "\n",
        "# Winkler score, the lower the better\n",
        "df_winkler <- combined_results %>% filter(metric == 'winkler')\n",
        "\n",
        "# Boxplot\n",
        "ggplot(df_winkler, aes(x = conformal_method, y = log(value))) +\n",
        "  geom_boxplot(fill = \"lightgray\") +\n",
        "  labs(title = \"Distribution of log(Winkler score) for 3003 time series by Conformal Method\",\n",
        "       x = \"Conformal Method\",\n",
        "       y = \"Winkler score\") +\n",
        "  theme_minimal()\n"
      ]
    },
    {
      "cell_type": "code",
      "execution_count": 24,
      "metadata": {
        "id": "CiD4eqqxIoSU"
      },
      "outputs": [
        {
          "data": {
            "image/png": "[encoded data removed]",
            "text/plain": [
              "<IPython.core.display.Image object>"
            ]
          },
          "metadata": {},
          "output_type": "display_data"
        }
      ],
      "source": [
        "%%R\n",
        "\n",
        "# Filter the data to only include rows where metric is 'coverage'\n",
        "df_RMSE <- combined_results %>% filter(metric == 'RMSE')\n",
        "\n",
        "# Boxplot\n",
        "ggplot(df_RMSE, aes(x = conformal_method, y = log(value))) +\n",
        "  geom_boxplot(fill = \"lightgray\") +\n",
        "  labs(title = \"Distribution of log(RMSE) for 3003 time series by Conformal Method\",\n",
        "       x = \"Conformal Method\",\n",
        "       y = \"RMSE\") +\n",
        "  theme_minimal()\n"
      ]
    },
    {
      "cell_type": "markdown",
      "metadata": {},
      "source": [
        "The point is really uncertainty in this context, i.e coverage rate and Winkler score. Not RMSE. "
      ]
    },
    {
      "cell_type": "code",
      "execution_count": 25,
      "metadata": {
        "id": "dGVhXnf08HVO"
      },
      "outputs": [],
      "source": [
        "%%R\n",
        "\n",
        "saveRDS(combined_results, \"combined_results_M3_coverages_accuracy_20241031.rds\")"
      ]
    },
    {
      "cell_type": "code",
      "execution_count": 26,
      "metadata": {
        "id": "45HQJeIb8fkD"
      },
      "outputs": [
        {
          "name": "stdout",
          "output_type": "stream",
          "text": [
            "`summarise()` has grouped output by 'conformal_method'. You can override using\n",
            "the `.groups` argument.\n",
            "# A tibble: 16 × 3\n",
            "# Groups:   conformal_method [4]\n",
            "   conformal_method period    average_coverage\n",
            "   <fct>            <chr>                <dbl>\n",
            " 1 splitconformal   MONTHLY           100     \n",
            " 2 splitconformal   OTHER             100     \n",
            " 3 splitconformal   QUARTERLY         100     \n",
            " 4 splitconformal   YEARLY            100     \n",
            " 5 AgACI            MONTHLY            72.4   \n",
            " 6 AgACI            OTHER              48.4   \n",
            " 7 AgACI            QUARTERLY          52.2   \n",
            " 8 AgACI            YEARLY             31.8   \n",
            " 9 SAOCP            MONTHLY             0.880 \n",
            "10 SAOCP            OTHER               1.26  \n",
            "11 SAOCP            QUARTERLY           0.275 \n",
            "12 SAOCP            YEARLY              0.109 \n",
            "13 SF-OGD           MONTHLY             0     \n",
            "14 SF-OGD           OTHER               0.0547\n",
            "15 SF-OGD           QUARTERLY           0     \n",
            "16 SF-OGD           YEARLY              0     \n"
          ]
        }
      ],
      "source": [
        "%%R\n",
        "\n",
        "# Assuming 'combined_results' is the data frame you loaded from the RDS file\n",
        "average_coverage <- combined_results %>%\n",
        "  group_by(conformal_method, period) %>%\n",
        "  summarise(average_coverage = mean(value[metric == \"coverage\"]))\n",
        "\n",
        "average_coverage"
      ]
    },
    {
      "cell_type": "code",
      "execution_count": 27,
      "metadata": {
        "id": "ilSRNgGL80Yz"
      },
      "outputs": [
        {
          "name": "stdout",
          "output_type": "stream",
          "text": [
            "`summarise()` has grouped output by 'conformal_method'. You can override using\n",
            "the `.groups` argument.\n",
            "# A tibble: 16 × 3\n",
            "# Groups:   conformal_method [4]\n",
            "   conformal_method period    average_winkler\n",
            "   <fct>            <chr>               <dbl>\n",
            " 1 splitconformal   MONTHLY             2748.\n",
            " 2 splitconformal   OTHER               1174.\n",
            " 3 splitconformal   QUARTERLY           1663.\n",
            " 4 splitconformal   YEARLY              1735.\n",
            " 5 AgACI            MONTHLY             5369.\n",
            " 6 AgACI            OTHER               2238.\n",
            " 7 AgACI            QUARTERLY           5848.\n",
            " 8 AgACI            YEARLY             14569.\n",
            " 9 SAOCP            MONTHLY            25397.\n",
            "10 SAOCP            OTHER              12282.\n",
            "11 SAOCP            QUARTERLY          21957.\n",
            "12 SAOCP            YEARLY             41459.\n",
            "13 SF-OGD           MONTHLY            25570.\n",
            "14 SF-OGD           OTHER              12401.\n",
            "15 SF-OGD           QUARTERLY          22036.\n",
            "16 SF-OGD           YEARLY             41505.\n"
          ]
        }
      ],
      "source": [
        "%%R\n",
        "\n",
        "# Assuming 'combined_results' is the data frame you loaded from the RDS file\n",
        "# Winkler score, the lower the better\n",
        "average_winkler <- combined_results %>%\n",
        "  group_by(conformal_method, period) %>%\n",
        "  summarise(average_winkler = mean(value[metric == \"winkler\"]))\n",
        "\n",
        "average_winkler"
      ]
    },
    {
      "cell_type": "code",
      "execution_count": 28,
      "metadata": {
        "id": "ko5oaiHu9EJt"
      },
      "outputs": [
        {
          "name": "stdout",
          "output_type": "stream",
          "text": [
            "`summarise()` has grouped output by 'conformal_method'. You can override using\n",
            "the `.groups` argument.\n",
            "# A tibble: 16 × 3\n",
            "# Groups:   conformal_method [4]\n",
            "   conformal_method period    average_RMSE\n",
            "   <fct>            <chr>            <dbl>\n",
            " 1 splitconformal   MONTHLY          1194.\n",
            " 2 splitconformal   OTHER             668.\n",
            " 3 splitconformal   QUARTERLY        1129.\n",
            " 4 splitconformal   YEARLY           1662.\n",
            " 5 AgACI            MONTHLY           780.\n",
            " 6 AgACI            OTHER             360.\n",
            " 7 AgACI            QUARTERLY         649.\n",
            " 8 AgACI            YEARLY           1183.\n",
            " 9 SAOCP            MONTHLY           780.\n",
            "10 SAOCP            OTHER             360.\n",
            "11 SAOCP            QUARTERLY         649.\n",
            "12 SAOCP            YEARLY           1183.\n",
            "13 SF-OGD           MONTHLY           780.\n",
            "14 SF-OGD           OTHER             360.\n",
            "15 SF-OGD           QUARTERLY         649.\n",
            "16 SF-OGD           YEARLY           1183.\n"
          ]
        }
      ],
      "source": [
        "%%R\n",
        "\n",
        "# Assuming 'combined_results' is the data frame you loaded from the RDS file\n",
        "average_RMSE <- combined_results %>%\n",
        "  group_by(conformal_method, period) %>%\n",
        "  summarise(average_RMSE = mean(value[metric == \"RMSE\"]))\n",
        "\n",
        "average_RMSE"
      ]
    },
    {
      "cell_type": "markdown",
      "metadata": {},
      "source": [
        "Again, the point is really uncertainty in this context, i.e coverage rate and Winkler score. Not RMSE. "
      ]
    },
    {
      "cell_type": "code",
      "execution_count": null,
      "metadata": {
        "id": "2f_F52gX-PxT"
      },
      "outputs": [],
      "source": [
        "%%R\n",
        "\n",
        "utils::install.packages(\"knitr\")\n",
        "utils::install.packages(\"kableExtra\")"
      ]
    },
    {
      "cell_type": "code",
      "execution_count": 31,
      "metadata": {
        "id": "MGvnSVqh91Gk"
      },
      "outputs": [],
      "source": [
        "%%R\n",
        "\n",
        "library(knitr)\n",
        "library(kableExtra)"
      ]
    },
    {
      "cell_type": "code",
      "execution_count": 32,
      "metadata": {
        "id": "v6b8C1-U-3Lt"
      },
      "outputs": [
        {
          "name": "stdout",
          "output_type": "stream",
          "text": [
            "\\begin{table}\n",
            "\\centering\n",
            "\\caption{Average Coverage by Method and Period}\n",
            "\\centering\n",
            "\\resizebox{\\ifdim\\width>\\linewidth\\linewidth\\else\\width\\fi}{!}{\n",
            "\\begin{tabular}[t]{llr}\n",
            "\\toprule\n",
            "conformal\\_method & period & average\\_coverage\\\\\n",
            "\\midrule\n",
            "\\cellcolor{gray!10}{splitconformal} & \\cellcolor{gray!10}{MONTHLY} & \\cellcolor{gray!10}{100.0000000}\\\\\n",
            "splitconformal & OTHER & 100.0000000\\\\\n",
            "\\cellcolor{gray!10}{splitconformal} & \\cellcolor{gray!10}{QUARTERLY} & \\cellcolor{gray!10}{100.0000000}\\\\\n",
            "splitconformal & YEARLY & 100.0000000\\\\\n",
            "\\cellcolor{gray!10}{AgACI} & \\cellcolor{gray!10}{MONTHLY} & \\cellcolor{gray!10}{72.4303909}\\\\\n",
            "\\addlinespace\n",
            "AgACI & OTHER & 48.3811720\\\\\n",
            "\\cellcolor{gray!10}{AgACI} & \\cellcolor{gray!10}{QUARTERLY} & \\cellcolor{gray!10}{52.1629623}\\\\\n",
            "AgACI & YEARLY & 31.8191214\\\\\n",
            "\\cellcolor{gray!10}{SAOCP} & \\cellcolor{gray!10}{MONTHLY} & \\cellcolor{gray!10}{0.8799117}\\\\\n",
            "SAOCP & OTHER & 1.2609469\\\\\n",
            "\\addlinespace\n",
            "\\cellcolor{gray!10}{SAOCP} & \\cellcolor{gray!10}{QUARTERLY} & \\cellcolor{gray!10}{0.2752630}\\\\\n",
            "SAOCP & YEARLY & 0.1085271\\\\\n",
            "\\cellcolor{gray!10}{SF-OGD} & \\cellcolor{gray!10}{MONTHLY} & \\cellcolor{gray!10}{0.0000000}\\\\\n",
            "SF-OGD & OTHER & 0.0547345\\\\\n",
            "\\cellcolor{gray!10}{SF-OGD} & \\cellcolor{gray!10}{QUARTERLY} & \\cellcolor{gray!10}{0.0000000}\\\\\n",
            "\\addlinespace\n",
            "SF-OGD & YEARLY & 0.0000000\\\\\n",
            "\\bottomrule\n",
            "\\end{tabular}}\n",
            "\\end{table}\n"
          ]
        }
      ],
      "source": [
        "%%R\n",
        "\n",
        "# Assuming 'average_coverage' is your data frame\n",
        "kable(average_coverage, format = \"latex\", booktabs = TRUE,\n",
        "      caption = \"Average Coverage by Method and Period\") %>%\n",
        "  kable_styling(latex_options = c(\"striped\", \"scale_down\"))"
      ]
    },
    {
      "cell_type": "code",
      "execution_count": 33,
      "metadata": {
        "id": "vKwWKS1o-6ki"
      },
      "outputs": [
        {
          "name": "stdout",
          "output_type": "stream",
          "text": [
            "\\begin{table}\n",
            "\\centering\n",
            "\\caption{Average Winkler Score by Method and Period}\n",
            "\\centering\n",
            "\\resizebox{\\ifdim\\width>\\linewidth\\linewidth\\else\\width\\fi}{!}{\n",
            "\\begin{tabular}[t]{llr}\n",
            "\\toprule\n",
            "conformal\\_method & period & average\\_winkler\\\\\n",
            "\\midrule\n",
            "\\cellcolor{gray!10}{splitconformal} & \\cellcolor{gray!10}{MONTHLY} & \\cellcolor{gray!10}{2748.174}\\\\\n",
            "splitconformal & OTHER & 1174.329\\\\\n",
            "\\cellcolor{gray!10}{splitconformal} & \\cellcolor{gray!10}{QUARTERLY} & \\cellcolor{gray!10}{1663.088}\\\\\n",
            "splitconformal & YEARLY & 1735.325\\\\\n",
            "\\cellcolor{gray!10}{AgACI} & \\cellcolor{gray!10}{MONTHLY} & \\cellcolor{gray!10}{5368.826}\\\\\n",
            "\\addlinespace\n",
            "AgACI & OTHER & 2237.696\\\\\n",
            "\\cellcolor{gray!10}{AgACI} & \\cellcolor{gray!10}{QUARTERLY} & \\cellcolor{gray!10}{5847.555}\\\\\n",
            "AgACI & YEARLY & 14568.552\\\\\n",
            "\\cellcolor{gray!10}{SAOCP} & \\cellcolor{gray!10}{MONTHLY} & \\cellcolor{gray!10}{25396.600}\\\\\n",
            "SAOCP & OTHER & 12282.197\\\\\n",
            "\\addlinespace\n",
            "\\cellcolor{gray!10}{SAOCP} & \\cellcolor{gray!10}{QUARTERLY} & \\cellcolor{gray!10}{21956.867}\\\\\n",
            "SAOCP & YEARLY & 41459.081\\\\\n",
            "\\cellcolor{gray!10}{SF-OGD} & \\cellcolor{gray!10}{MONTHLY} & \\cellcolor{gray!10}{25569.669}\\\\\n",
            "SF-OGD & OTHER & 12401.179\\\\\n",
            "\\cellcolor{gray!10}{SF-OGD} & \\cellcolor{gray!10}{QUARTERLY} & \\cellcolor{gray!10}{22035.548}\\\\\n",
            "\\addlinespace\n",
            "SF-OGD & YEARLY & 41504.670\\\\\n",
            "\\bottomrule\n",
            "\\end{tabular}}\n",
            "\\end{table}\n"
          ]
        }
      ],
      "source": [
        "%%R\n",
        "\n",
        "# Assuming 'average_winkler' is your data frame\n",
        "kable(average_winkler, format = \"latex\", booktabs = TRUE,\n",
        "      caption = \"Average Winkler Score by Method and Period\") %>%\n",
        "  kable_styling(latex_options = c(\"striped\", \"scale_down\"))\n"
      ]
    },
    {
      "cell_type": "code",
      "execution_count": 34,
      "metadata": {
        "id": "RoOBPJty-9KD"
      },
      "outputs": [
        {
          "name": "stdout",
          "output_type": "stream",
          "text": [
            "\\begin{table}\n",
            "\\centering\n",
            "\\caption{Average RMSE by Method and Period}\n",
            "\\centering\n",
            "\\resizebox{\\ifdim\\width>\\linewidth\\linewidth\\else\\width\\fi}{!}{\n",
            "\\begin{tabular}[t]{llr}\n",
            "\\toprule\n",
            "conformal\\_method & period & average\\_RMSE\\\\\n",
            "\\midrule\n",
            "\\cellcolor{gray!10}{splitconformal} & \\cellcolor{gray!10}{MONTHLY} & \\cellcolor{gray!10}{1193.5822}\\\\\n",
            "splitconformal & OTHER & 667.5194\\\\\n",
            "\\cellcolor{gray!10}{splitconformal} & \\cellcolor{gray!10}{QUARTERLY} & \\cellcolor{gray!10}{1128.5092}\\\\\n",
            "splitconformal & YEARLY & 1662.1212\\\\\n",
            "\\cellcolor{gray!10}{AgACI} & \\cellcolor{gray!10}{MONTHLY} & \\cellcolor{gray!10}{779.9480}\\\\\n",
            "\\addlinespace\n",
            "AgACI & OTHER & 359.7805\\\\\n",
            "\\cellcolor{gray!10}{AgACI} & \\cellcolor{gray!10}{QUARTERLY} & \\cellcolor{gray!10}{649.2999}\\\\\n",
            "AgACI & YEARLY & 1182.6598\\\\\n",
            "\\cellcolor{gray!10}{SAOCP} & \\cellcolor{gray!10}{MONTHLY} & \\cellcolor{gray!10}{779.9480}\\\\\n",
            "SAOCP & OTHER & 359.7805\\\\\n",
            "\\addlinespace\n",
            "\\cellcolor{gray!10}{SAOCP} & \\cellcolor{gray!10}{QUARTERLY} & \\cellcolor{gray!10}{649.2999}\\\\\n",
            "SAOCP & YEARLY & 1182.6598\\\\\n",
            "\\cellcolor{gray!10}{SF-OGD} & \\cellcolor{gray!10}{MONTHLY} & \\cellcolor{gray!10}{779.9480}\\\\\n",
            "SF-OGD & OTHER & 359.7805\\\\\n",
            "\\cellcolor{gray!10}{SF-OGD} & \\cellcolor{gray!10}{QUARTERLY} & \\cellcolor{gray!10}{649.2999}\\\\\n",
            "\\addlinespace\n",
            "SF-OGD & YEARLY & 1182.6598\\\\\n",
            "\\bottomrule\n",
            "\\end{tabular}}\n",
            "\\end{table}\n"
          ]
        }
      ],
      "source": [
        "%%R\n",
        "\n",
        "# Assuming 'average_RMSE' is your data frame\n",
        "kable(average_RMSE, format = \"latex\", booktabs = TRUE,\n",
        "      caption = \"Average RMSE by Method and Period\") %>%\n",
        "  kable_styling(latex_options = c(\"striped\", \"scale_down\"))"
      ]
    },
    {
      "cell_type": "markdown",
      "metadata": {
        "id": "wTGIaufKMq-N"
      },
      "source": [
        "# 2 - M5 competition (Python code), 42840 time series aggregated by item (3049 items)"
      ]
    },
    {
      "cell_type": "markdown",
      "metadata": {
        "id": "z7S8hz4KMPp4"
      },
      "source": [
        "## 2 - 1 - Loading packages"
      ]
    },
    {
      "cell_type": "code",
      "execution_count": null,
      "metadata": {
        "execution": {
          "iopub.execute_input": "2024-10-22T07:56:01.731500Z",
          "iopub.status.busy": "2024-10-22T07:56:01.731180Z",
          "iopub.status.idle": "2024-10-22T07:56:08.441284Z",
          "shell.execute_reply": "2024-10-22T07:56:08.440354Z",
          "shell.execute_reply.started": "2024-10-22T07:56:01.731470Z"
        },
        "id": "SaeqQHKSXUfC",
        "trusted": true
      },
      "outputs": [],
      "source": [
        "!pip install nnetsauce xgboost lightgbm numpy pandas scikit-learn"
      ]
    },
    {
      "cell_type": "code",
      "execution_count": 36,
      "metadata": {
        "execution": {
          "iopub.execute_input": "2024-10-22T07:56:24.719436Z",
          "iopub.status.busy": "2024-10-22T07:56:24.719186Z",
          "iopub.status.idle": "2024-10-22T07:56:24.751733Z",
          "shell.execute_reply": "2024-10-22T07:56:24.750717Z",
          "shell.execute_reply.started": "2024-10-22T07:56:24.719404Z"
        },
        "id": "VNhPZ8MAXUfF",
        "trusted": true
      },
      "outputs": [],
      "source": [
        "import nnetsauce as ns\n",
        "import lightgbm as lgb\n",
        "import xgboost as xgb\n",
        "import numpy as np\n",
        "import pandas as pd\n",
        "from sklearn.ensemble import GradientBoostingRegressor"
      ]
    },
    {
      "cell_type": "markdown",
      "metadata": {
        "id": "YhyLcZwJXUfG"
      },
      "source": [
        "## 2 - 2 - Useful functions"
      ]
    },
    {
      "cell_type": "code",
      "execution_count": 37,
      "metadata": {
        "execution": {
          "iopub.status.busy": "2024-10-22T07:56:24.752877Z",
          "iopub.status.idle": "2024-10-22T07:56:24.753225Z",
          "shell.execute_reply": "2024-10-22T07:56:24.753049Z"
        },
        "id": "ELtemBQ9XUfG",
        "trusted": true
      },
      "outputs": [],
      "source": [
        "def calculate_coverage(lower_pred, upper_pred, y_true):\n",
        "    \"\"\"Calculate coverage of the prediction intervals.\"\"\"\n",
        "    within_bounds = np.logical_and(lower_pred <= y_true, y_true <= upper_pred)\n",
        "    return np.mean(within_bounds)\n",
        "\n",
        "def calculate_winkler_score(lower_pred, upper_pred, y_true, alpha=0.05):\n",
        "    \"\"\"Calculate Winkler score for predictions.\"\"\"\n",
        "\n",
        "    penalty = 2*np.maximum(lower_pred - y_true, 0)/alpha\n",
        "\n",
        "    penalty += 2*np.maximum(y_true - upper_pred, 0)/alpha\n",
        "\n",
        "    scores = (upper_pred - lower_pred) + penalty\n",
        "\n",
        "    return np.mean(scores)\n"
      ]
    },
    {
      "cell_type": "markdown",
      "metadata": {
        "id": "aZbJYDHOXUfG"
      },
      "source": [
        "## 2 - 3 Loading data <a class=\"anchor\" id=\"data\"></a>"
      ]
    },
    {
      "cell_type": "markdown",
      "metadata": {
        "id": "mlNlmSudXUfH"
      },
      "source": [
        "### Sales Training Data"
      ]
    },
    {
      "cell_type": "markdown",
      "metadata": {
        "id": "CFvbg3qv1eOf"
      },
      "source": [
        "There are initially 42840 time series in the M5 competition. They're aggregated here by item."
      ]
    },
    {
      "cell_type": "code",
      "execution_count": 38,
      "metadata": {
        "colab": {
          "base_uri": "https://localhost:8080/",
          "height": 256
        },
        "execution": {
          "iopub.execute_input": "2024-10-22T07:57:52.318964Z",
          "iopub.status.busy": "2024-10-22T07:57:52.318654Z",
          "iopub.status.idle": "2024-10-22T07:57:58.412318Z",
          "shell.execute_reply": "2024-10-22T07:57:58.411500Z",
          "shell.execute_reply.started": "2024-10-22T07:57:52.318930Z"
        },
        "id": "D_AAZeTNXUfH",
        "outputId": "c91435e6-1660-4a98-86d3-647dc7f907c9",
        "trusted": true
      },
      "outputs": [
        {
          "data": {
            "text/html": [
              "<div>\n",
              "<style scoped>\n",
              "    .dataframe tbody tr th:only-of-type {\n",
              "        vertical-align: middle;\n",
              "    }\n",
              "\n",
              "    .dataframe tbody tr th {\n",
              "        vertical-align: top;\n",
              "    }\n",
              "\n",
              "    .dataframe thead th {\n",
              "        text-align: right;\n",
              "    }\n",
              "</style>\n",
              "<table border=\"1\" class=\"dataframe\">\n",
              "  <thead>\n",
              "    <tr style=\"text-align: right;\">\n",
              "      <th></th>\n",
              "      <th>item_id</th>\n",
              "      <th>d_1</th>\n",
              "      <th>d_2</th>\n",
              "      <th>d_3</th>\n",
              "      <th>d_4</th>\n",
              "      <th>d_5</th>\n",
              "      <th>d_6</th>\n",
              "      <th>d_7</th>\n",
              "      <th>d_8</th>\n",
              "      <th>d_9</th>\n",
              "      <th>...</th>\n",
              "      <th>d_1904</th>\n",
              "      <th>d_1905</th>\n",
              "      <th>d_1906</th>\n",
              "      <th>d_1907</th>\n",
              "      <th>d_1908</th>\n",
              "      <th>d_1909</th>\n",
              "      <th>d_1910</th>\n",
              "      <th>d_1911</th>\n",
              "      <th>d_1912</th>\n",
              "      <th>d_1913</th>\n",
              "    </tr>\n",
              "  </thead>\n",
              "  <tbody>\n",
              "    <tr>\n",
              "      <th>0</th>\n",
              "      <td>FOODS_1_001</td>\n",
              "      <td>6</td>\n",
              "      <td>6</td>\n",
              "      <td>4</td>\n",
              "      <td>6</td>\n",
              "      <td>7</td>\n",
              "      <td>18</td>\n",
              "      <td>10</td>\n",
              "      <td>4</td>\n",
              "      <td>11</td>\n",
              "      <td>...</td>\n",
              "      <td>4</td>\n",
              "      <td>4</td>\n",
              "      <td>30</td>\n",
              "      <td>7</td>\n",
              "      <td>5</td>\n",
              "      <td>3</td>\n",
              "      <td>6</td>\n",
              "      <td>2</td>\n",
              "      <td>16</td>\n",
              "      <td>6</td>\n",
              "    </tr>\n",
              "    <tr>\n",
              "      <th>1</th>\n",
              "      <td>FOODS_1_002</td>\n",
              "      <td>4</td>\n",
              "      <td>5</td>\n",
              "      <td>7</td>\n",
              "      <td>4</td>\n",
              "      <td>3</td>\n",
              "      <td>4</td>\n",
              "      <td>1</td>\n",
              "      <td>7</td>\n",
              "      <td>2</td>\n",
              "      <td>...</td>\n",
              "      <td>5</td>\n",
              "      <td>9</td>\n",
              "      <td>4</td>\n",
              "      <td>1</td>\n",
              "      <td>3</td>\n",
              "      <td>5</td>\n",
              "      <td>5</td>\n",
              "      <td>3</td>\n",
              "      <td>3</td>\n",
              "      <td>1</td>\n",
              "    </tr>\n",
              "    <tr>\n",
              "      <th>2</th>\n",
              "      <td>FOODS_1_003</td>\n",
              "      <td>14</td>\n",
              "      <td>8</td>\n",
              "      <td>3</td>\n",
              "      <td>6</td>\n",
              "      <td>3</td>\n",
              "      <td>8</td>\n",
              "      <td>13</td>\n",
              "      <td>10</td>\n",
              "      <td>11</td>\n",
              "      <td>...</td>\n",
              "      <td>7</td>\n",
              "      <td>3</td>\n",
              "      <td>5</td>\n",
              "      <td>6</td>\n",
              "      <td>3</td>\n",
              "      <td>4</td>\n",
              "      <td>4</td>\n",
              "      <td>3</td>\n",
              "      <td>11</td>\n",
              "      <td>5</td>\n",
              "    </tr>\n",
              "    <tr>\n",
              "      <th>3</th>\n",
              "      <td>FOODS_1_004</td>\n",
              "      <td>0</td>\n",
              "      <td>0</td>\n",
              "      <td>0</td>\n",
              "      <td>0</td>\n",
              "      <td>0</td>\n",
              "      <td>0</td>\n",
              "      <td>0</td>\n",
              "      <td>0</td>\n",
              "      <td>0</td>\n",
              "      <td>...</td>\n",
              "      <td>0</td>\n",
              "      <td>0</td>\n",
              "      <td>0</td>\n",
              "      <td>0</td>\n",
              "      <td>0</td>\n",
              "      <td>0</td>\n",
              "      <td>0</td>\n",
              "      <td>0</td>\n",
              "      <td>0</td>\n",
              "      <td>0</td>\n",
              "    </tr>\n",
              "    <tr>\n",
              "      <th>4</th>\n",
              "      <td>FOODS_1_005</td>\n",
              "      <td>34</td>\n",
              "      <td>32</td>\n",
              "      <td>13</td>\n",
              "      <td>20</td>\n",
              "      <td>10</td>\n",
              "      <td>21</td>\n",
              "      <td>18</td>\n",
              "      <td>20</td>\n",
              "      <td>25</td>\n",
              "      <td>...</td>\n",
              "      <td>16</td>\n",
              "      <td>14</td>\n",
              "      <td>14</td>\n",
              "      <td>18</td>\n",
              "      <td>18</td>\n",
              "      <td>27</td>\n",
              "      <td>12</td>\n",
              "      <td>15</td>\n",
              "      <td>38</td>\n",
              "      <td>9</td>\n",
              "    </tr>\n",
              "  </tbody>\n",
              "</table>\n",
              "<p>5 rows × 1914 columns</p>\n",
              "</div>"
            ],
            "text/plain": [
              "       item_id  d_1  d_2  d_3  d_4  d_5  d_6  d_7  d_8  d_9  ...  d_1904  \\\n",
              "0  FOODS_1_001    6    6    4    6    7   18   10    4   11  ...       4   \n",
              "1  FOODS_1_002    4    5    7    4    3    4    1    7    2  ...       5   \n",
              "2  FOODS_1_003   14    8    3    6    3    8   13   10   11  ...       7   \n",
              "3  FOODS_1_004    0    0    0    0    0    0    0    0    0  ...       0   \n",
              "4  FOODS_1_005   34   32   13   20   10   21   18   20   25  ...      16   \n",
              "\n",
              "   d_1905  d_1906  d_1907  d_1908  d_1909  d_1910  d_1911  d_1912  d_1913  \n",
              "0       4      30       7       5       3       6       2      16       6  \n",
              "1       9       4       1       3       5       5       3       3       1  \n",
              "2       3       5       6       3       4       4       3      11       5  \n",
              "3       0       0       0       0       0       0       0       0       0  \n",
              "4      14      14      18      18      27      12      15      38       9  \n",
              "\n",
              "[5 rows x 1914 columns]"
            ]
          },
          "execution_count": 38,
          "metadata": {},
          "output_type": "execute_result"
        }
      ],
      "source": [
        "df = pd.read_csv(\"https://raw.githubusercontent.com/Techtonique/datasets/refs/heads/main/time_series/univariate/m5-forecasting-uncertainty-sales-per-item.csv\")\n",
        "df.head()"
      ]
    },
    {
      "cell_type": "code",
      "execution_count": 39,
      "metadata": {
        "colab": {
          "base_uri": "https://localhost:8080/"
        },
        "execution": {
          "iopub.execute_input": "2024-10-22T07:58:43.031321Z",
          "iopub.status.busy": "2024-10-22T07:58:43.031036Z",
          "iopub.status.idle": "2024-10-22T07:58:47.806205Z",
          "shell.execute_reply": "2024-10-22T07:58:47.805451Z",
          "shell.execute_reply.started": "2024-10-22T07:58:43.031294Z"
        },
        "id": "2Sfb7guuXUfI",
        "outputId": "285cef2b-5ee3-4157-8cf6-1c1f6a6e315f",
        "trusted": true
      },
      "outputs": [
        {
          "name": "stdout",
          "output_type": "stream",
          "text": [
            "          d_1     d_2     d_3     d_4     d_5     d_6     d_7     d_8     d_9  \\\n",
            "count 3049.00 3049.00 3049.00 3049.00 3049.00 3049.00 3049.00 3049.00 3049.00   \n",
            "mean    10.70   10.41    7.80    8.33    6.28    9.58    9.19   12.44   10.74   \n",
            "std     40.83   42.11   27.32   33.27   23.33   35.77   37.81   51.89   44.53   \n",
            "min      0.00    0.00    0.00    0.00    0.00    0.00    0.00    0.00    0.00   \n",
            "25%      0.00    0.00    0.00    0.00    0.00    0.00    0.00    0.00    0.00   \n",
            "50%      0.00    0.00    0.00    0.00    0.00    0.00    0.00    0.00    0.00   \n",
            "75%      9.00    9.00    6.00    7.00    5.00    8.00    7.00   10.00    9.00   \n",
            "max   1345.00 1534.00  757.00 1196.00  749.00 1064.00 1187.00 1745.00 1367.00   \n",
            "\n",
            "         d_10  ...  d_1904  d_1905  d_1906  d_1907  d_1908  d_1909  d_1910  \\\n",
            "count 3049.00  ... 3049.00 3049.00 3049.00 3049.00 3049.00 3049.00 3049.00   \n",
            "mean     8.39  ...   13.71   15.86   16.94   12.48   12.32   11.59   11.49   \n",
            "std     28.00  ...   27.06   31.44   32.45   23.56   22.79   20.87   21.28   \n",
            "min      0.00  ...    0.00    0.00    0.00    0.00    0.00    0.00    0.00   \n",
            "25%      0.00  ...    3.00    3.00    4.00    2.00    2.00    2.00    2.00   \n",
            "50%      0.00  ...    7.00    8.00    8.00    6.00    6.00    6.00    6.00   \n",
            "75%      7.00  ...   14.00   17.00   17.00   14.00   13.00   12.00   12.00   \n",
            "max    783.00  ...  672.00  832.00  789.00  486.00  434.00  425.00  422.00   \n",
            "\n",
            "       d_1911  d_1912  d_1913  \n",
            "count 3049.00 3049.00 3049.00  \n",
            "mean    13.29   16.06   16.33  \n",
            "std     25.15   31.22   28.47  \n",
            "min      0.00    0.00    0.00  \n",
            "25%      3.00    3.00    4.00  \n",
            "50%      7.00    8.00    8.00  \n",
            "75%     14.00   17.00   18.00  \n",
            "max    629.00  793.00  592.00  \n",
            "\n",
            "[8 rows x 1913 columns]\n"
          ]
        }
      ],
      "source": [
        "print(df.describe())"
      ]
    },
    {
      "cell_type": "code",
      "execution_count": 40,
      "metadata": {
        "colab": {
          "base_uri": "https://localhost:8080/"
        },
        "execution": {
          "iopub.execute_input": "2024-10-22T07:58:59.750770Z",
          "iopub.status.busy": "2024-10-22T07:58:59.750467Z",
          "iopub.status.idle": "2024-10-22T07:58:59.899273Z",
          "shell.execute_reply": "2024-10-22T07:58:59.898574Z",
          "shell.execute_reply.started": "2024-10-22T07:58:59.750741Z"
        },
        "id": "CNTehQDuXUfJ",
        "outputId": "5f056587-89d3-4833-8d1f-8729eab4dc0a",
        "trusted": true
      },
      "outputs": [
        {
          "name": "stdout",
          "output_type": "stream",
          "text": [
            "<class 'pandas.core.frame.DataFrame'>\n",
            "RangeIndex: 3049 entries, 0 to 3048\n",
            "Columns: 1914 entries, item_id to d_1913\n",
            "dtypes: int64(1913), object(1)\n",
            "memory usage: 44.5+ MB\n",
            "None\n"
          ]
        }
      ],
      "source": [
        "print(df.info())"
      ]
    },
    {
      "cell_type": "markdown",
      "metadata": {
        "id": "NhqN0aI7XUfJ"
      },
      "source": [
        "## 2 - 4 Forecasting"
      ]
    },
    {
      "cell_type": "code",
      "execution_count": 41,
      "metadata": {
        "id": "TKOu1qP0j36n"
      },
      "outputs": [],
      "source": [
        "from time import time"
      ]
    },
    {
      "cell_type": "markdown",
      "metadata": {
        "id": "ohQQ5ZDTl1lv"
      },
      "source": [
        "### 2 - 4 - 1 Functions"
      ]
    },
    {
      "cell_type": "code",
      "execution_count": 42,
      "metadata": {
        "id": "jMmb-d5OeozX"
      },
      "outputs": [],
      "source": [
        "def forecast(df, idx=0, model=\"xgb\", pi_method= \"quantile\",\n",
        "             pct_train=0.9, **kwargs):\n",
        "\n",
        "  assert pct_train > 0.6, \"must have pct_train > 0.6\"\n",
        "\n",
        "  x = df.iloc[idx, 1:].diff().dropna().values.astype(np.float64)\n",
        "  n_points = len(x)\n",
        "  x_train = x[:int(n_points*pct_train)].ravel()\n",
        "  x_test = x[int(n_points*pct_train):].ravel()\n",
        "  lags = 1 # number of lags to consider\n",
        "  h = len(x_test)\n",
        "\n",
        "  if pi_method == \"conformal\":\n",
        "\n",
        "    if model == \"xgb\":\n",
        "      regr = ns.MTS(obj=xgb.XGBRegressor(\n",
        "                  tree_method=\"hist\", **kwargs),\n",
        "                  n_hidden_features=0,\n",
        "                  type_pi=\"scp2-kde\", # split conformal prediction with KDE simulation\n",
        "                  replications=250, # number of simulations\n",
        "                  lags=lags,\n",
        "                  show_progress=False,\n",
        "                  verbose=0)\n",
        "    elif model == \"gb\":\n",
        "      regr = ns.MTS(obj=GradientBoostingRegressor(**kwargs),\n",
        "                      n_hidden_features=0,\n",
        "                      type_pi=\"scp2-kde\", # split conformal prediction with KDE simulation\n",
        "                      replications=250, # number of simulations\n",
        "                      lags=lags,\n",
        "                      show_progress=False,\n",
        "                      verbose=0)\n",
        "    elif model == \"lgb\":\n",
        "      regr = ns.MTS(obj=lgb.LGBMRegressor(verbosity=-1, **kwargs),\n",
        "                      n_hidden_features=0,\n",
        "                      type_pi=\"scp2-kde\", # split conformal prediction with KDE simulation\n",
        "                      replications=250, # number of simulations\n",
        "                      lags=lags,\n",
        "                      show_progress=False,\n",
        "                      verbose=0)\n",
        "    else:\n",
        "      raise NotImplementedError\n",
        "\n",
        "    start = time()\n",
        "    res = regr.fit(x_train).predict(h = h)\n",
        "    time_taken = time() - start\n",
        "\n",
        "    lower_pred = res.lower.values.ravel()\n",
        "    upper_pred = res.upper.values.ravel()\n",
        "    y_true = x_test\n",
        "\n",
        "  elif pi_method == \"quantile\":\n",
        "\n",
        "    if model == \"xgb\":\n",
        "      bounds =[]\n",
        "      for i, alpha in enumerate([0.025, 0.975]):\n",
        "        regr = ns.MTS(obj=xgb.XGBRegressor(objective=\"reg:quantileerror\",\n",
        "                          tree_method=\"hist\",\n",
        "                          quantile_alpha=alpha, **kwargs),\n",
        "                          n_hidden_features=0,\n",
        "                          lags=lags,\n",
        "                          show_progress=False,\n",
        "                          verbose=0)\n",
        "        start = time()\n",
        "        regr.fit(x_train)\n",
        "        time_taken = time() - start\n",
        "        bounds.append(regr.predict(h = h))\n",
        "    elif model == \"gb\":\n",
        "      bounds =[]\n",
        "      for i, alpha in enumerate([0.025, 0.975]):\n",
        "        regr = ns.MTS(obj=GradientBoostingRegressor(loss=\"quantile\",\n",
        "                                            alpha=alpha, **kwargs),\n",
        "                          n_hidden_features=0,\n",
        "                          lags=lags,\n",
        "                          show_progress=False,\n",
        "                          verbose=0)\n",
        "        start = time()\n",
        "        regr.fit(x_train)\n",
        "        bounds.append(regr.predict(h = h))\n",
        "        time_taken = time() - start\n",
        "    elif model == \"lgb\":\n",
        "      bounds =[]\n",
        "      for i, alpha in enumerate([0.025, 0.975]):\n",
        "        regr = ns.MTS(obj=lgb.LGBMRegressor(objective = 'quantile',\n",
        "                                alpha = alpha,\n",
        "                                verbosity=-1, **kwargs),\n",
        "                          n_hidden_features=0,\n",
        "                          lags=lags,\n",
        "                          show_progress=False,\n",
        "                          verbose=0)\n",
        "        start = time()\n",
        "        regr.fit(x_train)\n",
        "        bounds.append(regr.predict(h = h))\n",
        "        time_taken = time() - start\n",
        "    else:\n",
        "      raise NotImplementedError\n",
        "\n",
        "    lower_pred = bounds[0].values.ravel()\n",
        "    upper_pred = bounds[1].values.ravel()\n",
        "    y_true = x_test\n",
        "\n",
        "  return calculate_coverage(lower_pred, upper_pred, y_true), calculate_winkler_score(lower_pred, upper_pred, y_true), time_taken\n"
      ]
    },
    {
      "cell_type": "markdown",
      "metadata": {
        "id": "_i_2RLcaqGPq"
      },
      "source": [
        "### 2 - 4 - 2 loop"
      ]
    },
    {
      "cell_type": "code",
      "execution_count": 43,
      "metadata": {
        "id": "j8uvCVn1u1Al"
      },
      "outputs": [],
      "source": [
        "res = []"
      ]
    },
    {
      "cell_type": "code",
      "execution_count": 44,
      "metadata": {
        "id": "MCfnurP0vbcD"
      },
      "outputs": [],
      "source": [
        "from tqdm import tqdm"
      ]
    },
    {
      "cell_type": "markdown",
      "metadata": {
        "id": "uNglxEL_3da2"
      },
      "source": [
        "Parallel"
      ]
    },
    {
      "cell_type": "code",
      "execution_count": 45,
      "metadata": {
        "colab": {
          "base_uri": "https://localhost:8080/"
        },
        "id": "h-el6QaD2rlj",
        "outputId": "ba310e75-ac7f-4b8a-b741-f7a7ce9ccad7"
      },
      "outputs": [
        {
          "name": "stdout",
          "output_type": "stream",
          "text": [
            "xgb quantile\n",
            "xgb conformal\n",
            "gb quantile\n",
            "gb conformal\n",
            "lgb quantile\n",
            "lgb conformal\n"
          ]
        }
      ],
      "source": [
        "\n",
        "from time import time\n",
        "\n",
        "\n",
        "model_pi_methods = [(model, pi_method) for model in [\"xgb\", \"gb\", \"lgb\"] for pi_method in [\"quantile\", \"conformal\"]]\n",
        "\n",
        "for model, pi_method in model_pi_methods:\n",
        "  print(model, pi_method)"
      ]
    },
    {
      "cell_type": "code",
      "execution_count": null,
      "metadata": {
        "id": "7gYUvxbZ3cjS"
      },
      "outputs": [],
      "source": [
        "from joblib import Parallel, delayed\n",
        "from tqdm import tqdm\n",
        "from time import time\n",
        "\n",
        "\n",
        "def process_forecast(store_idx):\n",
        "    result = []\n",
        "    for model, pi_method in model_pi_methods:\n",
        "        try:\n",
        "            ans = forecast(df, idx=store_idx, model=model, pi_method=pi_method)\n",
        "            result.append([model, pi_method, ans[0], ans[1], ans[2]])\n",
        "        except Exception as e:\n",
        "            continue\n",
        "    return result\n",
        "\n",
        "start = time()\n",
        "res = Parallel(n_jobs=-1)(delayed(process_forecast)(store_idx) for store_idx in tqdm(range(df.shape[0])))\n",
        "end = time()\n",
        "print(end - start)\n",
        "\n",
        "res = [item for sublist in res for item in sublist]"
      ]
    },
    {
      "cell_type": "code",
      "execution_count": 47,
      "metadata": {
        "id": "Dm2n0LcAvOIA"
      },
      "outputs": [],
      "source": [
        "res_array = np.array(res)"
      ]
    },
    {
      "cell_type": "code",
      "execution_count": 48,
      "metadata": {
        "id": "tPVCJCkKvTah"
      },
      "outputs": [],
      "source": [
        "res_df = pd.DataFrame(res_array, columns=[\"model\", \"pi_method\",\n",
        "                                          \"coverage\", \"winkler\",\n",
        "                                          \"time\"], index=None)"
      ]
    },
    {
      "cell_type": "code",
      "execution_count": 49,
      "metadata": {
        "id": "1MFqkzDcwOFN"
      },
      "outputs": [
        {
          "data": {
            "text/html": [
              "<div>\n",
              "<style scoped>\n",
              "    .dataframe tbody tr th:only-of-type {\n",
              "        vertical-align: middle;\n",
              "    }\n",
              "\n",
              "    .dataframe tbody tr th {\n",
              "        vertical-align: top;\n",
              "    }\n",
              "\n",
              "    .dataframe thead th {\n",
              "        text-align: right;\n",
              "    }\n",
              "</style>\n",
              "<table border=\"1\" class=\"dataframe\">\n",
              "  <thead>\n",
              "    <tr style=\"text-align: right;\">\n",
              "      <th></th>\n",
              "      <th>model</th>\n",
              "      <th>pi_method</th>\n",
              "      <th>coverage</th>\n",
              "      <th>winkler</th>\n",
              "      <th>time</th>\n",
              "    </tr>\n",
              "  </thead>\n",
              "  <tbody>\n",
              "    <tr>\n",
              "      <th>0</th>\n",
              "      <td>xgb</td>\n",
              "      <td>quantile</td>\n",
              "      <td>0.7916666666666666</td>\n",
              "      <td>51.1210212608518</td>\n",
              "      <td>0.4013369083404541</td>\n",
              "    </tr>\n",
              "    <tr>\n",
              "      <th>1</th>\n",
              "      <td>xgb</td>\n",
              "      <td>conformal</td>\n",
              "      <td>0.9270833333333334</td>\n",
              "      <td>39.81039934883048</td>\n",
              "      <td>28.924641132354736</td>\n",
              "    </tr>\n",
              "    <tr>\n",
              "      <th>2</th>\n",
              "      <td>gb</td>\n",
              "      <td>quantile</td>\n",
              "      <td>0.75</td>\n",
              "      <td>57.3768650098391</td>\n",
              "      <td>3.0318901538848877</td>\n",
              "    </tr>\n",
              "    <tr>\n",
              "      <th>3</th>\n",
              "      <td>gb</td>\n",
              "      <td>conformal</td>\n",
              "      <td>0.9166666666666666</td>\n",
              "      <td>40.109831397718715</td>\n",
              "      <td>19.903746843338013</td>\n",
              "    </tr>\n",
              "    <tr>\n",
              "      <th>4</th>\n",
              "      <td>lgb</td>\n",
              "      <td>quantile</td>\n",
              "      <td>0.7864583333333334</td>\n",
              "      <td>51.34335123406788</td>\n",
              "      <td>3.0518510341644287</td>\n",
              "    </tr>\n",
              "    <tr>\n",
              "      <th>...</th>\n",
              "      <td>...</td>\n",
              "      <td>...</td>\n",
              "      <td>...</td>\n",
              "      <td>...</td>\n",
              "      <td>...</td>\n",
              "    </tr>\n",
              "    <tr>\n",
              "      <th>17816</th>\n",
              "      <td>xgb</td>\n",
              "      <td>conformal</td>\n",
              "      <td>0.921875</td>\n",
              "      <td>7.745386069078937</td>\n",
              "      <td>10.091049909591675</td>\n",
              "    </tr>\n",
              "    <tr>\n",
              "      <th>17817</th>\n",
              "      <td>gb</td>\n",
              "      <td>quantile</td>\n",
              "      <td>0.7552083333333334</td>\n",
              "      <td>16.191994712662865</td>\n",
              "      <td>0.7770967483520508</td>\n",
              "    </tr>\n",
              "    <tr>\n",
              "      <th>17818</th>\n",
              "      <td>gb</td>\n",
              "      <td>conformal</td>\n",
              "      <td>0.921875</td>\n",
              "      <td>7.7454295687221775</td>\n",
              "      <td>6.986394166946411</td>\n",
              "    </tr>\n",
              "    <tr>\n",
              "      <th>17819</th>\n",
              "      <td>lgb</td>\n",
              "      <td>quantile</td>\n",
              "      <td>0.4947916666666667</td>\n",
              "      <td>35.219043821425906</td>\n",
              "      <td>0.3016550540924072</td>\n",
              "    </tr>\n",
              "    <tr>\n",
              "      <th>17820</th>\n",
              "      <td>lgb</td>\n",
              "      <td>conformal</td>\n",
              "      <td>0.9010416666666666</td>\n",
              "      <td>8.79169911751688</td>\n",
              "      <td>5.0931642055511475</td>\n",
              "    </tr>\n",
              "  </tbody>\n",
              "</table>\n",
              "<p>17821 rows × 5 columns</p>\n",
              "</div>"
            ],
            "text/plain": [
              "      model  pi_method            coverage             winkler  \\\n",
              "0       xgb   quantile  0.7916666666666666    51.1210212608518   \n",
              "1       xgb  conformal  0.9270833333333334   39.81039934883048   \n",
              "2        gb   quantile                0.75    57.3768650098391   \n",
              "3        gb  conformal  0.9166666666666666  40.109831397718715   \n",
              "4       lgb   quantile  0.7864583333333334   51.34335123406788   \n",
              "...     ...        ...                 ...                 ...   \n",
              "17816   xgb  conformal            0.921875   7.745386069078937   \n",
              "17817    gb   quantile  0.7552083333333334  16.191994712662865   \n",
              "17818    gb  conformal            0.921875  7.7454295687221775   \n",
              "17819   lgb   quantile  0.4947916666666667  35.219043821425906   \n",
              "17820   lgb  conformal  0.9010416666666666    8.79169911751688   \n",
              "\n",
              "                     time  \n",
              "0      0.4013369083404541  \n",
              "1      28.924641132354736  \n",
              "2      3.0318901538848877  \n",
              "3      19.903746843338013  \n",
              "4      3.0518510341644287  \n",
              "...                   ...  \n",
              "17816  10.091049909591675  \n",
              "17817  0.7770967483520508  \n",
              "17818   6.986394166946411  \n",
              "17819  0.3016550540924072  \n",
              "17820  5.0931642055511475  \n",
              "\n",
              "[17821 rows x 5 columns]"
            ]
          },
          "execution_count": 49,
          "metadata": {},
          "output_type": "execute_result"
        }
      ],
      "source": [
        "res_df"
      ]
    },
    {
      "cell_type": "code",
      "execution_count": 50,
      "metadata": {
        "id": "B2eJ1zv1vXSB"
      },
      "outputs": [],
      "source": [
        "res_df.to_csv(\"2024_10_22_m5_sales_uncertainty_prediction_results_local.csv\")"
      ]
    },
    {
      "cell_type": "markdown",
      "metadata": {
        "id": "wBbB0IBBMPqI"
      },
      "source": [
        "### 2 - 4 - 3 Formatting"
      ]
    },
    {
      "cell_type": "markdown",
      "metadata": {
        "id": "bpigGTe9MPqK"
      },
      "source": [
        "### 2 - 4 - 4 basic info"
      ]
    },
    {
      "cell_type": "code",
      "execution_count": 51,
      "metadata": {
        "id": "NQe1rooJ_y-7"
      },
      "outputs": [],
      "source": [
        "import pandas as pd\n",
        "import numpy as np"
      ]
    },
    {
      "cell_type": "code",
      "execution_count": 52,
      "metadata": {
        "id": "6PsHU7H7MPqR"
      },
      "outputs": [],
      "source": [
        "results_local = pd.read_csv(\"2024_10_22_m5_sales_uncertainty_prediction_results_local.csv\")"
      ]
    },
    {
      "cell_type": "code",
      "execution_count": 53,
      "metadata": {
        "id": "tB6luJt5MPqW"
      },
      "outputs": [],
      "source": [
        "results_local['coverage'] = results_local['coverage'].astype(np.float64)\n",
        "results_local['winkler'] = results_local['winkler'].astype(np.float64)\n",
        "results_local['time'] = results_local['time'].astype(np.float64)"
      ]
    },
    {
      "cell_type": "code",
      "execution_count": 54,
      "metadata": {
        "colab": {
          "base_uri": "https://localhost:8080/",
          "height": 300
        },
        "id": "gWuFcHvJMPqs",
        "outputId": "1fa225b2-2092-4d13-f33a-1bcda3780044"
      },
      "outputs": [
        {
          "data": {
            "text/html": [
              "<div>\n",
              "<style scoped>\n",
              "    .dataframe tbody tr th:only-of-type {\n",
              "        vertical-align: middle;\n",
              "    }\n",
              "\n",
              "    .dataframe tbody tr th {\n",
              "        vertical-align: top;\n",
              "    }\n",
              "\n",
              "    .dataframe thead th {\n",
              "        text-align: right;\n",
              "    }\n",
              "</style>\n",
              "<table border=\"1\" class=\"dataframe\">\n",
              "  <thead>\n",
              "    <tr style=\"text-align: right;\">\n",
              "      <th></th>\n",
              "      <th>Unnamed: 0</th>\n",
              "      <th>coverage</th>\n",
              "      <th>winkler</th>\n",
              "      <th>time</th>\n",
              "    </tr>\n",
              "  </thead>\n",
              "  <tbody>\n",
              "    <tr>\n",
              "      <th>count</th>\n",
              "      <td>17821.00</td>\n",
              "      <td>17821.00</td>\n",
              "      <td>17821.00</td>\n",
              "      <td>17821.00</td>\n",
              "    </tr>\n",
              "    <tr>\n",
              "      <th>mean</th>\n",
              "      <td>8910.00</td>\n",
              "      <td>0.76</td>\n",
              "      <td>63.09</td>\n",
              "      <td>8.79</td>\n",
              "    </tr>\n",
              "    <tr>\n",
              "      <th>std</th>\n",
              "      <td>5144.62</td>\n",
              "      <td>0.25</td>\n",
              "      <td>98.74</td>\n",
              "      <td>10.32</td>\n",
              "    </tr>\n",
              "    <tr>\n",
              "      <th>min</th>\n",
              "      <td>0.00</td>\n",
              "      <td>0.00</td>\n",
              "      <td>2.08</td>\n",
              "      <td>0.12</td>\n",
              "    </tr>\n",
              "    <tr>\n",
              "      <th>25%</th>\n",
              "      <td>4455.00</td>\n",
              "      <td>0.70</td>\n",
              "      <td>21.62</td>\n",
              "      <td>1.12</td>\n",
              "    </tr>\n",
              "    <tr>\n",
              "      <th>50%</th>\n",
              "      <td>8910.00</td>\n",
              "      <td>0.83</td>\n",
              "      <td>37.22</td>\n",
              "      <td>4.57</td>\n",
              "    </tr>\n",
              "    <tr>\n",
              "      <th>75%</th>\n",
              "      <td>13365.00</td>\n",
              "      <td>0.92</td>\n",
              "      <td>70.44</td>\n",
              "      <td>13.57</td>\n",
              "    </tr>\n",
              "    <tr>\n",
              "      <th>max</th>\n",
              "      <td>17820.00</td>\n",
              "      <td>1.00</td>\n",
              "      <td>7270.32</td>\n",
              "      <td>152.02</td>\n",
              "    </tr>\n",
              "  </tbody>\n",
              "</table>\n",
              "</div>"
            ],
            "text/plain": [
              "       Unnamed: 0  coverage  winkler     time\n",
              "count    17821.00  17821.00 17821.00 17821.00\n",
              "mean      8910.00      0.76    63.09     8.79\n",
              "std       5144.62      0.25    98.74    10.32\n",
              "min          0.00      0.00     2.08     0.12\n",
              "25%       4455.00      0.70    21.62     1.12\n",
              "50%       8910.00      0.83    37.22     4.57\n",
              "75%      13365.00      0.92    70.44    13.57\n",
              "max      17820.00      1.00  7270.32   152.02"
            ]
          },
          "metadata": {},
          "output_type": "display_data"
        }
      ],
      "source": [
        "display(results_local.describe())"
      ]
    },
    {
      "cell_type": "markdown",
      "metadata": {
        "id": "LC5xXt0wMPqw"
      },
      "source": [
        "### 2 - 4 - 5 Tables and graphics"
      ]
    },
    {
      "cell_type": "code",
      "execution_count": 55,
      "metadata": {
        "id": "ckGrXatCMPq2"
      },
      "outputs": [],
      "source": [
        "df = pd.read_csv(\"2024_10_22_m5_sales_uncertainty_prediction_results_local.csv\")"
      ]
    },
    {
      "cell_type": "code",
      "execution_count": 56,
      "metadata": {
        "id": "Y33QrePCMPq5"
      },
      "outputs": [],
      "source": [
        "df['log_error_rate'] = np.log(1 - df['coverage'])\n",
        "df['log_winkler'] = np.log(df['winkler'])\n",
        "df['log_time'] = np.log(df['time'])"
      ]
    },
    {
      "cell_type": "code",
      "execution_count": 57,
      "metadata": {
        "colab": {
          "base_uri": "https://localhost:8080/",
          "height": 363
        },
        "id": "ldk3LDPlMPq7",
        "outputId": "32bfed98-d65e-4351-b774-7ec4d12510c2"
      },
      "outputs": [
        {
          "data": {
            "text/html": [
              "<div>\n",
              "<style scoped>\n",
              "    .dataframe tbody tr th:only-of-type {\n",
              "        vertical-align: middle;\n",
              "    }\n",
              "\n",
              "    .dataframe tbody tr th {\n",
              "        vertical-align: top;\n",
              "    }\n",
              "\n",
              "    .dataframe thead tr th {\n",
              "        text-align: left;\n",
              "    }\n",
              "</style>\n",
              "<table border=\"1\" class=\"dataframe\">\n",
              "  <thead>\n",
              "    <tr>\n",
              "      <th></th>\n",
              "      <th>model</th>\n",
              "      <th colspan=\"2\" halign=\"left\">gb</th>\n",
              "      <th colspan=\"2\" halign=\"left\">lgb</th>\n",
              "      <th colspan=\"2\" halign=\"left\">xgb</th>\n",
              "    </tr>\n",
              "    <tr>\n",
              "      <th></th>\n",
              "      <th>pi_method</th>\n",
              "      <th>conformal</th>\n",
              "      <th>quantile</th>\n",
              "      <th>conformal</th>\n",
              "      <th>quantile</th>\n",
              "      <th>conformal</th>\n",
              "      <th>quantile</th>\n",
              "    </tr>\n",
              "  </thead>\n",
              "  <tbody>\n",
              "    <tr>\n",
              "      <th rowspan=\"3\" valign=\"top\">coverage</th>\n",
              "      <th>min</th>\n",
              "      <td>0.00</td>\n",
              "      <td>0.03</td>\n",
              "      <td>0.00</td>\n",
              "      <td>0.05</td>\n",
              "      <td>0.00</td>\n",
              "      <td>0.29</td>\n",
              "    </tr>\n",
              "    <tr>\n",
              "      <th>median</th>\n",
              "      <td>0.89</td>\n",
              "      <td>0.81</td>\n",
              "      <td>0.89</td>\n",
              "      <td>0.75</td>\n",
              "      <td>0.90</td>\n",
              "      <td>0.79</td>\n",
              "    </tr>\n",
              "    <tr>\n",
              "      <th>max</th>\n",
              "      <td>1.00</td>\n",
              "      <td>1.00</td>\n",
              "      <td>1.00</td>\n",
              "      <td>1.00</td>\n",
              "      <td>1.00</td>\n",
              "      <td>1.00</td>\n",
              "    </tr>\n",
              "    <tr>\n",
              "      <th rowspan=\"3\" valign=\"top\">winkler</th>\n",
              "      <th>min</th>\n",
              "      <td>2.08</td>\n",
              "      <td>2.08</td>\n",
              "      <td>5.77</td>\n",
              "      <td>5.00</td>\n",
              "      <td>5.54</td>\n",
              "      <td>4.78</td>\n",
              "    </tr>\n",
              "    <tr>\n",
              "      <th>median</th>\n",
              "      <td>35.66</td>\n",
              "      <td>34.44</td>\n",
              "      <td>36.00</td>\n",
              "      <td>42.34</td>\n",
              "      <td>35.43</td>\n",
              "      <td>38.08</td>\n",
              "    </tr>\n",
              "    <tr>\n",
              "      <th>max</th>\n",
              "      <td>1781.88</td>\n",
              "      <td>7270.32</td>\n",
              "      <td>1272.90</td>\n",
              "      <td>1304.69</td>\n",
              "      <td>1781.88</td>\n",
              "      <td>1553.96</td>\n",
              "    </tr>\n",
              "    <tr>\n",
              "      <th rowspan=\"3\" valign=\"top\">time</th>\n",
              "      <th>min</th>\n",
              "      <td>2.45</td>\n",
              "      <td>0.78</td>\n",
              "      <td>2.46</td>\n",
              "      <td>0.30</td>\n",
              "      <td>2.30</td>\n",
              "      <td>0.12</td>\n",
              "    </tr>\n",
              "    <tr>\n",
              "      <th>median</th>\n",
              "      <td>12.66</td>\n",
              "      <td>1.23</td>\n",
              "      <td>15.13</td>\n",
              "      <td>3.10</td>\n",
              "      <td>12.59</td>\n",
              "      <td>0.22</td>\n",
              "    </tr>\n",
              "    <tr>\n",
              "      <th>max</th>\n",
              "      <td>152.02</td>\n",
              "      <td>13.71</td>\n",
              "      <td>149.08</td>\n",
              "      <td>130.01</td>\n",
              "      <td>63.82</td>\n",
              "      <td>7.96</td>\n",
              "    </tr>\n",
              "  </tbody>\n",
              "</table>\n",
              "</div>"
            ],
            "text/plain": [
              "model                  gb                lgb                xgb         \n",
              "pi_method       conformal quantile conformal quantile conformal quantile\n",
              "coverage min         0.00     0.03      0.00     0.05      0.00     0.29\n",
              "         median      0.89     0.81      0.89     0.75      0.90     0.79\n",
              "         max         1.00     1.00      1.00     1.00      1.00     1.00\n",
              "winkler  min         2.08     2.08      5.77     5.00      5.54     4.78\n",
              "         median     35.66    34.44     36.00    42.34     35.43    38.08\n",
              "         max      1781.88  7270.32   1272.90  1304.69   1781.88  1553.96\n",
              "time     min         2.45     0.78      2.46     0.30      2.30     0.12\n",
              "         median     12.66     1.23     15.13     3.10     12.59     0.22\n",
              "         max       152.02    13.71    149.08   130.01     63.82     7.96"
            ]
          },
          "execution_count": 57,
          "metadata": {},
          "output_type": "execute_result"
        }
      ],
      "source": [
        "df_grouped = df.groupby(['model', 'pi_method'])[['coverage', 'winkler', 'time']].agg(['min', 'median', 'max'])\n",
        "\n",
        "df_grouped.transpose()"
      ]
    },
    {
      "cell_type": "code",
      "execution_count": 58,
      "metadata": {
        "colab": {
          "base_uri": "https://localhost:8080/"
        },
        "id": "XLkLO7C4MPq8",
        "outputId": "91821491-1398-4146-ce49-b9f86b7ce0ad"
      },
      "outputs": [
        {
          "name": "stdout",
          "output_type": "stream",
          "text": [
            "\\begin{tabular}{llllllll}\n",
            "\\toprule\n",
            " & model & \\multicolumn{2}{r}{gb} & \\multicolumn{2}{r}{lgb} & \\multicolumn{2}{r}{xgb} \\\\\n",
            " & pi_method & conformal & quantile & conformal & quantile & conformal & quantile \\\\\n",
            "\\midrule\n",
            "\\multirow[t]{3}{*}{coverage} & min & 0.00 & 0.03 & 0.00 & 0.05 & 0.00 & 0.29 \\\\\n",
            " & median & 0.89 & 0.81 & 0.89 & 0.75 & 0.90 & 0.79 \\\\\n",
            " & max & 1.00 & 1.00 & 1.00 & 1.00 & 1.00 & 1.00 \\\\\n",
            "\\cline{1-8}\n",
            "\\multirow[t]{3}{*}{winkler} & min & 2.08 & 2.08 & 5.77 & 5.00 & 5.54 & 4.78 \\\\\n",
            " & median & 35.66 & 34.44 & 36.00 & 42.34 & 35.43 & 38.08 \\\\\n",
            " & max & 1781.88 & 7270.32 & 1272.90 & 1304.69 & 1781.88 & 1553.96 \\\\\n",
            "\\cline{1-8}\n",
            "\\multirow[t]{3}{*}{time} & min & 2.45 & 0.78 & 2.46 & 0.30 & 2.30 & 0.12 \\\\\n",
            " & median & 12.66 & 1.23 & 15.13 & 3.10 & 12.59 & 0.22 \\\\\n",
            " & max & 152.02 & 13.71 & 149.08 & 130.01 & 63.82 & 7.96 \\\\\n",
            "\\cline{1-8}\n",
            "\\bottomrule\n",
            "\\end{tabular}\n",
            "\n"
          ]
        }
      ],
      "source": [
        "latex_table = df_grouped.transpose().applymap(lambda x: f\"{x:.2f}\" if isinstance(x, float) else x).to_latex()\n",
        "print(latex_table)"
      ]
    },
    {
      "cell_type": "code",
      "execution_count": null,
      "metadata": {},
      "outputs": [],
      "source": [
        "!pip install matplotlib seaborn"
      ]
    },
    {
      "cell_type": "code",
      "execution_count": 61,
      "metadata": {
        "colab": {
          "base_uri": "https://localhost:8080/",
          "height": 407
        },
        "id": "l1RmfjKuMPq9",
        "outputId": "1180c1ca-4713-466a-bf28-d1bc606e0b2a"
      },
      "outputs": [
        {
          "data": {
            "image/png": "[encoded data removed]",
            "text/plain": [
              "<Figure size 800x400 with 1 Axes>"
            ]
          },
          "metadata": {},
          "output_type": "display_data"
        }
      ],
      "source": [
        "import matplotlib.pyplot as plt\n",
        "import seaborn as sns\n",
        "\n",
        "# Coverage plot\n",
        "plt.figure(figsize=(8, 4))\n",
        "sns.boxplot(x='model', y='log_error_rate', hue='pi_method', data=df)\n",
        "plt.title('Log error rate per Model and PI Method')\n",
        "plt.xlabel('Model')\n",
        "plt.ylabel('Log error rate')\n",
        "plt.xticks(rotation=45, ha='right')\n",
        "plt.legend(title='PI Method')\n",
        "plt.tight_layout()\n",
        "plt.show()"
      ]
    },
    {
      "cell_type": "code",
      "execution_count": 62,
      "metadata": {
        "colab": {
          "base_uri": "https://localhost:8080/",
          "height": 407
        },
        "id": "jxY5Y389MPq9",
        "outputId": "894c9a15-b1ef-4c91-c4b4-d9969f97cfda"
      },
      "outputs": [
        {
          "data": {
            "image/png": "[encoded data removed]",
            "text/plain": [
              "<Figure size 800x400 with 1 Axes>"
            ]
          },
          "metadata": {},
          "output_type": "display_data"
        }
      ],
      "source": [
        "# Winkler plot\n",
        "plt.figure(figsize=(8, 4))\n",
        "sns.boxplot(x='model', y='log_winkler', hue='pi_method', data=df)\n",
        "plt.title('Log Winkler Score per Model and PI Method')\n",
        "plt.xlabel('Model')\n",
        "plt.ylabel('Log Winkler Score')\n",
        "plt.xticks(rotation=45, ha='right')\n",
        "plt.legend(title='PI Method')\n",
        "plt.tight_layout()\n",
        "plt.show()"
      ]
    },
    {
      "cell_type": "code",
      "execution_count": 63,
      "metadata": {
        "colab": {
          "base_uri": "https://localhost:8080/",
          "height": 407
        },
        "id": "oToNpkU_MPq-",
        "outputId": "58bb54bd-507e-4886-ce8f-e02aa93e1094"
      },
      "outputs": [
        {
          "data": {
            "image/png": "[encoded data removed]",
            "text/plain": [
              "<Figure size 800x400 with 1 Axes>"
            ]
          },
          "metadata": {},
          "output_type": "display_data"
        }
      ],
      "source": [
        "# Time plot\n",
        "plt.figure(figsize=(8, 4))\n",
        "sns.boxplot(x='model', y='log_time', hue='pi_method', data=df)\n",
        "plt.title('Time per Model and PI Method')\n",
        "plt.xlabel('Model')\n",
        "plt.ylabel('Log Time in Log(seconds)')\n",
        "plt.xticks(rotation=45, ha='right')\n",
        "plt.legend(title='PI Method')\n",
        "plt.tight_layout()\n",
        "plt.show()"
      ]
    },
    {
      "cell_type": "markdown",
      "metadata": {},
      "source": [
        "Conformalizing requires splitting the data and fitting twice, so is logically slower. "
      ]
    },
    {
      "cell_type": "markdown",
      "metadata": {
        "id": "yVnQKXT1O_dE"
      },
      "source": [
        "# 3 - 250 various time series (210 real-world, 40 synthetic)"
      ]
    },
    {
      "cell_type": "markdown",
      "metadata": {},
      "source": [
        "250 time series, 240 real-world, 10 synthetic. See [https://github.com/Techtonique/datasets/blob/main/time_series/univariate/250datasets/250timeseries.txt](https://github.com/Techtonique/datasets/blob/main/time_series/univariate/250datasets/250timeseries.txt) for the list of time series, and [https://github.com/Techtonique/datasets/blob/main/time_series/univariate/250datasets/250datasets_characteristics.R](https://github.com/Techtonique/datasets/blob/main/time_series/univariate/250datasets/250datasets_characteristics.R) for their characteristics."
      ]
    },
    {
      "cell_type": "code",
      "execution_count": null,
      "metadata": {},
      "outputs": [],
      "source": [
        "!pip install rpy2"
      ]
    },
    {
      "cell_type": "code",
      "execution_count": 2,
      "metadata": {
        "id": "TgBpPRDE7CeC"
      },
      "outputs": [],
      "source": [
        "%load_ext rpy2.ipython"
      ]
    },
    {
      "cell_type": "code",
      "execution_count": null,
      "metadata": {
        "id": "KNyiRXOdPD_F"
      },
      "outputs": [],
      "source": [
        "%%R\n",
        "\n",
        "utils::install.packages(c('forecast', 'fpp', 'fpp2', 'remotes'))\n",
        "remotes::install_github(\"Techtonique/ahead\")\n",
        "remotes::install_github(\"thierrymoudiki/simulatetimeseries\")\n",
        "## ----\"6-twofiftydatasets\", echo=FALSE, cache=TRUE, message=FALSE, warning=FALSE-------------------------------------\n",
        "\n",
        "utils::install.packages(c(\"astsa\",\n",
        " \"datasets\",\n",
        " \"expsmooth\",\n",
        " \"fma\",\n",
        " \"forecast\",\n",
        " \"fpp\",\n",
        " \"fpp2\",\n",
        " \"MASS\",\n",
        " \"remotes\",\n",
        " \"reshape2\",\n",
        " \"tswge\"), repos=\"https://cran.r-project.org\", quiet=TRUE)\n",
        "remotes::install_github(\"thierrymoudiki/simulatetimeseries\")\n",
        "remotes::install_github(\"herbps10/AdaptiveConformal\")\n",
        "remotes::install_github(\"Techtonique/ahead\")\n",
        "\n",
        "install.packages(\"foreach\", repos=\"https://cran.r-project.org\")\n",
        "install.packages(\"forecast\", repos=\"https://cran.r-project.org\")\n",
        "\n",
        "\n",
        "suppressWarnings(library(datasets))\n",
        "suppressWarnings(library(forecast))\n",
        "suppressWarnings(library(fpp2))\n",
        "suppressWarnings(library(ahead))\n",
        "suppressWarnings(library(simulatetimeseries))\n",
        "\n",
        "\n",
        "## ----\"1-foursynthplot\", echo=FALSE, cache=TRUE, message=FALSE, warning=FALSE, fig.cap=\"4 synthetic data sets (among 47)\"----\n",
        "suppressWarnings(library(datasets))\n",
        "suppressWarnings(library(forecast))\n",
        "suppressWarnings(library(fpp2))\n",
        "suppressWarnings(library(ahead))\n",
        "suppressWarnings(library(simulatetimeseries))"
      ]
    },
    {
      "cell_type": "code",
      "execution_count": null,
      "metadata": {},
      "outputs": [],
      "source": [
        "%%R \n",
        "\n",
        "# /!\\ Despite package name, these are mostly real-world time series (210), differenced once\n",
        "# (see https://github.com/Techtonique/datasets/blob/main/time_series/univariate/250datasets/250timeseries.txt)\n",
        "all_datasets <- simulatetimeseries::get_data_1() # easier is to download https://github.com/Techtonique/datasets/blob/main/time_series/univariate/250datasets/all_datasets.rds\n",
        "\n",
        "row_names <- names(all_datasets)"
      ]
    },
    {
      "cell_type": "markdown",
      "metadata": {},
      "source": [
        "visualizing a few examples among the 250 time series"
      ]
    },
    {
      "cell_type": "code",
      "execution_count": 7,
      "metadata": {},
      "outputs": [
        {
          "name": "stdout",
          "output_type": "stream",
          "text": [
            "[1] 250"
          ]
        },
        {
          "name": "stdout",
          "output_type": "stream",
          "text": [
            "\n"
          ]
        },
        {
          "data": {
            "image/png": "[encoded data removed]",
            "text/plain": [
              "<IPython.core.display.Image object>"
            ]
          },
          "metadata": {},
          "output_type": "display_data"
        }
      ],
      "source": [
        "%%R\n",
        "\n",
        "print(length(all_datasets))\n",
        "par(mfrow=c(2, 2))\n",
        "plot(all_datasets[[1]])\n",
        "plot(all_datasets[[10]])\n",
        "plot(all_datasets[[5]])\n",
        "plot(all_datasets[[50]])"
      ]
    },
    {
      "cell_type": "code",
      "execution_count": 8,
      "metadata": {},
      "outputs": [
        {
          "data": {
            "image/png": "[encoded data removed]",
            "text/plain": [
              "<IPython.core.display.Image object>"
            ]
          },
          "metadata": {},
          "output_type": "display_data"
        }
      ],
      "source": [
        "%%R\n",
        "\n",
        "par(mfrow=c(2, 2))\n",
        "plot(all_datasets[[2]])\n",
        "plot(all_datasets[[11]])\n",
        "plot(all_datasets[[9]])\n",
        "plot(all_datasets[[51]])"
      ]
    },
    {
      "cell_type": "code",
      "execution_count": 9,
      "metadata": {
        "colab": {
          "base_uri": "https://localhost:8080/"
        },
        "id": "0A1D6FexdpJd",
        "outputId": "7cae12a2-e1fd-4079-eafa-ae2a730393cd"
      },
      "outputs": [
        {
          "name": "stdout",
          "output_type": "stream",
          "text": [
            "  |                                                                      |   0%"
          ]
        }
      ],
      "source": [
        "%%R\n",
        "\n",
        "# EXAMPLE ON A DATA SET CONTAINING 250 TIME SERIES ------------------------------------------------------------\n",
        "col_names <- c(\"thetaf_0\", \"dynrmf_0\",\n",
        "               \"thetaf_kde\", \"dynrmf_kde\",\n",
        "               \"thetaf_boot\", \"dynrmf_boot\",\n",
        "               \"thetaf_surr\", \"dynrmf_surr\")\n",
        "\n",
        "n_datasets <- length(all_datasets)\n",
        "n_methods <- length(col_names)\n",
        "results_winkler_score <- results_coverage_rate <- matrix(0, nrow=n_datasets, ncol=n_methods)\n",
        "\n",
        "rownames(results_winkler_score) <- row_names\n",
        "colnames(results_winkler_score) <- col_names\n",
        "rownames(results_coverage_rate) <- row_names\n",
        "colnames(results_coverage_rate) <- col_names\n",
        "\n",
        "results_winkler_score <- as.data.frame(results_winkler_score)\n",
        "results_coverage_rate <- as.data.frame(results_coverage_rate)\n",
        "\n",
        "params <- vector(\"list\", n_methods)\n",
        "names(params) <- col_names\n",
        "\n",
        "level <- 95\n",
        "pct_train <- 0.9\n",
        "pct_calibration <- 0.5\n",
        "\n",
        "types_sim <- c(\"kde\", \"boot\", \"surr\")\n",
        "\n",
        "library(\"foreach\")\n",
        "\n",
        "pb <- txtProgressBar(min = 0,\n",
        "                      max = n_datasets,\n",
        "                      style = 3)\n",
        "progress <- function(n)\n",
        "  utils::setTxtProgressBar(pb, n)\n",
        "opts <- list(progress = progress)"
      ]
    },
    {
      "cell_type": "code",
      "execution_count": 10,
      "metadata": {},
      "outputs": [
        {
          "name": "stdout",
          "output_type": "stream",
          "text": [
            "  |======================================================================| 100%\n"
          ]
        },
        {
          "data": {
            "text/plain": [
              "De plus : Il y a eu 50 avis ou plus (utilisez warnings() pour voir les 50 premiers)\n"
            ]
          },
          "metadata": {},
          "output_type": "display_data"
        }
      ],
      "source": [
        "%%R\n",
        "\n",
        "idx_dataset <- NULL\n",
        "pb <- utils::txtProgressBar(min = 0, max = n_datasets, style = 3)\n",
        "\n",
        "for(idx_dataset in 1:n_datasets) {\n",
        "\n",
        "  selected_data <- all_datasets[[idx_dataset]]\n",
        "  # no conformalization\n",
        "  fit_obj <- try(ahead::fitforecast(selected_data, conformalize = 0, pct_train = pct_train,\n",
        "                          pct_calibration=pct_calibration,\n",
        "                          method = \"dynrmf\"), silent = TRUE)\n",
        "  if (!inherits(fit_obj, \"try-error\"))\n",
        "  {\n",
        "  results_winkler_score[, \"dynrmf_0\"][idx_dataset] <- fit_obj$winkler_score\n",
        "  results_coverage_rate[, \"dynrmf_0\"][idx_dataset] <- fit_obj$coverage\n",
        "  } else {\n",
        "    results_winkler_score[, \"dynrmf_0\"][idx_dataset] <- NA\n",
        "    results_coverage_rate[, \"dynrmf_0\"][idx_dataset] <- NA\n",
        "  }\n",
        "\n",
        "  fit_obj <- try(ahead::fitforecast(selected_data, conformalize = 0, pct_train = pct_train,\n",
        "                          pct_calibration=pct_calibration,\n",
        "                          method = \"thetaf\"), silent = TRUE)\n",
        "  if (!inherits(fit_obj, \"try-error\"))\n",
        "  {\n",
        "  results_winkler_score[, \"thetaf_0\"][idx_dataset] <- fit_obj$winkler_score\n",
        "  results_coverage_rate[, \"thetaf_0\"][idx_dataset] <- fit_obj$coverage\n",
        "  } else {\n",
        "    results_winkler_score[, \"thetaf_0\"][idx_dataset] <- NA\n",
        "    results_coverage_rate[, \"thetaf_0\"][idx_dataset] <- NA\n",
        "  }\n",
        "\n",
        "  # conformalization\n",
        "  for (type_sim in types_sim){\n",
        "    fit_obj <- try(ahead::fitforecast(selected_data, conformalize = 1,\n",
        "                            pct_train = pct_train,\n",
        "                            pct_calibration=pct_calibration,\n",
        "                            method = \"dynrmf\", type_sim = type_sim), silent = TRUE)\n",
        "    if (!inherits(fit_obj, \"try-error\"))\n",
        "  {\n",
        "    results_winkler_score[, paste0('dynrmf', '_', type_sim)][idx_dataset] <- fit_obj$winkler_score\n",
        "    results_coverage_rate[, paste0('dynrmf', '_', type_sim)][idx_dataset] <- fit_obj$coverage #abs(fit_obj$coverage/level - 1)*100\n",
        "    } else {\n",
        "      results_winkler_score[, paste0('dynrmf', '_', type_sim)][idx_dataset] <- NA\n",
        "      results_coverage_rate[, paste0('dynrmf', '_', type_sim)][idx_dataset] <- NA\n",
        "    }\n",
        "\n",
        "    fit_obj <- try(ahead::fitforecast(selected_data, conformalize = 1,\n",
        "                            pct_train = pct_train,\n",
        "                            pct_calibration=pct_calibration,\n",
        "                            method = \"thetaf\", type_sim = type_sim), silent = TRUE)\n",
        "    if (!inherits(fit_obj, \"try-error\"))\n",
        "  {\n",
        "    results_winkler_score[, paste0('thetaf', '_', type_sim)][idx_dataset] <- fit_obj$winkler_score\n",
        "    results_coverage_rate[, paste0('thetaf', '_', type_sim)][idx_dataset] <- fit_obj$coverage #abs(fit_obj$coverage/level - 1)*100\n",
        "    } else {\n",
        "    results_winkler_score[, paste0('thetaf', '_', type_sim)][idx_dataset] <- NA\n",
        "    results_coverage_rate[, paste0('thetaf', '_', type_sim)][idx_dataset] <- NA\n",
        "  }\n",
        "\n",
        "    }\n",
        "    utils::setTxtProgressBar(pb, idx_dataset)\n",
        "}\n",
        "\n",
        "close(pb)\n",
        "saveRDS(object = results_winkler_score, file = \"results_winkler_score.rds\")\n",
        "saveRDS(object = results_coverage_rate, file = \"results_coverage_rate.rds\")"
      ]
    },
    {
      "cell_type": "code",
      "execution_count": 29,
      "metadata": {},
      "outputs": [
        {
          "name": "stdout",
          "output_type": "stream",
          "text": [
            "                mean    lower upper      method\n",
            "thetaf_0    88.83283 31.57895   100    thetaf_0\n",
            "dynrmf_0    87.69836 34.27419   100    dynrmf_0\n",
            "thetaf_kde  88.22848 28.38095   100  thetaf_kde\n",
            "dynrmf_kde  93.77326 63.22967   100  dynrmf_kde\n",
            "thetaf_boot 82.48538 15.77303   100 thetaf_boot\n",
            "dynrmf_boot 89.86451 33.33333   100 dynrmf_boot\n",
            "thetaf_surr 84.88912 26.66667   100 thetaf_surr\n",
            "dynrmf_surr 91.56125 56.22222   100 dynrmf_surr\n"
          ]
        }
      ],
      "source": [
        "%%R \n",
        "\n",
        "# Expected coverage rate: 95%\n",
        "# methods ending with \"_0\" are not conformalized\n",
        "# all the other methods are conformalized\n",
        "coverage_ci <- t(apply(results_coverage_rate, 2, function(x) c(mean(x, na.rm = TRUE), \n",
        "quantile(x, c(0.025, 0.975), na.rm = TRUE))))\n",
        "colnames(coverage_ci) <- c(\"mean\", \"lower\", \"upper\")\n",
        "coverage_ci <- as.data.frame(coverage_ci)\n",
        "coverage_ci$method <- rownames(coverage_ci)\n",
        "coverage_ci\n"
      ]
    },
    {
      "cell_type": "code",
      "execution_count": 30,
      "metadata": {},
      "outputs": [
        {
          "name": "stdout",
          "output_type": "stream",
          "text": [
            "                mean     lower     upper      method\n",
            "thetaf_0    49775.61 0.3749945 150265.61    thetaf_0\n",
            "dynrmf_0    21427.87 0.3624831  70254.36    dynrmf_0\n",
            "thetaf_kde  45347.61 0.3803968 144066.16  thetaf_kde\n",
            "dynrmf_kde  20929.91 0.3775642  62999.15  dynrmf_kde\n",
            "thetaf_boot 48121.65 0.3480542 144554.24 thetaf_boot\n",
            "dynrmf_boot 22728.10 0.3433424  61013.21 dynrmf_boot\n",
            "thetaf_surr 48790.68 0.3499667 144421.17 thetaf_surr\n",
            "dynrmf_surr 22467.88 0.3436461  61741.29 dynrmf_surr\n"
          ]
        }
      ],
      "source": [
        "%%R\n",
        "\n",
        "# Winkler score, the lower the better\n",
        "# methods ending with \"_0\" are not conformalized\n",
        "# all the other methods are conformalized\n",
        "winkler_ci <- t(apply(results_winkler_score, 2, function(x) c(mean(x, na.rm = TRUE), \n",
        "quantile(x, c(0.025, 0.975), na.rm = TRUE))))\n",
        "colnames(winkler_ci) <- c(\"mean\", \"lower\", \"upper\")\n",
        "winkler_ci <- as.data.frame(winkler_ci)\n",
        "winkler_ci$method <- rownames(winkler_ci)\n",
        "winkler_ci\n"
      ]
    },
    {
      "cell_type": "markdown",
      "metadata": {},
      "source": [
        "# 4 - Synthetic data (25 time series)"
      ]
    },
    {
      "cell_type": "code",
      "execution_count": null,
      "metadata": {},
      "outputs": [],
      "source": [
        "%%R \n",
        "\n",
        "# EXAMPLE ON A SYNTHETIC DATA SET ------------------------------------------------------------\n",
        "## ----echo=FALSE, cache=FALSE, message=FALSE, warning=FALSE----------------------------------------------------------\n",
        "winkler_score <- function(obj, actual, level = 95) {\n",
        "  alpha <- 1 - level / 100\n",
        "  lt <- obj$lower\n",
        "  ut <- obj$upper\n",
        "  n_points <- length(actual)\n",
        "  stopifnot((n_points == length(lt)) && (n_points == length(ut)))\n",
        "  diff_lt <- lt - actual\n",
        "  diff_bounds <- ut - lt\n",
        "  diff_ut <- actual - ut\n",
        "  score <-\n",
        "    diff_bounds + (2 / alpha) * (pmax(diff_lt, 0) + pmax(diff_ut, 0))\n",
        "  return(mean(score))\n",
        "}\n",
        "\n",
        "\n",
        "## ----\"7-aci-agci\", echo=FALSE, cache=TRUE, message=FALSE, warning=FALSE---------------------------------------------\n",
        "library(\"AdaptiveConformal\")\n",
        "library(\"ahead\")\n",
        "library(\"simulatetimeseries\")\n",
        "library(\"foreach\")\n",
        "library(\"forecast\")\n",
        "\n",
        "B <- 100\n",
        "params_psi <- params_theta <- c(0.1, 0.8, 0.9, 0.95, 0.99)\n",
        "levels <- c(80, 95)\n",
        "fcast_methods <- c(\"thetaf\", \"dynrmf\")\n",
        "conformal_methods <- c(\"splitconformal\", \"AgACI\", \"SAOCP\", \"SF-OGD\")\n",
        "\n",
        "(params_grid <- expand.grid(params_psi, params_theta,\n",
        "                            levels, fcast_methods,\n",
        "                            conformal_methods))\n",
        "colnames(params_grid) <- c(\"psi\", \"theta\",\n",
        "                           \"level\",\n",
        "                           \"fcast_method\",\n",
        "                           \"conformal_method\")\n",
        "params_grid$fcast_method <- as.vector(params_grid$fcast_method)\n",
        "params_grid$conformal_method <- as.vector(params_grid$conformal_method)\n",
        "\n",
        "results <- matrix(0, ncol=B, nrow=nrow(params_grid))\n",
        "colnames(results) <- paste0(\"B\", seq_len(B))\n",
        "\n",
        "params_grid <- params_grid2 <- cbind.data.frame(params_grid, results)\n",
        "\n",
        "nb_iter <- nrow(params_grid)\n",
        "\n",
        "pb <- txtProgressBar(min = 0,\n",
        "                     max = nb_iter,\n",
        "                     style = 3)\n",
        "\n",
        "for (i in 1:nrow(params_grid))\n",
        "{\n",
        "  for (j in 6:ncol(params_grid))\n",
        "  {\n",
        "    seed_i_j <- 100*i+300*j\n",
        "\n",
        "    y <- simulatetimeseries::simulate_time_series_4(n = 600,\n",
        "                                                    params_grid$psi[i],\n",
        "                                                    params_grid$theta[i],\n",
        "                                                    seed=seed_i_j)\n",
        "    splitted_ts <- simulatetimeseries::splitts(y = y, split_prob = 0.9)\n",
        "    y_train <- splitted_ts$training\n",
        "    y_test <- splitted_ts$testing\n",
        "\n",
        "    if (as.character(params_grid$conformal_method[i]) == \"splitconformal\")\n",
        "    {\n",
        "      obj <- ahead::fitforecast(y,\n",
        "                                conformalize = TRUE,\n",
        "                                pct_train = 0.9,\n",
        "                                pct_calibration = 0.5,\n",
        "                                method = as.character(params_grid$fcast_method[i]),\n",
        "                                type_calibration = \"splitconformal\",\n",
        "                                level = params_grid$level[i],\n",
        "                                type_sim = \"kde\",\n",
        "                                graph = FALSE\n",
        "      )\n",
        "      params_grid[i, j] <- obj$coverage\n",
        "      params_grid2[i, j] <- obj$winkler_score\n",
        "    }\n",
        "\n",
        "    if (as.character(params_grid$conformal_method[i]) %in% c(\"AgACI\", \"SAOCP\", \"SF-OGD\"))\n",
        "    {\n",
        "      obj <- switch(as.character(params_grid$fcast_method[i]),\n",
        "                      thetaf = forecast::thetaf(y_train, h=length(y_test)),\n",
        "                      dynrmf = ahead::dynrmf(y_train, h=length(y_test)))\n",
        "      preds <- obj$mean\n",
        "      result <- AdaptiveConformal::aci(as.vector(y_test),\n",
        "                                       as.vector(preds),\n",
        "                                       method = as.character(params_grid$conformal_method[i]),\n",
        "                                       alpha = params_grid$level[i]/100)\n",
        "      result$lower <- result$intervals[, 1]\n",
        "      result$upper <- result$intervals[, 2]\n",
        "      params_grid[i, j] <- result$metrics$coverage*100\n",
        "      params_grid2[i, j] <- winkler_score(result, actual=y_test, level = params_grid$level[i])\n",
        "    }\n",
        "  }\n",
        "  utils::setTxtProgressBar(pb, i)\n",
        "}\n",
        "\n",
        "close(pb)\n",
        "\n",
        "saveRDS(params_grid, \"params_grid_coverages.rds\")\n",
        "saveRDS(params_grid2, \"params_grid_winkler.rds\")"
      ]
    },
    {
      "cell_type": "markdown",
      "metadata": {},
      "source": [
        "## 4 - 1 Coverage rates for synthetic data"
      ]
    },
    {
      "cell_type": "code",
      "execution_count": null,
      "metadata": {},
      "outputs": [],
      "source": [
        "%%R \n",
        "\n",
        "# CONFIDENCE INTERVALS FOR THE SYNTHETIC DATA SET\n",
        "## ----\"11-ag-agci-confint-coverage\", echo=FALSE, cache=TRUE, warning=FALSE, message=FALSE----------------------------\n",
        "utils::install.packages(\"dplyr\", repos = \"https://cran.r-project.org\")\n",
        "library(\"dplyr\")\n",
        "df <- reshape2::melt(params_grid,\n",
        "                          id.vars=c(\"level\",\n",
        "                           \"fcast_method\",\n",
        "                           \"conformal_method\"),\n",
        "                          measure.vars=paste0(\"B\", seq_len(B)))\n",
        "df$variable <- NULL"
      ]
    },
    {
      "cell_type": "code",
      "execution_count": null,
      "metadata": {},
      "outputs": [],
      "source": [
        "%%R \n",
        "\n",
        "utils::install.packages(\"patchwork\")\n",
        "library(patchwork)"
      ]
    },
    {
      "cell_type": "code",
      "execution_count": 100,
      "metadata": {},
      "outputs": [
        {
          "name": "stdout",
          "output_type": "stream",
          "text": [
            "`summarise()` has grouped output by 'fcast_method'. You can override using the\n",
            "`.groups` argument.\n",
            "`summarise()` has grouped output by 'fcast_method'. You can override using the\n",
            "`.groups` argument.\n"
          ]
        },
        {
          "data": {
            "image/png": "[encoded data removed]",
            "text/plain": [
              "<IPython.core.display.Image object>"
            ]
          },
          "metadata": {},
          "output_type": "display_data"
        }
      ],
      "source": [
        "%%R\n",
        "\n",
        "# Create interaction label for x-axis\n",
        "df$method_combo <- paste(df$fcast_method, df$conformal_method, sep=\"\\n\")\n",
        "\n",
        "# Summary tables for each level\n",
        "table_80 <- df %>%\n",
        "  filter(level == 80) %>%\n",
        "  group_by(fcast_method, conformal_method) %>%\n",
        "  summarise(\n",
        "    mean = mean(value),\n",
        "    sd = sd(value),\n",
        "    median = median(value),\n",
        "    q25 = quantile(value, 0.25),\n",
        "    q75 = quantile(value, 0.75)\n",
        "  ) %>%\n",
        "  arrange(desc(mean))\n",
        "\n",
        "table_95 <- df %>%\n",
        "  filter(level == 95) %>%\n",
        "  group_by(fcast_method, conformal_method) %>%\n",
        "  summarise(\n",
        "    mean = mean(value),\n",
        "    sd = sd(value),\n",
        "    median = median(value),\n",
        "    q25 = quantile(value, 0.25),\n",
        "    q75 = quantile(value, 0.75)\n",
        "  ) %>%\n",
        "  arrange(desc(mean))\n",
        "\n",
        "# Plot for level 80\n",
        "p1 <- ggplot(df[df$level == 80,], aes(x=method_combo, y=value)) +\n",
        "  geom_boxplot(fill=\"lightgray\") +\n",
        "  labs(title=\"Distribution of Coverage Rates by Method (Level = 80)\",\n",
        "       x=\"Forecasting Method + Conformal Method\",\n",
        "       y=\"Value\") +\n",
        "  theme_minimal() +\n",
        "  theme(axis.text.x = element_text(angle = 45, hjust = 1))\n",
        "\n",
        "# Plot for level 95\n",
        "p2 <- ggplot(df[df$level == 95,], aes(x=method_combo, y=value)) +\n",
        "  geom_boxplot(fill=\"lightgray\") +\n",
        "  labs(title=\"Distribution of Coverage Rates by Method (Level = 95)\",\n",
        "       x=\"Forecasting Method + Conformal Method\",\n",
        "       y=\"Value\") +\n",
        "  theme_minimal() +\n",
        "  theme(axis.text.x = element_text(angle = 45, hjust = 1))\n",
        "\n",
        "# Display plots one after another using patchwork\n",
        "library(patchwork)\n",
        "print(p1 / p2)"
      ]
    },
    {
      "cell_type": "code",
      "execution_count": 105,
      "metadata": {},
      "outputs": [
        {
          "name": "stdout",
          "output_type": "stream",
          "text": [
            "Coverage Rate Summary Statistics for Level 80:\n",
            "\n",
            "\n",
            "|fcast_method |conformal_method |  mean|   sd| median|   q25|   q75|\n",
            "|:------------|:----------------|-----:|----:|------:|-----:|-----:|\n",
            "|dynrmf       |splitconformal   | 81.40| 7.37|  83.33| 76.67| 86.67|\n",
            "|thetaf       |splitconformal   | 79.85| 8.50|  81.67| 75.00| 85.00|\n",
            "|dynrmf       |AgACI            | 77.61| 4.06|  78.33| 75.00| 80.00|\n",
            "|thetaf       |AgACI            | 77.41| 4.08|  78.33| 75.00| 80.00|\n",
            "|dynrmf       |SAOCP            | 52.77| 3.76|  53.33| 50.00| 55.00|\n",
            "|thetaf       |SAOCP            | 51.81| 4.73|  51.67| 50.00| 55.00|\n",
            "|dynrmf       |SF-OGD           |  1.20| 1.39|   1.67|  0.00|  1.67|\n",
            "|thetaf       |SF-OGD           |  1.16| 1.38|   0.00|  0.00|  1.67|\n"
          ]
        }
      ],
      "source": [
        "%%R\n",
        "\n",
        "# Print formatted tables\n",
        "cat(\"Coverage Rate Summary Statistics for Level 80:\\n\")\n",
        "print(kable(table_80, digits = 2))"
      ]
    },
    {
      "cell_type": "code",
      "execution_count": 106,
      "metadata": {},
      "outputs": [
        {
          "name": "stdout",
          "output_type": "stream",
          "text": [
            "\n",
            "Coverage Rate Summary Statistics for Level 95:\n"
          ]
        },
        {
          "name": "stdout",
          "output_type": "stream",
          "text": [
            "\n",
            "\n",
            "|fcast_method |conformal_method |  mean|   sd| median|   q25|   q75|\n",
            "|:------------|:----------------|-----:|----:|------:|-----:|-----:|\n",
            "|dynrmf       |splitconformal   | 95.57| 4.12|  96.67| 93.33| 98.33|\n",
            "|thetaf       |splitconformal   | 94.38| 4.96|  95.00| 91.67| 98.33|\n",
            "|dynrmf       |AgACI            | 89.98| 3.02|  90.00| 88.33| 91.67|\n",
            "|thetaf       |AgACI            | 89.74| 3.12|  90.00| 88.33| 91.67|\n",
            "|dynrmf       |SAOCP            | 59.56| 3.85|  60.00| 56.67| 61.67|\n",
            "|thetaf       |SAOCP            | 58.41| 4.91|  58.33| 56.67| 61.67|\n",
            "|dynrmf       |SF-OGD           |  1.19| 1.39|   1.67|  0.00|  1.67|\n",
            "|thetaf       |SF-OGD           |  1.17| 1.37|   1.67|  0.00|  1.67|\n"
          ]
        }
      ],
      "source": [
        "%%R\n",
        "\n",
        "cat(\"\\nCoverage Rate Summary Statistics for Level 95:\\n\")\n",
        "print(kable(table_95, digits = 2))"
      ]
    },
    {
      "cell_type": "markdown",
      "metadata": {},
      "source": [
        "## 4 - 2 Winkler scores for synthetic data"
      ]
    },
    {
      "cell_type": "markdown",
      "metadata": {},
      "source": [
        "The lower the better."
      ]
    },
    {
      "cell_type": "code",
      "execution_count": 107,
      "metadata": {},
      "outputs": [],
      "source": [
        "%%R \n",
        "\n",
        "## ----\"12-ag-agci-confint-winkler\", echo=FALSE, cache=TRUE, warning=FALSE, message=FALSE-----------------------------\n",
        "df <- reshape2::melt(params_grid2,\n",
        "                          id.vars=c(\"level\",\n",
        "                           \"fcast_method\",\n",
        "                           \"conformal_method\"),\n",
        "                          measure.vars=paste0(\"B\", seq_len(B)))\n",
        "df$variable <- NULL\n"
      ]
    },
    {
      "cell_type": "code",
      "execution_count": 108,
      "metadata": {},
      "outputs": [
        {
          "name": "stdout",
          "output_type": "stream",
          "text": [
            "`summarise()` has grouped output by 'fcast_method'. You can override using the\n",
            "`.groups` argument.\n",
            "`summarise()` has grouped output by 'fcast_method'. You can override using the\n",
            "`.groups` argument.\n"
          ]
        },
        {
          "data": {
            "image/png": "[encoded data removed]",
            "text/plain": [
              "<IPython.core.display.Image object>"
            ]
          },
          "metadata": {},
          "output_type": "display_data"
        }
      ],
      "source": [
        "%%R\n",
        "\n",
        "# Create interaction label for x-axis\n",
        "df$method_combo <- paste(df$fcast_method, df$conformal_method, sep=\"\\n\")\n",
        "\n",
        "# Summary tables for each level\n",
        "table_80 <- df %>%\n",
        "  filter(level == 80) %>%\n",
        "  group_by(fcast_method, conformal_method) %>%\n",
        "  summarise(\n",
        "    mean = mean(value),\n",
        "    sd = sd(value),\n",
        "    median = median(value),\n",
        "    q25 = quantile(value, 0.25),\n",
        "    q75 = quantile(value, 0.75)\n",
        "  ) %>%\n",
        "  arrange(desc(mean))\n",
        "\n",
        "table_95 <- df %>%\n",
        "  filter(level == 95) %>%\n",
        "  group_by(fcast_method, conformal_method) %>%\n",
        "  summarise(\n",
        "    mean = mean(value),\n",
        "    sd = sd(value),\n",
        "    median = median(value),\n",
        "    q25 = quantile(value, 0.25),\n",
        "    q75 = quantile(value, 0.75)\n",
        "  ) %>%\n",
        "  arrange(desc(mean))\n",
        "\n",
        "# Plot for level 80\n",
        "p1 <- ggplot(df[df$level == 80,], aes(x=method_combo, y=value)) +\n",
        "  geom_boxplot(fill=\"lightgray\") +\n",
        "  labs(title=\"Distribution of Winkler Scores by Method (Level = 80)\",\n",
        "       x=\"Forecasting Method + Conformal Method\",\n",
        "       y=\"Value\") +\n",
        "  theme_minimal() +\n",
        "  theme(axis.text.x = element_text(angle = 45, hjust = 1))\n",
        "\n",
        "# Plot for level 95\n",
        "p2 <- ggplot(df[df$level == 95,], aes(x=method_combo, y=value)) +\n",
        "  geom_boxplot(fill=\"lightgray\") +\n",
        "  labs(title=\"Distribution of Winkler Scores by Method (Level = 95)\",\n",
        "       x=\"Forecasting Method + Conformal Method\",\n",
        "       y=\"Value\") +\n",
        "  theme_minimal() +\n",
        "  theme(axis.text.x = element_text(angle = 45, hjust = 1))\n",
        "\n",
        "# Display plots one after another using patchwork\n",
        "library(patchwork)\n",
        "print(p1 / p2)"
      ]
    },
    {
      "cell_type": "code",
      "execution_count": 109,
      "metadata": {},
      "outputs": [
        {
          "name": "stdout",
          "output_type": "stream",
          "text": [
            "Winkler Score Summary Statistics for Level 80:\n",
            "\n",
            "\n",
            "|fcast_method |conformal_method |  mean|   sd| median|   q25|   q75|\n",
            "|:------------|:----------------|-----:|----:|------:|-----:|-----:|\n",
            "|thetaf       |SF-OGD           | 47.91| 8.74|  46.39| 42.21| 51.26|\n",
            "|dynrmf       |SF-OGD           | 46.16| 6.03|  45.57| 42.16| 49.59|\n",
            "|thetaf       |SAOCP            | 26.23| 5.01|  25.33| 22.90| 28.45|\n",
            "|dynrmf       |SAOCP            | 24.95| 3.59|  24.61| 22.47| 26.83|\n",
            "|thetaf       |AgACI            | 21.85| 3.10|  21.53| 19.58| 23.52|\n",
            "|thetaf       |splitconformal   | 21.16| 3.79|  20.41| 18.82| 22.50|\n",
            "|dynrmf       |AgACI            | 21.07| 2.49|  20.87| 19.37| 22.55|\n",
            "|dynrmf       |splitconformal   | 20.28| 2.85|  19.78| 18.53| 21.44|\n"
          ]
        }
      ],
      "source": [
        "%%R\n",
        "\n",
        "# Print formatted tables\n",
        "cat(\"Winkler Score Summary Statistics for Level 80:\\n\")\n",
        "print(kable(table_80, digits = 2))"
      ]
    },
    {
      "cell_type": "code",
      "execution_count": 110,
      "metadata": {},
      "outputs": [
        {
          "name": "stdout",
          "output_type": "stream",
          "text": [
            "Winkler Score Summary Statistics for Level 95:\n",
            "\n",
            "\n",
            "|fcast_method |conformal_method |   mean|    sd| median|    q25|    q75|\n",
            "|:------------|:----------------|------:|-----:|------:|------:|------:|\n",
            "|thetaf       |SF-OGD           | 191.33| 33.69| 185.45| 169.11| 205.35|\n",
            "|dynrmf       |SF-OGD           | 183.80| 23.78| 181.53| 168.26| 197.23|\n",
            "|thetaf       |SAOCP            |  67.82| 16.35|  65.02|  56.87|  74.78|\n",
            "|dynrmf       |SAOCP            |  63.90| 11.80|  62.66|  55.78|  70.58|\n",
            "|thetaf       |AgACI            |  32.80|  4.95|  32.20|  29.26|  35.67|\n",
            "|dynrmf       |AgACI            |  31.82|  4.15|  31.53|  28.83|  34.36|\n",
            "|thetaf       |splitconformal   |  28.01|  6.01|  26.39|  24.51|  29.46|\n",
            "|dynrmf       |splitconformal   |  26.56|  4.68|  25.63|  24.05|  27.89|\n"
          ]
        }
      ],
      "source": [
        "%%R\n",
        "\n",
        "# Print formatted tables\n",
        "# Winkler score, the lower the better\n",
        "cat(\"Winkler Score Summary Statistics for Level 95:\\n\")\n",
        "print(kable(table_95, digits = 2))\n"
      ]
    },
    {
      "cell_type": "markdown",
      "metadata": {
        "id": "mH1MbB5XRGu-"
      },
      "source": [
        "# 5 - Session info"
      ]
    },
    {
      "cell_type": "markdown",
      "metadata": {
        "id": "1gsIKzhoRN38"
      },
      "source": [
        "## 5 - 1 Python"
      ]
    },
    {
      "cell_type": "code",
      "execution_count": 70,
      "metadata": {
        "colab": {
          "base_uri": "https://localhost:8080/"
        },
        "id": "QGLFe-ly7HU6",
        "outputId": "381dd788-3f17-4f4e-c83d-3704a432288f"
      },
      "outputs": [
        {
          "name": "stdout",
          "output_type": "stream",
          "text": [
            "Python Version: 3.11.10\n"
          ]
        }
      ],
      "source": [
        "import platform\n",
        "\n",
        "# Get basic machine information\n",
        "python_version = platform.python_version()\n",
        "\n",
        "print(\"Python Version:\", python_version)"
      ]
    },
    {
      "cell_type": "code",
      "execution_count": 71,
      "metadata": {
        "colab": {
          "base_uri": "https://localhost:8080/"
        },
        "id": "_aXpQR2B7IYo",
        "outputId": "7f0bcc35-f02f-4578-d1a1-a72f0a6416d9"
      },
      "outputs": [
        {
          "name": "stdout",
          "output_type": "stream",
          "text": [
            "CPU Count: 8\n",
            "CPU Frequency: 1100 MHz\n"
          ]
        }
      ],
      "source": [
        "import psutil\n",
        "\n",
        "# CPU Information\n",
        "cpu_count = psutil.cpu_count(logical=True)\n",
        "cpu_freq = psutil.cpu_freq()\n",
        "cpu_usage = psutil.cpu_percent(interval=1)\n",
        "\n",
        "# Memory Information\n",
        "virtual_memory = psutil.virtual_memory()\n",
        "swap_memory = psutil.swap_memory()\n",
        "\n",
        "# Disk Information\n",
        "disk_usage = psutil.disk_usage('/')\n",
        "\n",
        "print(f\"CPU Count: {cpu_count}\")\n",
        "print(f\"CPU Frequency: {cpu_freq.current} MHz\")"
      ]
    },
    {
      "cell_type": "code",
      "execution_count": 72,
      "metadata": {
        "colab": {
          "base_uri": "https://localhost:8080/"
        },
        "id": "BDbU-9-gRLIq",
        "outputId": "84b24171-f085-478c-fb7e-d2e7b4a73dff"
      },
      "outputs": [
        {
          "name": "stderr",
          "output_type": "stream",
          "text": [
            "Python(54508) MallocStackLogging: can't turn off malloc stack logging because it was not enabled.\n"
          ]
        },
        {
          "name": "stdout",
          "output_type": "stream",
          "text": [
            "appnope==0.1.4\n",
            "asttokens==2.4.1\n",
            "certifi==2024.12.14\n",
            "cffi==1.17.1\n",
            "charset-normalizer==3.4.1\n",
            "click==8.1.7\n",
            "comm==0.2.1\n",
            "contourpy==1.3.1\n",
            "cycler==0.12.1\n",
            "debugpy==1.8.1\n",
            "decorator==5.1.1\n",
            "executing==2.0.1\n",
            "fonttools==4.55.3\n",
            "idna==3.10\n",
            "ipykernel==6.29.3\n",
            "ipython==8.22.2\n",
            "jedi==0.19.1\n",
            "Jinja2==3.1.5\n",
            "joblib==1.4.2\n",
            "jupyter_client==8.6.0\n",
            "jupyter_core==5.7.1\n",
            "kiwisolver==1.4.8\n",
            "lightgbm==4.5.0\n",
            "MarkupSafe==3.0.2\n",
            "matplotlib==3.10.0\n",
            "matplotlib-inline==0.1.6\n",
            "nest-asyncio==1.6.0\n",
            "nnetsauce==0.29.5\n",
            "numpy==2.2.1\n",
            "packaging==23.2\n",
            "pandas==2.2.3\n",
            "parso==0.8.3\n",
            "patsy==1.0.1\n",
            "pexpect==4.9.0\n",
            "pillow==11.1.0\n",
            "platformdirs==4.2.0\n",
            "prompt-toolkit==3.0.43\n",
            "psutil==5.9.8\n",
            "ptyprocess==0.7.0\n",
            "pure-eval==0.2.2\n",
            "pycparser==2.22\n",
            "Pygments==2.17.2\n",
            "pyparsing==3.2.1\n",
            "python-dateutil==2.9.0.post0\n",
            "pytz==2024.2\n",
            "pyzmq==25.1.2\n",
            "requests==2.32.3\n",
            "rpy2==3.5.17\n",
            "rtopy==0.1.1\n",
            "scikit-learn==1.6.0\n",
            "scipy==1.15.0\n",
            "seaborn==0.13.2\n",
            "six==1.16.0\n",
            "stack-data==0.6.3\n",
            "statsmodels==0.14.4\n",
            "threadpoolctl==3.5.0\n",
            "tornado==6.4\n",
            "tqdm==4.67.1\n",
            "traitlets==5.14.1\n",
            "tzdata==2024.2\n",
            "tzlocal==5.2\n",
            "urllib3==2.3.0\n",
            "wcwidth==0.2.13\n",
            "xgboost==2.1.3\n"
          ]
        }
      ],
      "source": [
        "!pip freeze"
      ]
    },
    {
      "cell_type": "markdown",
      "metadata": {
        "id": "-APJKu4aRRPb"
      },
      "source": [
        "## 5 - 2 R"
      ]
    },
    {
      "cell_type": "code",
      "execution_count": 74,
      "metadata": {
        "colab": {
          "base_uri": "https://localhost:8080/"
        },
        "id": "5XorSZ5PRQtL",
        "outputId": "184a2a75-803a-4edc-f141-3a8cb1e53b88"
      },
      "outputs": [
        {
          "data": {
            "text/html": [
              "\n",
              "        <span>ListVector with 14 elements.</span>\n",
              "        <table>\n",
              "        <tbody>\n",
              "        \n",
              "          <tr>\n",
              "            <th>\n",
              "            R.version\n",
              "            </th>\n",
              "            <td>\n",
              "            \n",
              "        <span>ListVector with 14 elements.</span>\n",
              "        <table>\n",
              "        <tbody>\n",
              "        \n",
              "          <tr>\n",
              "            <th>\n",
              "            platform\n",
              "            </th>\n",
              "            <td>\n",
              "            \n",
              "        <span>StrVector with 1 elements.</span>\n",
              "        <table>\n",
              "        <tbody>\n",
              "          <tr>\n",
              "          \n",
              "            <td>\n",
              "            'x86_64-apple-darwin20'\n",
              "            </td>\n",
              "          \n",
              "          </tr>\n",
              "        </tbody>\n",
              "        </table>\n",
              "        \n",
              "            </td>\n",
              "          </tr>\n",
              "        \n",
              "          <tr>\n",
              "            <th>\n",
              "            arch\n",
              "            </th>\n",
              "            <td>\n",
              "            \n",
              "        <span>StrVector with 1 elements.</span>\n",
              "        <table>\n",
              "        <tbody>\n",
              "          <tr>\n",
              "          \n",
              "            <td>\n",
              "            'x86_64'\n",
              "            </td>\n",
              "          \n",
              "          </tr>\n",
              "        </tbody>\n",
              "        </table>\n",
              "        \n",
              "            </td>\n",
              "          </tr>\n",
              "        \n",
              "          <tr>\n",
              "            <th>\n",
              "            os\n",
              "            </th>\n",
              "            <td>\n",
              "            \n",
              "        <span>StrVector with 1 elements.</span>\n",
              "        <table>\n",
              "        <tbody>\n",
              "          <tr>\n",
              "          \n",
              "            <td>\n",
              "            'darwin20'\n",
              "            </td>\n",
              "          \n",
              "          </tr>\n",
              "        </tbody>\n",
              "        </table>\n",
              "        \n",
              "            </td>\n",
              "          </tr>\n",
              "        \n",
              "          <tr>\n",
              "            <th>\n",
              "            ...\n",
              "            </th>\n",
              "            <td>\n",
              "            ...\n",
              "            </td>\n",
              "          </tr>\n",
              "        \n",
              "          <tr>\n",
              "            <th>\n",
              "            language\n",
              "            </th>\n",
              "            <td>\n",
              "            \n",
              "        <span>StrVector with 1 elements.</span>\n",
              "        <table>\n",
              "        <tbody>\n",
              "          <tr>\n",
              "          \n",
              "            <td>\n",
              "            'R'\n",
              "            </td>\n",
              "          \n",
              "          </tr>\n",
              "        </tbody>\n",
              "        </table>\n",
              "        \n",
              "            </td>\n",
              "          </tr>\n",
              "        \n",
              "          <tr>\n",
              "            <th>\n",
              "            version.string\n",
              "            </th>\n",
              "            <td>\n",
              "            \n",
              "        <span>StrVector with 1 elements.</span>\n",
              "        <table>\n",
              "        <tbody>\n",
              "          <tr>\n",
              "          \n",
              "            <td>\n",
              "            'R version 4.3.3 (2024-02-29)'\n",
              "            </td>\n",
              "          \n",
              "          </tr>\n",
              "        </tbody>\n",
              "        </table>\n",
              "        \n",
              "            </td>\n",
              "          </tr>\n",
              "        \n",
              "          <tr>\n",
              "            <th>\n",
              "            nickname\n",
              "            </th>\n",
              "            <td>\n",
              "            \n",
              "        <span>StrVector with 1 elements.</span>\n",
              "        <table>\n",
              "        <tbody>\n",
              "          <tr>\n",
              "          \n",
              "            <td>\n",
              "            'Angel Food Cake'\n",
              "            </td>\n",
              "          \n",
              "          </tr>\n",
              "        </tbody>\n",
              "        </table>\n",
              "        \n",
              "            </td>\n",
              "          </tr>\n",
              "        \n",
              "        </tbody>\n",
              "        </table>\n",
              "        \n",
              "            </td>\n",
              "          </tr>\n",
              "        \n",
              "          <tr>\n",
              "            <th>\n",
              "            platform\n",
              "            </th>\n",
              "            <td>\n",
              "            \n",
              "        <span>StrVector with 1 elements.</span>\n",
              "        <table>\n",
              "        <tbody>\n",
              "          <tr>\n",
              "          \n",
              "            <td>\n",
              "            'x86_64-apple-darwin20 (64-bit)'\n",
              "            </td>\n",
              "          \n",
              "          </tr>\n",
              "        </tbody>\n",
              "        </table>\n",
              "        \n",
              "            </td>\n",
              "          </tr>\n",
              "        \n",
              "          <tr>\n",
              "            <th>\n",
              "            locale\n",
              "            </th>\n",
              "            <td>\n",
              "            \n",
              "        <span>StrVector with 1 elements.</span>\n",
              "        <table>\n",
              "        <tbody>\n",
              "          <tr>\n",
              "          \n",
              "            <td>\n",
              "            'C/UTF-8/C/C/C/C'\n",
              "            </td>\n",
              "          \n",
              "          </tr>\n",
              "        </tbody>\n",
              "        </table>\n",
              "        \n",
              "            </td>\n",
              "          </tr>\n",
              "        \n",
              "          <tr>\n",
              "            <th>\n",
              "            ...\n",
              "            </th>\n",
              "            <td>\n",
              "            ...\n",
              "            </td>\n",
              "          </tr>\n",
              "        \n",
              "          <tr>\n",
              "            <th>\n",
              "            BLAS\n",
              "            </th>\n",
              "            <td>\n",
              "            \n",
              "        <span>StrVector with 1 elements.</span>\n",
              "        <table>\n",
              "        <tbody>\n",
              "          <tr>\n",
              "          \n",
              "            <td>\n",
              "            '/System/Library/Frameworks/Accelerate.framework/...\n",
              "            </td>\n",
              "          \n",
              "          </tr>\n",
              "        </tbody>\n",
              "        </table>\n",
              "        \n",
              "            </td>\n",
              "          </tr>\n",
              "        \n",
              "          <tr>\n",
              "            <th>\n",
              "            LAPACK\n",
              "            </th>\n",
              "            <td>\n",
              "            \n",
              "        <span>StrVector with 1 elements.</span>\n",
              "        <table>\n",
              "        <tbody>\n",
              "          <tr>\n",
              "          \n",
              "            <td>\n",
              "            '/Library/Frameworks/R.framework/Versions/4.3-x86...\n",
              "            </td>\n",
              "          \n",
              "          </tr>\n",
              "        </tbody>\n",
              "        </table>\n",
              "        \n",
              "            </td>\n",
              "          </tr>\n",
              "        \n",
              "          <tr>\n",
              "            <th>\n",
              "            LA_version\n",
              "            </th>\n",
              "            <td>\n",
              "            \n",
              "        <span>StrVector with 1 elements.</span>\n",
              "        <table>\n",
              "        <tbody>\n",
              "          <tr>\n",
              "          \n",
              "            <td>\n",
              "            '3.11.0'\n",
              "            </td>\n",
              "          \n",
              "          </tr>\n",
              "        </tbody>\n",
              "        </table>\n",
              "        \n",
              "            </td>\n",
              "          </tr>\n",
              "        \n",
              "        </tbody>\n",
              "        </table>\n",
              "        "
            ],
            "text/plain": [
              "<rpy2.robjects.vectors.ListVector object at 0x11f778c50> [19]\n",
              "R classes: ('sessionInfo',)\n",
              "[ListSexpV..., StrSexpVe..., StrSexpVe..., StrSexpVe..., ..., StrSexpVe..., StrSexpVe..., StrSexpVe..., StrSexpVe...]\n",
              "<rpy2.robjects.vectors.ListVector object at 0x11f778c50> [19]\n",
              "R classes: ('sessionInfo',)\n",
              "[ListSexpV..., StrSexpVe..., StrSexpVe..., StrSexpVe..., ..., StrSexpVe..., StrSexpVe..., StrSexpVe..., StrSexpVe...]\n",
              "  platform: <class 'rpy2.robjects.vectors.StrVector'>\n",
              "  <rpy2.robjects.vectors.StrVector object at 0x11f809ad0> [16]\n",
              "R classes: ('character',)\n",
              "['x86_64-apple-darwin20 (64-bit)']\n",
              "  locale: <class 'rpy2.robjects.vectors.StrVector'>\n",
              "  <rpy2.robjects.vectors.StrVector object at 0x11f5a12d0> [16]\n",
              "R classes: ('character',)\n",
              "['C/UTF-8/C/C/C/C']\n",
              "  tzone: <class 'rpy2.robjects.vectors.StrVector'>\n",
              "  <rpy2.robjects.vectors.StrVector object at 0x11f875110> [16]\n",
              "R classes: ('character',)\n",
              "['Europe/Paris']\n",
              "...\n",
              "  running: <class 'rpy2.robjects.vectors.StrVector'>\n",
              "  <rpy2.robjects.vectors.StrVector object at 0x10df1bf50> [16]\n",
              "R classes: ('character',)\n",
              "['default']\n",
              "  RNGkind: <class 'rpy2.robjects.vectors.StrVector'>\n",
              "  <rpy2.robjects.vectors.StrVector object at 0x10df1bf10> [16]\n",
              "R classes: ('character',)\n",
              "['/System/Library/Frameworks/Accelerate.framework/...]\n",
              "  basePkgs: <class 'rpy2.robjects.vectors.StrVector'>\n",
              "  <rpy2.robjects.vectors.StrVector object at 0x11f718c10> [16]\n",
              "R classes: ('character',)\n",
              "['/Library/Frameworks/R.framework/Versions/4.3-x86...]\n",
              "  otherPkgs: <class 'rpy2.robjects.vectors.StrVector'>\n",
              "  <rpy2.robjects.vectors.StrVector object at 0x10df1b450> [16]\n",
              "R classes: ('character',)\n",
              "['3.11.0']"
            ]
          },
          "execution_count": 74,
          "metadata": {},
          "output_type": "execute_result"
        }
      ],
      "source": [
        "%R sessionInfo()"
      ]
    }
  ],
  "metadata": {
    "colab": {
      "provenance": []
    },
    "kernelspec": {
      "display_name": "Python 3",
      "name": "python3"
    },
    "language_info": {
      "codemirror_mode": {
        "name": "ipython",
        "version": 3
      },
      "file_extension": ".py",
      "mimetype": "text/x-python",
      "name": "python",
      "nbconvert_exporter": "python",
      "pygments_lexer": "ipython3",
      "version": "3.11.10"
    }
  },
  "nbformat": 4,
  "nbformat_minor": 0
}
