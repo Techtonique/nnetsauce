{
  "cells": [
    {
      "cell_type": "markdown",
      "metadata": {},
      "source": [
        "**Bayesian inference and conformal prediction (prediction intervals) in `nnetsauce` `v0.18.1`**"
      ]
    },
    {
      "cell_type": "markdown",
      "metadata": {},
      "source": [
        "<a target=\"_blank\" href=\"https://colab.research.google.com/github/Techtonique/nnetsauce/blob/master/nnetsauce/demo/thierrymoudiki_20240318_conformal_and_bayesian_regression.ipynb\">\n",
        "  <img src=\"https://colab.research.google.com/assets/colab-badge.svg\" alt=\"Open In Colab\"/>\n",
        "</a>"
      ]
    },
    {
      "cell_type": "markdown",
      "metadata": {},
      "source": [
        "Version `0.18.1` of `nnetsauce` (Python version) is available on PyPI and for `conda`. New developments include __Bayesian inference__ and __conformal prediction__. Bayesian inference is available for `scikit-learn` models that possess a posterior distribution (`BayesianRidge`, `ARDRegressor`, and `GaussianProcessRegressor`). Conformal prediction is available for __every__ regression model that follows the \"`fit_predict`\" API. Conformal prediction for classification will be available in future versions. "
      ]
    },
    {
      "cell_type": "markdown",
      "metadata": {
        "id": "zIx_mddzWMTd"
      },
      "source": [
        "# **1 - Installation**"
      ]
    },
    {
      "cell_type": "code",
      "execution_count": null,
      "metadata": {},
      "outputs": [],
      "source": [
        "!pip uninstall nnetsauce --yes"
      ]
    },
    {
      "cell_type": "code",
      "execution_count": null,
      "metadata": {
        "colab": {
          "base_uri": "https://localhost:8080/"
        },
        "id": "i_wSjswGU8aI",
        "outputId": "56226a89-4841-4535-9222-906551c73506"
      },
      "outputs": [],
      "source": [
        "!pip install nnetsauce --upgrade --no-cache-dir"
      ]
    },
    {
      "cell_type": "code",
      "execution_count": null,
      "metadata": {},
      "outputs": [],
      "source": [
        "!pip install matplotlib==3.1.3"
      ]
    },
    {
      "cell_type": "code",
      "execution_count": null,
      "metadata": {},
      "outputs": [],
      "source": [
        "import os \n",
        "import nnetsauce as ns \n",
        "import matplotlib.pyplot as plt \n",
        "import numpy as np \n",
        "import warnings\n",
        "from sklearn.datasets import fetch_california_housing, load_diabetes\n",
        "from sklearn.model_selection import train_test_split\n",
        "from sklearn.linear_model import BayesianRidge, ARDRegression, RidgeCV\n",
        "from sklearn.ensemble import ExtraTreesRegressor\n",
        "from time import time "
      ]
    },
    {
      "cell_type": "markdown",
      "metadata": {},
      "source": [
        "# 2 - Useful plotting functions"
      ]
    },
    {
      "cell_type": "code",
      "execution_count": null,
      "metadata": {},
      "outputs": [],
      "source": [
        "\n",
        "warnings.filterwarnings('ignore')\n",
        "\n",
        "split_color = 'green'\n",
        "split_color2 = 'orange'\n",
        "local_color = 'gray'\n",
        "\n",
        "def plot_func(x,\n",
        "              y,\n",
        "              y_u=None,\n",
        "              y_l=None,\n",
        "              pred=None,\n",
        "              shade_color=\"\",\n",
        "              method_name=\"\",\n",
        "              title=\"\"):\n",
        "\n",
        "    fig = plt.figure()\n",
        "\n",
        "    plt.plot(x, y, 'k.', alpha=.3, markersize=10,\n",
        "             fillstyle='full', label=u'Test set observations')\n",
        "\n",
        "    if (y_u is not None) and (y_l is not None):\n",
        "        plt.fill(np.concatenate([x, x[::-1]]),\n",
        "                 np.concatenate([y_u, y_l[::-1]]),\n",
        "                 alpha=.3, fc=shade_color, ec='None',\n",
        "                 label = method_name + ' Prediction interval')\n",
        "\n",
        "    if pred is not None:\n",
        "        plt.plot(x, pred, 'k--', lw=2, alpha=0.9,\n",
        "                 label=u'Predicted value')\n",
        "\n",
        "    #plt.ylim([-2.5, 7])\n",
        "    plt.xlabel('$X$')\n",
        "    plt.ylabel('$Y$')\n",
        "    plt.legend(loc='upper right')\n",
        "    plt.title(title)\n",
        "\n",
        "    plt.show()"
      ]
    },
    {
      "cell_type": "markdown",
      "metadata": {},
      "source": [
        "# 3 - Examples of use"
      ]
    },
    {
      "cell_type": "markdown",
      "metadata": {},
      "source": [
        "## 3 - 1 Conformalized Quasi-Randomized Nnetworks "
      ]
    },
    {
      "cell_type": "code",
      "execution_count": null,
      "metadata": {},
      "outputs": [],
      "source": [
        "data = fetch_california_housing()\n",
        "X = data.data\n",
        "y= data.target\n",
        "X_train, X_test, y_train, y_test = train_test_split(X, y, test_size = .2, random_state = 123)"
      ]
    },
    {
      "cell_type": "markdown",
      "metadata": {},
      "source": [
        "# 3 - 1 conformalized QRNN "
      ]
    },
    {
      "cell_type": "markdown",
      "metadata": {},
      "source": [
        "## RidgeCV "
      ]
    },
    {
      "cell_type": "code",
      "execution_count": null,
      "metadata": {},
      "outputs": [],
      "source": [
        "regr1 = ns.CustomRegressor(RidgeCV()) # 5 hidden nodes, ReLU activation function\n",
        "regr1.fit(X_train, y_train)\n",
        "start = time()\n",
        "preds1 = regr1.predict(X_test, method=\"localconformal\", return_pi=True, level=95)\n",
        "print(f\"Elapsed: {time() - start}s\")\n",
        "print(f\"preds4: {preds1}\")\n",
        "print(f\"coverage_rate conformalized QRNN RidgeCV: {np.mean((preds1[1]<=y_test)*(preds1[2]>=y_test))}\")\n",
        "\n",
        "max_idx = 50\n",
        "plot_func(x = range(max_idx),\n",
        "          y = y_test[0:max_idx],\n",
        "          y_u = preds1[2][0:max_idx],\n",
        "          y_l = preds1[1][0:max_idx],\n",
        "          pred = preds1[0][0:max_idx],\n",
        "          shade_color=split_color2,\n",
        "          title = f\"conformalized QRNN ExtraTreesRegressor ({max_idx} first points in test set)\")"
      ]
    },
    {
      "cell_type": "markdown",
      "metadata": {},
      "source": [
        "## Extra Trees"
      ]
    },
    {
      "cell_type": "code",
      "execution_count": null,
      "metadata": {},
      "outputs": [],
      "source": [
        "regr4 = ns.CustomRegressor(ExtraTreesRegressor()) # 5 hidden nodes, ReLU activation function\n",
        "regr4.fit(X_train, y_train)\n",
        "start = time()\n",
        "preds4 = regr4.predict(X_test, method=\"localconformal\", return_pi=True, level=90)\n",
        "print(f\"Elapsed: {time() - start}s\")\n",
        "print(f\"preds4: {preds4}\")\n",
        "print(f\"coverage_rate conformalized QRNN ExtraTreesRegressor: {np.mean((preds4[1]<=y_test)*(preds4[2]>=y_test))}\")\n",
        "\n",
        "plot_func(x = range(max_idx),\n",
        "          y = y_test[0:max_idx],\n",
        "          y_u = preds4[2][0:max_idx],\n",
        "          y_l = preds4[1][0:max_idx],\n",
        "          pred = preds4[0][0:max_idx],\n",
        "          shade_color=split_color2,\n",
        "          title = f\"conformalized QRNN ExtraTreesRegressor ({max_idx} first points in test set)\")"
      ]
    },
    {
      "cell_type": "markdown",
      "metadata": {},
      "source": [
        "## 3 - 2 Bayesian Quasi-Randomized Nnetworks "
      ]
    },
    {
      "cell_type": "markdown",
      "metadata": {},
      "source": [
        "## Bayesian Ridge"
      ]
    },
    {
      "cell_type": "code",
      "execution_count": null,
      "metadata": {},
      "outputs": [],
      "source": [
        "data = load_diabetes()\n",
        "X = data.data\n",
        "y= data.target\n",
        "X_train, X_test, y_train, y_test = train_test_split(X, y, test_size = .2, random_state = 123)\n",
        "\n",
        "print(X.shape)\n",
        "regr = ns.CustomRegressor(BayesianRidge())\n",
        "start = time()\n",
        "regr.fit(X_train, y_train)\n",
        "print(f\"Elapsed: {time() - start}s\")\n",
        "preds = regr.predict(X_test, return_std=True)\n",
        "print(f\"coverage_rate Bayesian Ridge: {np.mean((preds[2]<=y_test)*(preds[3]>=y_test))}\")\n"
      ]
    },
    {
      "cell_type": "code",
      "execution_count": null,
      "metadata": {},
      "outputs": [],
      "source": [
        "plot_func(x = range(max_idx),\n",
        "          y = y_test[0:max_idx],\n",
        "          y_u = preds[3][0:max_idx],\n",
        "          y_l = preds[2][0:max_idx],\n",
        "          pred = preds[0][0:max_idx],\n",
        "          shade_color=split_color,\n",
        "          title = f\"Bayesian Ridge QRNN ({max_idx} first points in test set)\")"
      ]
    },
    {
      "cell_type": "markdown",
      "metadata": {},
      "source": [
        "## ARD Regression"
      ]
    },
    {
      "cell_type": "code",
      "execution_count": null,
      "metadata": {},
      "outputs": [],
      "source": [
        "regr2 = ns.CustomRegressor(ARDRegression())\n",
        "start = time()\n",
        "regr2.fit(X_train, y_train)\n",
        "print(f\"Elapsed: {time() - start}s\")\n",
        "preds2 = regr2.predict(X_test, return_std=True)\n",
        "print(f\"coverage_rate ARD Regressor: {np.mean((preds2[2]<=y_test)*(preds2[3]>=y_test))}\")\n",
        "\n"
      ]
    },
    {
      "cell_type": "code",
      "execution_count": null,
      "metadata": {},
      "outputs": [],
      "source": [
        "plot_func(x = range(max_idx),\n",
        "          y = y_test[0:max_idx],\n",
        "          y_u = preds2[3][0:max_idx],\n",
        "          y_l = preds2[2][0:max_idx],\n",
        "          pred = preds2[0][0:max_idx],\n",
        "          shade_color=split_color,\n",
        "          title = f\"QRNN ARD Regressor ({max_idx} first points in test set)\")"
      ]
    }
  ],
  "metadata": {
    "colab": {
      "provenance": []
    },
    "kernelspec": {
      "display_name": "Python 3",
      "name": "python3"
    },
    "language_info": {
      "codemirror_mode": {
        "name": "ipython",
        "version": 3
      },
      "file_extension": ".py",
      "mimetype": "text/x-python",
      "name": "python",
      "nbconvert_exporter": "python",
      "pygments_lexer": "ipython3",
      "version": "3.11.8"
    }
  },
  "nbformat": 4,
  "nbformat_minor": 0
}
