{
  "nbformat": 4,
  "nbformat_minor": 0,
  "metadata": {
    "colab": {
      "name": "MultitaskClassifier_Examples.ipynb",
      "provenance": [],
      "collapsed_sections": []
    },
    "kernelspec": {
      "name": "python3",
      "display_name": "Python 3"
    },
    "language_info": {
      "name": "python"
    }
  },
  "cells": [
    {
      "cell_type": "code",
      "metadata": {
        "id": "HwPJ4D6FdSWQ"
      },
      "source": [
        ""
      ],
      "execution_count": null,
      "outputs": []
    },
    {
      "cell_type": "code",
      "metadata": {
        "id": "YhAwc4cC-kb2"
      },
      "source": [
        "!pip install git+https://github.com/Techtonique/nnetsauce.git"
      ],
      "execution_count": null,
      "outputs": []
    },
    {
      "cell_type": "code",
      "metadata": {
        "id": "ZGoy6pv3-Szg"
      },
      "source": [
        ""
      ],
      "execution_count": 1,
      "outputs": []
    },
    {
      "cell_type": "code",
      "metadata": {
        "colab": {
          "base_uri": "https://localhost:8080/"
        },
        "id": "QKcY6YjLANjn",
        "outputId": "31dbf1bf-b754-465e-d738-8236b3c47e2c"
      },
      "source": [
        "import nnetsauce as ns\n",
        "import numpy as np\n",
        "from sklearn.datasets import load_breast_cancer, load_wine, load_iris, load_digits\n",
        "from sklearn.linear_model import ElasticNet, LinearRegression, Ridge\n",
        "from sklearn.model_selection import train_test_split\n",
        "from sklearn import metrics\n",
        "from time import time\n",
        "\n",
        "\n",
        "# dataset no. 1 ---------- \n",
        "\n",
        "dataset = load_breast_cancer()\n",
        "Z = dataset.data\n",
        "t = dataset.target\n",
        "#np.random.seed(123)\n",
        "X_train, X_test, y_train, y_test = train_test_split(Z, t, test_size=0.2, \n",
        "                                                    random_state=123)\n",
        "\n",
        "# Linear Regression is used \n",
        "regr1 = LinearRegression()\n",
        "fit_obj1 = ns.MultitaskClassifier(regr1, n_hidden_features=5, \n",
        "                                 n_clusters=2, type_clust=\"gmm\")\n",
        "\n",
        "start = time()\n",
        "fit_obj1.fit(X_train, y_train)\n",
        "print(f\"Elapsed {time() - start}\") \n",
        "\n",
        "print(fit_obj1.score(X_test, y_test))\n",
        "\n",
        "start = time()\n",
        "preds = fit_obj1.predict(X_test)\n",
        "print(f\"Elapsed {time() - start}\") \n",
        "print(metrics.classification_report(preds, y_test))"
      ],
      "execution_count": 2,
      "outputs": [
        {
          "output_type": "stream",
          "name": "stdout",
          "text": [
            "Elapsed 0.05956077575683594\n",
            "0.9912280701754386\n",
            "Elapsed 0.0023140907287597656\n",
            "              precision    recall  f1-score   support\n",
            "\n",
            "           0       0.98      1.00      0.99        40\n",
            "           1       1.00      0.99      0.99        74\n",
            "\n",
            "    accuracy                           0.99       114\n",
            "   macro avg       0.99      0.99      0.99       114\n",
            "weighted avg       0.99      0.99      0.99       114\n",
            "\n"
          ]
        }
      ]
    },
    {
      "cell_type": "code",
      "metadata": {
        "id": "IDM7czV89BBP"
      },
      "source": [
        ""
      ],
      "execution_count": 2,
      "outputs": []
    },
    {
      "cell_type": "code",
      "metadata": {
        "colab": {
          "base_uri": "https://localhost:8080/"
        },
        "id": "evai1iVZ82_f",
        "outputId": "13fadadd-616d-4274-c2ba-fb8b3529c35a"
      },
      "source": [
        "# dataset no. 2 ---------- \n",
        "\n",
        "dataset = load_digits()\n",
        "Z = dataset.data\n",
        "t = dataset.target\n",
        "#np.random.seed(123)\n",
        "X_train, X_test, y_train, y_test = train_test_split(Z, t, test_size=0.2, \n",
        "                                                    random_state=143)\n",
        "\n",
        "# Linear Regression is used \n",
        "regr2 = LinearRegression()\n",
        "fit_obj2 = ns.MultitaskClassifier(regr2, n_hidden_features=5, \n",
        "                                 n_clusters=2, type_clust=\"gmm\")\n",
        "\n",
        "start = time()\n",
        "fit_obj2.fit(X_train, y_train)\n",
        "print(f\"Elapsed {time() - start}\") \n",
        "\n",
        "print(fit_obj2.score(X_test, y_test))\n",
        "\n",
        "start = time()\n",
        "preds = fit_obj2.predict(X_test)\n",
        "print(f\"Elapsed {time() - start}\") \n",
        "print(metrics.classification_report(preds, y_test))"
      ],
      "execution_count": 3,
      "outputs": [
        {
          "output_type": "stream",
          "name": "stdout",
          "text": [
            "Elapsed 0.4062819480895996\n",
            "0.9472222222222222\n",
            "Elapsed 0.008995294570922852\n",
            "              precision    recall  f1-score   support\n",
            "\n",
            "           0       0.97      0.97      0.97        34\n",
            "           1       0.97      0.95      0.96        38\n",
            "           2       0.95      1.00      0.97        35\n",
            "           3       0.93      0.93      0.93        44\n",
            "           4       1.00      1.00      1.00        35\n",
            "           5       0.98      0.91      0.95        47\n",
            "           6       0.94      0.94      0.94        36\n",
            "           7       0.97      0.97      0.97        39\n",
            "           8       0.73      1.00      0.84        16\n",
            "           9       0.94      0.83      0.88        36\n",
            "\n",
            "    accuracy                           0.95       360\n",
            "   macro avg       0.94      0.95      0.94       360\n",
            "weighted avg       0.95      0.95      0.95       360\n",
            "\n"
          ]
        }
      ]
    },
    {
      "cell_type": "code",
      "metadata": {
        "colab": {
          "base_uri": "https://localhost:8080/"
        },
        "id": "xcSpxCHd88ZZ",
        "outputId": "3d892874-0596-4d6b-f50b-346ee578dca5"
      },
      "source": [
        "# dataset no. 3 ---------- \n",
        "\n",
        "dataset = load_iris()\n",
        "Z = dataset.data\n",
        "t = dataset.target\n",
        "#np.random.seed(123)\n",
        "X_train, X_test, y_train, y_test = train_test_split(Z, t, test_size=0.2, \n",
        "                                                    random_state=143)\n",
        "\n",
        "# Linear Regression is used \n",
        "regr3 = LinearRegression()\n",
        "fit_obj3 = ns.MultitaskClassifier(regr3, n_hidden_features=5, \n",
        "                                 n_clusters=2, type_clust=\"gmm\")\n",
        "\n",
        "start = time()\n",
        "fit_obj3.fit(X_train, y_train)\n",
        "print(f\"Elapsed {time() - start}\") \n",
        "\n",
        "print(fit_obj3.score(X_test, y_test))\n",
        "\n",
        "start = time()\n",
        "preds = fit_obj3.predict(X_test)\n",
        "print(f\"Elapsed {time() - start}\") \n",
        "print(metrics.classification_report(preds, y_test))"
      ],
      "execution_count": 4,
      "outputs": [
        {
          "output_type": "stream",
          "name": "stdout",
          "text": [
            "Elapsed 0.012136697769165039\n",
            "1.0\n",
            "Elapsed 0.0015518665313720703\n",
            "              precision    recall  f1-score   support\n",
            "\n",
            "           0       1.00      1.00      1.00        12\n",
            "           1       1.00      1.00      1.00         5\n",
            "           2       1.00      1.00      1.00        13\n",
            "\n",
            "    accuracy                           1.00        30\n",
            "   macro avg       1.00      1.00      1.00        30\n",
            "weighted avg       1.00      1.00      1.00        30\n",
            "\n"
          ]
        }
      ]
    },
    {
      "cell_type": "code",
      "metadata": {
        "colab": {
          "base_uri": "https://localhost:8080/"
        },
        "id": "OYRSu-QS9BVR",
        "outputId": "3904b551-0c77-4956-f73e-8d9c4280fafd"
      },
      "source": [
        "# dataset no. 4 ---------- \n",
        "\n",
        "dataset = load_wine()\n",
        "Z = dataset.data\n",
        "t = dataset.target\n",
        "#np.random.seed(123)\n",
        "X_train, X_test, y_train, y_test = train_test_split(Z, t, test_size=0.2, \n",
        "                                                    random_state=143)\n",
        "\n",
        "# Linear Regression is used \n",
        "regr4 = LinearRegression()\n",
        "fit_obj4 = ns.MultitaskClassifier(regr4, n_hidden_features=5, \n",
        "                                 n_clusters=2, type_clust=\"gmm\")\n",
        "\n",
        "start = time()\n",
        "fit_obj4.fit(X_train, y_train)\n",
        "print(f\"Elapsed {time() - start}\") \n",
        "\n",
        "print(fit_obj4.score(X_test, y_test))\n",
        "\n",
        "start = time()\n",
        "preds = fit_obj4.predict(X_test)\n",
        "print(f\"Elapsed {time() - start}\") \n",
        "print(metrics.classification_report(preds, y_test))"
      ],
      "execution_count": 5,
      "outputs": [
        {
          "output_type": "stream",
          "name": "stdout",
          "text": [
            "Elapsed 0.021842479705810547\n",
            "1.0\n",
            "Elapsed 0.0009224414825439453\n",
            "              precision    recall  f1-score   support\n",
            "\n",
            "           0       1.00      1.00      1.00        16\n",
            "           1       1.00      1.00      1.00        11\n",
            "           2       1.00      1.00      1.00         9\n",
            "\n",
            "    accuracy                           1.00        36\n",
            "   macro avg       1.00      1.00      1.00        36\n",
            "weighted avg       1.00      1.00      1.00        36\n",
            "\n"
          ]
        }
      ]
    }
  ]
}