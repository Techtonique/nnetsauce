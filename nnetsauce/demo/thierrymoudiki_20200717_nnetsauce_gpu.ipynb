{
  "nbformat": 4,
  "nbformat_minor": 0,
  "metadata": {
    "colab": {
      "name": "nnetsauce_gpu.ipynb",
      "provenance": [],
      "collapsed_sections": []
    },
    "kernelspec": {
      "name": "python3",
      "display_name": "Python 3"
    },
    "accelerator": "GPU"
  },
  "cells": [
    {
      "cell_type": "markdown",
      "metadata": {
        "id": "Dlet-F5Cv5-Z",
        "colab_type": "text"
      },
      "source": [
        "#0 - nnestauce using **GPUs** (work in progress)"
      ]
    },
    {
      "cell_type": "code",
      "metadata": {
        "id": "4WfJZFA3E7-Q",
        "colab_type": "code",
        "colab": {}
      },
      "source": [
        "!pip install nnetsauce --upgrade"
      ],
      "execution_count": null,
      "outputs": []
    },
    {
      "cell_type": "code",
      "metadata": {
        "id": "IZUibFC9FSX6",
        "colab_type": "code",
        "colab": {}
      },
      "source": [
        "import nnetsauce as ns"
      ],
      "execution_count": 1,
      "outputs": []
    },
    {
      "cell_type": "code",
      "metadata": {
        "id": "fsUlG-07QxAy",
        "colab_type": "code",
        "colab": {}
      },
      "source": [
        "import numpy as np\n",
        "from sklearn.datasets import load_breast_cancer, load_wine, load_iris, load_digits, make_classification\n",
        "from sklearn.model_selection import train_test_split\n",
        "from sklearn import metrics\n",
        "from time import time"
      ],
      "execution_count": 2,
      "outputs": []
    },
    {
      "cell_type": "markdown",
      "metadata": {
        "id": "n5pj3EE3WO9V",
        "colab_type": "text"
      },
      "source": [
        "# 1 - breast cancer data"
      ]
    },
    {
      "cell_type": "code",
      "metadata": {
        "id": "7YVb4tklQ4N5",
        "colab_type": "code",
        "colab": {
          "base_uri": "https://localhost:8080/",
          "height": 260
        },
        "outputId": "a4b1f32d-ad26-4ebb-e963-f5885d056d8c"
      },
      "source": [
        "# dataset no. 1 ---------- \n",
        "\n",
        "breast_cancer = load_breast_cancer()\n",
        "Z = breast_cancer.data\n",
        "t = breast_cancer.target\n",
        "np.random.seed(123)\n",
        "X_train, X_test, y_train, y_test = train_test_split(Z, t, test_size=0.2)\n",
        "\n",
        "print(Z.shape)\n",
        "\n",
        "fit_obj1 = ns.Ridge2MultitaskClassifier(n_hidden_features=np.int(9.83730469e+01), \n",
        "                                   dropout=4.31054687e-01, \n",
        "                                   n_clusters=np.int(1.71484375e+00),\n",
        "                                   lambda1=1.24023438e+01, lambda2=7.30263672e+03)\n",
        "\n",
        "start = time()\n",
        "fit_obj1.fit(X_train, y_train)\n",
        "print(time() - start)\n",
        "\n",
        "print(fit_obj1.score(X_test, y_test))\n",
        "print(fit_obj1.score(X_test, y_test, scoring=\"roc_auc\"))\n",
        "\n",
        "\n",
        "start = time()\n",
        "preds = fit_obj1.predict(X_test)\n",
        "print(time() - start)\n",
        "print(metrics.classification_report(preds, y_test))\n"
      ],
      "execution_count": 3,
      "outputs": [
        {
          "output_type": "stream",
          "text": [
            "(569, 30)\n",
            "0.0888526439666748\n",
            "0.9824561403508771\n",
            "0.9809555629802873\n",
            "0.0025320053100585938\n",
            "              precision    recall  f1-score   support\n",
            "\n",
            "           0       0.98      0.98      0.98        41\n",
            "           1       0.99      0.99      0.99        73\n",
            "\n",
            "    accuracy                           0.98       114\n",
            "   macro avg       0.98      0.98      0.98       114\n",
            "weighted avg       0.98      0.98      0.98       114\n",
            "\n"
          ],
          "name": "stdout"
        }
      ]
    },
    {
      "cell_type": "code",
      "metadata": {
        "id": "_PkYRTgzRJE0",
        "colab_type": "code",
        "colab": {
          "base_uri": "https://localhost:8080/",
          "height": 243
        },
        "outputId": "3e4ed798-deb7-4b20-f7b6-a09b7e088eb8"
      },
      "source": [
        "fit_obj2 = ns.Ridge2MultitaskClassifier(n_hidden_features=np.int(9.83730469e+01), \n",
        "                                   dropout=4.31054687e-01, \n",
        "                                   n_clusters=np.int(1.71484375e+00),\n",
        "                                   lambda1=1.24023438e+01, lambda2=7.30263672e+03, \n",
        "                                   backend=\"gpu\")\n",
        "\n",
        "start = time()\n",
        "fit_obj2.fit(X_train, y_train)\n",
        "print(time() - start)\n",
        "\n",
        "print(fit_obj2.score(X_test, y_test))\n",
        "print(fit_obj2.score(X_test, y_test, scoring=\"roc_auc\"))\n",
        "\n",
        "\n",
        "start = time()\n",
        "preds = fit_obj2.predict(X_test)\n",
        "print(time() - start)\n",
        "print(metrics.classification_report(preds, y_test))\n"
      ],
      "execution_count": 4,
      "outputs": [
        {
          "output_type": "stream",
          "text": [
            "7.404709100723267\n",
            "0.9824561403508771\n",
            "0.9809555629802873\n",
            "0.006656169891357422\n",
            "              precision    recall  f1-score   support\n",
            "\n",
            "           0       0.98      0.98      0.98        41\n",
            "           1       0.99      0.99      0.99        73\n",
            "\n",
            "    accuracy                           0.98       114\n",
            "   macro avg       0.98      0.98      0.98       114\n",
            "weighted avg       0.98      0.98      0.98       114\n",
            "\n"
          ],
          "name": "stdout"
        }
      ]
    },
    {
      "cell_type": "markdown",
      "metadata": {
        "id": "Gcfpjv5IWDwZ",
        "colab_type": "text"
      },
      "source": [
        "#2 - make_classification"
      ]
    },
    {
      "cell_type": "markdown",
      "metadata": {
        "id": "bTiUiFdywHzj",
        "colab_type": "text"
      },
      "source": [
        "Need more data..."
      ]
    },
    {
      "cell_type": "code",
      "metadata": {
        "id": "goT3wcOPV69J",
        "colab_type": "code",
        "colab": {}
      },
      "source": [
        "X, y = make_classification(n_samples=1000000, n_features=100, \n",
        "                                               random_state=7451)\n",
        "X_train, X_test, y_train, y_test = train_test_split(X, y, test_size=0.2, \n",
        "                                                    random_state=351452)\n"
      ],
      "execution_count": 5,
      "outputs": []
    },
    {
      "cell_type": "code",
      "metadata": {
        "id": "JyVPqROaWYh6",
        "colab_type": "code",
        "colab": {
          "base_uri": "https://localhost:8080/",
          "height": 208
        },
        "outputId": "9a9c8942-ce6d-49ef-caee-fbd0253eaf5b"
      },
      "source": [
        "fit_obj3 = ns.Ridge2MultitaskClassifier(n_hidden_features=100,\n",
        "                                  dropout=0.1, n_clusters=0)\n",
        "\n",
        "start = time()\n",
        "fit_obj3.fit(X_train, y_train)\n",
        "print(f\"Elapsed: {time() - start}\")\n",
        "\n",
        "print(fit_obj3.score(X_test, y_test))\n",
        "\n",
        "preds = fit_obj3.predict(X_test)\n",
        "print(metrics.classification_report(preds, y_test))\n"
      ],
      "execution_count": 6,
      "outputs": [
        {
          "output_type": "stream",
          "text": [
            "Elapsed: 16.528529405593872\n",
            "0.850815\n",
            "              precision    recall  f1-score   support\n",
            "\n",
            "           0       0.90      0.82      0.86    108999\n",
            "           1       0.81      0.89      0.84     91001\n",
            "\n",
            "    accuracy                           0.85    200000\n",
            "   macro avg       0.85      0.85      0.85    200000\n",
            "weighted avg       0.85      0.85      0.85    200000\n",
            "\n"
          ],
          "name": "stdout"
        }
      ]
    },
    {
      "cell_type": "code",
      "metadata": {
        "id": "fK9tVZrtWZuT",
        "colab_type": "code",
        "colab": {
          "base_uri": "https://localhost:8080/",
          "height": 208
        },
        "outputId": "aca29eac-fca9-4a3d-d32c-2efae7424dc8"
      },
      "source": [
        "fit_obj4 = ns.Ridge2MultitaskClassifier(n_hidden_features=100,\n",
        "                                  dropout=0.1, n_clusters=0, \n",
        "                                  backend=\"gpu\")\n",
        "\n",
        "start = time()\n",
        "fit_obj4.fit(X_train, y_train)\n",
        "print(f\"Elapsed: {time() - start}\")\n",
        "\n",
        "print(fit_obj4.score(X_test, y_test))\n",
        "\n",
        "preds = fit_obj4.predict(X_test)\n",
        "print(metrics.classification_report(preds, y_test))\n"
      ],
      "execution_count": 7,
      "outputs": [
        {
          "output_type": "stream",
          "text": [
            "Elapsed: 13.245971202850342\n",
            "0.850815\n",
            "              precision    recall  f1-score   support\n",
            "\n",
            "           0       0.90      0.82      0.86    108999\n",
            "           1       0.81      0.89      0.84     91001\n",
            "\n",
            "    accuracy                           0.85    200000\n",
            "   macro avg       0.85      0.85      0.85    200000\n",
            "weighted avg       0.85      0.85      0.85    200000\n",
            "\n"
          ],
          "name": "stdout"
        }
      ]
    },
    {
      "cell_type": "code",
      "metadata": {
        "id": "Lz8niFT0haxV",
        "colab_type": "code",
        "colab": {
          "base_uri": "https://localhost:8080/",
          "height": 34
        },
        "outputId": "a8e44f20-9e13-4d10-bb38-23f7fc64a621"
      },
      "source": [
        "%timeit -n10 fit_obj3.fit(X_train, y_train) #cpu"
      ],
      "execution_count": 8,
      "outputs": [
        {
          "output_type": "stream",
          "text": [
            "10 loops, best of 3: 15.4 s per loop\n"
          ],
          "name": "stdout"
        }
      ]
    },
    {
      "cell_type": "code",
      "metadata": {
        "id": "v1UfkIS9hew2",
        "colab_type": "code",
        "colab": {
          "base_uri": "https://localhost:8080/",
          "height": 34
        },
        "outputId": "a83f34d3-c048-4a41-d1f0-6aa80e290acc"
      },
      "source": [
        "%timeit -n10 fit_obj4.fit(X_train, y_train) #gpu"
      ],
      "execution_count": 9,
      "outputs": [
        {
          "output_type": "stream",
          "text": [
            "10 loops, best of 3: 10 s per loop\n"
          ],
          "name": "stdout"
        }
      ]
    }
  ]
}