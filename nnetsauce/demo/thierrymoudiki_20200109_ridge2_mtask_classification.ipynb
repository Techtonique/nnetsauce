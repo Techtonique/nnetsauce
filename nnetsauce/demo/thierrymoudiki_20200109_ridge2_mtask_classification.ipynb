{
  "nbformat": 4,
  "nbformat_minor": 0,
  "metadata": {
    "colab": {
      "name": "ridge2_mtask_classifier.ipynb",
      "provenance": [],
      "collapsed_sections": []
    },
    "kernelspec": {
      "name": "python3",
      "display_name": "Python 3"
    }
  },
  "cells": [
    {
      "cell_type": "markdown",
      "metadata": {
        "id": "3yzVZcFVW4J3",
        "colab_type": "text"
      },
      "source": [
        "# `nnetsauce`'s Ridge2 Multitask classifier\n",
        "\n",
        "This notebook demonstrates the use of `nnetsauce`'s Ridge2 Multitask classifier. It's a quasi-randomized network model for classification with 2 shrinkage parameters (one on input data, another one on the hidden layer). In this model, a multi-class classification problem is turned into multiple two-class problems."
      ]
    },
    {
      "cell_type": "code",
      "metadata": {
        "id": "I2BYGMHm_YT4",
        "colab_type": "code",
        "colab": {}
      },
      "source": [
        "pip install git+https://github.com/thierrymoudiki/nnetsauce.git"
      ],
      "execution_count": 0,
      "outputs": []
    },
    {
      "cell_type": "code",
      "metadata": {
        "id": "VSpcAAgc_Hyp",
        "colab_type": "code",
        "colab": {}
      },
      "source": [
        "import nnetsauce as ns\n",
        "import numpy as np\n",
        "from sklearn.datasets import load_breast_cancer, load_wine, load_iris, load_digits, make_classification\n",
        "from sklearn.model_selection import train_test_split\n",
        "from sklearn import metrics\n",
        "from time import time"
      ],
      "execution_count": 0,
      "outputs": []
    },
    {
      "cell_type": "code",
      "metadata": {
        "id": "7cB4SMlzq-z2",
        "colab_type": "code",
        "outputId": "a69936aa-b29c-4c52-88b8-c34b13b1646f",
        "colab": {
          "base_uri": "https://localhost:8080/",
          "height": 260
        }
      },
      "source": [
        "# dataset no. 1 ---------- \n",
        "\n",
        "breast_cancer = load_breast_cancer()\n",
        "Z = breast_cancer.data\n",
        "t = breast_cancer.target\n",
        "np.random.seed(123)\n",
        "X_train, X_test, y_train, y_test = train_test_split(Z, t, test_size=0.2)\n",
        "\n",
        "print(Z.shape)\n",
        " \n",
        "fit_obj = ns.Ridge2MultitaskClassifier(n_hidden_features=np.int(9.83730469e+01), \n",
        "                                   dropout=4.31054687e-01, \n",
        "                                   n_clusters=np.int(1.71484375e+00),\n",
        "                                   lambda1=1.24023438e+01, lambda2=7.30263672e+03)\n",
        "\n",
        "start = time()\n",
        "fit_obj.fit(X_train, y_train)\n",
        "print(time() - start)\n",
        "\n",
        "print(fit_obj.score(X_test, y_test))\n",
        "print(fit_obj.score(X_test, y_test, scoring=\"roc_auc\"))\n",
        "\n",
        "\n",
        "start = time()\n",
        "preds = fit_obj.predict(X_test)\n",
        "print(time() - start)\n",
        "print(metrics.classification_report(preds, y_test))\n"
      ],
      "execution_count": 32,
      "outputs": [
        {
          "output_type": "stream",
          "text": [
            "(569, 30)\n",
            "0.04428410530090332\n",
            "0.9824561403508771\n",
            "0.9809555629802873\n",
            "0.0019502639770507812\n",
            "              precision    recall  f1-score   support\n",
            "\n",
            "           0       0.98      0.98      0.98        41\n",
            "           1       0.99      0.99      0.99        73\n",
            "\n",
            "    accuracy                           0.98       114\n",
            "   macro avg       0.98      0.98      0.98       114\n",
            "weighted avg       0.98      0.98      0.98       114\n",
            "\n"
          ],
          "name": "stdout"
        }
      ]
    },
    {
      "cell_type": "code",
      "metadata": {
        "id": "JnfY88AkrBNi",
        "colab_type": "code",
        "outputId": "72aac767-04be-4e69-ff9a-4872ba11c8bd",
        "colab": {
          "base_uri": "https://localhost:8080/",
          "height": 225
        }
      },
      "source": [
        "# dataset no. 2 ----------\n",
        "\n",
        "wine = load_wine()\n",
        "Z = wine.data\n",
        "t = wine.target\n",
        "np.random.seed(123)\n",
        "Z_train, Z_test, y_train, y_test = train_test_split(Z, t, test_size=0.2)\n",
        "\n",
        "fit_obj = ns.Ridge2MultitaskClassifier(n_hidden_features=15,\n",
        "                                  dropout=0.1, n_clusters=3, \n",
        "                                  type_clust=\"gmm\")\n",
        "\n",
        "start = time()\n",
        "fit_obj.fit(Z_train, y_train)\n",
        "print(time() - start)\n",
        "\n",
        "print(fit_obj.score(Z_test, y_test))\n",
        "\n",
        "preds = fit_obj.predict(Z_test)\n",
        "print(metrics.classification_report(preds, y_test))"
      ],
      "execution_count": 33,
      "outputs": [
        {
          "output_type": "stream",
          "text": [
            "0.014364957809448242\n",
            "1.0\n",
            "              precision    recall  f1-score   support\n",
            "\n",
            "           0       1.00      1.00      1.00         8\n",
            "           1       1.00      1.00      1.00        11\n",
            "           2       1.00      1.00      1.00        17\n",
            "\n",
            "    accuracy                           1.00        36\n",
            "   macro avg       1.00      1.00      1.00        36\n",
            "weighted avg       1.00      1.00      1.00        36\n",
            "\n"
          ],
          "name": "stdout"
        }
      ]
    },
    {
      "cell_type": "code",
      "metadata": {
        "id": "wnfLXUAerDvs",
        "colab_type": "code",
        "outputId": "e63e159b-e028-4079-8ab0-5734b6429a0f",
        "colab": {
          "base_uri": "https://localhost:8080/",
          "height": 225
        }
      },
      "source": [
        "# dataset no. 3 ----------\n",
        "\n",
        "iris = load_iris()\n",
        "Z = iris.data\n",
        "t = iris.target\n",
        "np.random.seed(123)\n",
        "Z_train, Z_test, y_train, y_test = train_test_split(Z, t, test_size=0.2)\n",
        "\n",
        "\n",
        "fit_obj = ns.Ridge2MultitaskClassifier(n_hidden_features=10,\n",
        "                                  dropout=0.1, n_clusters=2)\n",
        "\n",
        "start = time()\n",
        "fit_obj.fit(Z_train, y_train)\n",
        "print(time() - start)\n",
        "\n",
        "print(fit_obj.score(Z_test, y_test))\n",
        "\n",
        "preds = fit_obj.predict(Z_test)\n",
        "print(metrics.classification_report(preds, y_test))"
      ],
      "execution_count": 34,
      "outputs": [
        {
          "output_type": "stream",
          "text": [
            "0.030297279357910156\n",
            "0.9666666666666667\n",
            "              precision    recall  f1-score   support\n",
            "\n",
            "           0       1.00      1.00      1.00        13\n",
            "           1       1.00      0.86      0.92         7\n",
            "           2       0.91      1.00      0.95        10\n",
            "\n",
            "    accuracy                           0.97        30\n",
            "   macro avg       0.97      0.95      0.96        30\n",
            "weighted avg       0.97      0.97      0.97        30\n",
            "\n"
          ],
          "name": "stdout"
        }
      ]
    },
    {
      "cell_type": "code",
      "metadata": {
        "id": "opUwVh8FOoAv",
        "colab_type": "code",
        "colab": {
          "base_uri": "https://localhost:8080/",
          "height": 364
        },
        "outputId": "7766faa7-cf92-436a-bf9a-341d268cfdc9"
      },
      "source": [
        "# dataset no. 4 ----------\n",
        "\n",
        "digits = load_digits()\n",
        "X = digits.data\n",
        "y = digits.target\n",
        "X_train, X_test, y_train, y_test = train_test_split(X, y, test_size=0.2,\n",
        "                                                    random_state=123)\n",
        "\n",
        "fit_obj = ns.Ridge2MultitaskClassifier(n_hidden_features=25,\n",
        "                                  dropout=0.1, n_clusters=3, \n",
        "                                  type_clust=\"gmm\")\n",
        "\n",
        "start = time()\n",
        "fit_obj.fit(X_train, y_train)\n",
        "print(time() - start)\n",
        "print(fit_obj.score(X_test, y_test))\n",
        "\n",
        "start = time()\n",
        "preds = fit_obj.predict(X_test)\n",
        "print(time() - start)\n",
        "print(metrics.classification_report(preds, y_test))\n"
      ],
      "execution_count": 35,
      "outputs": [
        {
          "output_type": "stream",
          "text": [
            "0.26060009002685547\n",
            "0.9361111111111111\n",
            "0.0030503273010253906\n",
            "              precision    recall  f1-score   support\n",
            "\n",
            "           0       1.00      0.97      0.99        40\n",
            "           1       1.00      0.85      0.92        40\n",
            "           2       0.92      0.97      0.94        34\n",
            "           3       0.94      0.89      0.91        35\n",
            "           4       0.95      1.00      0.98        40\n",
            "           5       0.97      1.00      0.99        36\n",
            "           6       0.95      0.95      0.95        43\n",
            "           7       1.00      0.89      0.94        35\n",
            "           8       0.68      0.96      0.79        26\n",
            "           9       0.96      0.87      0.92        31\n",
            "\n",
            "    accuracy                           0.94       360\n",
            "   macro avg       0.94      0.94      0.93       360\n",
            "weighted avg       0.95      0.94      0.94       360\n",
            "\n"
          ],
          "name": "stdout"
        }
      ]
    }
  ]
}