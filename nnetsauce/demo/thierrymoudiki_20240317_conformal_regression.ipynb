{
  "cells": [
    {
      "cell_type": "markdown",
      "metadata": {
        "id": "zIx_mddzWMTd"
      },
      "source": [
        "# **1 - Installation**"
      ]
    },
    {
      "cell_type": "code",
      "execution_count": 18,
      "metadata": {
        "colab": {
          "base_uri": "https://localhost:8080/"
        },
        "id": "i_wSjswGU8aI",
        "outputId": "56226a89-4841-4535-9222-906551c73506"
      },
      "outputs": [
        {
          "name": "stdout",
          "output_type": "stream",
          "text": [
            "Processing /workspaces/codespaces-blank/nnetsauce\n",
            "  Installing build dependencies ... \u001b[?25ldone\n",
            "\u001b[?25h  Getting requirements to build wheel ... \u001b[?25ldone\n",
            "\u001b[?25h  Installing backend dependencies ... \u001b[?25ldone\n",
            "\u001b[?25h  Preparing metadata (pyproject.toml) ... \u001b[?25ldone\n",
            "\u001b[?25hRequirement already satisfied: joblib in /home/codespace/.local/lib/python3.10/site-packages (from nnetsauce==0.18.0) (1.3.2)\n",
            "Requirement already satisfied: matplotlib in /home/codespace/.local/lib/python3.10/site-packages (from nnetsauce==0.18.0) (3.8.2)\n",
            "Requirement already satisfied: numpy in /home/codespace/.local/lib/python3.10/site-packages (from nnetsauce==0.18.0) (1.26.4)\n",
            "Requirement already satisfied: pandas in /home/codespace/.local/lib/python3.10/site-packages (from nnetsauce==0.18.0) (2.2.0)\n",
            "Requirement already satisfied: requests in /home/codespace/.local/lib/python3.10/site-packages (from nnetsauce==0.18.0) (2.31.0)\n",
            "Requirement already satisfied: scipy in /home/codespace/.local/lib/python3.10/site-packages (from nnetsauce==0.18.0) (1.12.0)\n",
            "Requirement already satisfied: scikit-learn in /home/codespace/.local/lib/python3.10/site-packages (from nnetsauce==0.18.0) (1.4.0)\n",
            "Requirement already satisfied: threadpoolctl in /home/codespace/.local/lib/python3.10/site-packages (from nnetsauce==0.18.0) (3.2.0)\n",
            "Requirement already satisfied: tqdm in /usr/local/python/3.10.13/lib/python3.10/site-packages (from nnetsauce==0.18.0) (4.66.2)\n",
            "Requirement already satisfied: jax in /usr/local/python/3.10.13/lib/python3.10/site-packages (from nnetsauce==0.18.0) (0.4.25)\n",
            "Requirement already satisfied: jaxlib in /usr/local/python/3.10.13/lib/python3.10/site-packages (from nnetsauce==0.18.0) (0.4.25)\n",
            "Requirement already satisfied: ml-dtypes>=0.2.0 in /usr/local/python/3.10.13/lib/python3.10/site-packages (from jax->nnetsauce==0.18.0) (0.3.2)\n",
            "Requirement already satisfied: opt-einsum in /usr/local/python/3.10.13/lib/python3.10/site-packages (from jax->nnetsauce==0.18.0) (3.3.0)\n",
            "Requirement already satisfied: contourpy>=1.0.1 in /home/codespace/.local/lib/python3.10/site-packages (from matplotlib->nnetsauce==0.18.0) (1.2.0)\n",
            "Requirement already satisfied: cycler>=0.10 in /home/codespace/.local/lib/python3.10/site-packages (from matplotlib->nnetsauce==0.18.0) (0.12.1)\n",
            "Requirement already satisfied: fonttools>=4.22.0 in /home/codespace/.local/lib/python3.10/site-packages (from matplotlib->nnetsauce==0.18.0) (4.48.1)\n",
            "Requirement already satisfied: kiwisolver>=1.3.1 in /home/codespace/.local/lib/python3.10/site-packages (from matplotlib->nnetsauce==0.18.0) (1.4.5)\n",
            "Requirement already satisfied: packaging>=20.0 in /home/codespace/.local/lib/python3.10/site-packages (from matplotlib->nnetsauce==0.18.0) (23.2)\n",
            "Requirement already satisfied: pillow>=8 in /home/codespace/.local/lib/python3.10/site-packages (from matplotlib->nnetsauce==0.18.0) (10.2.0)\n",
            "Requirement already satisfied: pyparsing>=2.3.1 in /home/codespace/.local/lib/python3.10/site-packages (from matplotlib->nnetsauce==0.18.0) (3.1.1)\n",
            "Requirement already satisfied: python-dateutil>=2.7 in /home/codespace/.local/lib/python3.10/site-packages (from matplotlib->nnetsauce==0.18.0) (2.8.2)\n",
            "Requirement already satisfied: pytz>=2020.1 in /home/codespace/.local/lib/python3.10/site-packages (from pandas->nnetsauce==0.18.0) (2024.1)\n",
            "Requirement already satisfied: tzdata>=2022.7 in /home/codespace/.local/lib/python3.10/site-packages (from pandas->nnetsauce==0.18.0) (2023.4)\n",
            "Requirement already satisfied: charset-normalizer<4,>=2 in /home/codespace/.local/lib/python3.10/site-packages (from requests->nnetsauce==0.18.0) (3.3.2)\n",
            "Requirement already satisfied: idna<4,>=2.5 in /home/codespace/.local/lib/python3.10/site-packages (from requests->nnetsauce==0.18.0) (3.6)\n",
            "Requirement already satisfied: urllib3<3,>=1.21.1 in /usr/local/python/3.10.13/lib/python3.10/site-packages (from requests->nnetsauce==0.18.0) (2.0.7)\n",
            "Requirement already satisfied: certifi>=2017.4.17 in /home/codespace/.local/lib/python3.10/site-packages (from requests->nnetsauce==0.18.0) (2024.2.2)\n",
            "Requirement already satisfied: six>=1.5 in /home/codespace/.local/lib/python3.10/site-packages (from python-dateutil>=2.7->matplotlib->nnetsauce==0.18.0) (1.16.0)\n",
            "Building wheels for collected packages: nnetsauce\n",
            "  Building wheel for nnetsauce (pyproject.toml) ... \u001b[?25ldone\n",
            "\u001b[?25h  Created wheel for nnetsauce: filename=nnetsauce-0.18.0-py2.py3-none-any.whl size=164335 sha256=7cd43291880e64d0fabbdaf6be5163df08e775fa16d3bd64328f204658a8c610\n",
            "  Stored in directory: /tmp/pip-ephem-wheel-cache-mh85jhpn/wheels/4e/ea/ca/cbcf65127122d720fabf8aac6bbf53e047e9a85cf8383d27f1\n",
            "Successfully built nnetsauce\n",
            "Installing collected packages: nnetsauce\n",
            "  Attempting uninstall: nnetsauce\n",
            "    Found existing installation: nnetsauce 0.18.0\n",
            "    Uninstalling nnetsauce-0.18.0:\n",
            "      Successfully uninstalled nnetsauce-0.18.0\n",
            "Successfully installed nnetsauce-0.18.0\n"
          ]
        }
      ],
      "source": [
        "!pip install ../.. --upgrade --no-cache-dir"
      ]
    },
    {
      "cell_type": "code",
      "execution_count": 19,
      "metadata": {},
      "outputs": [],
      "source": [
        "import os \n",
        "import nnetsauce as ns \n",
        "import numpy as np \n",
        "from sklearn.datasets import load_diabetes, fetch_california_housing\n",
        "from sklearn.model_selection import train_test_split\n",
        "from sklearn.linear_model import Ridge\n",
        "from sklearn.ensemble import ExtraTreesRegressor, RandomForestRegressor\n",
        "from time import time "
      ]
    },
    {
      "cell_type": "code",
      "execution_count": 25,
      "metadata": {},
      "outputs": [
        {
          "name": "stdout",
          "output_type": "stream",
          "text": [
            "X_train.shape(): (14448, 8)\n",
            "X_test.shape(): (6192, 8)\n",
            "Elapsed: 1.4486358165740967s\n"
          ]
        },
        {
          "name": "stderr",
          "output_type": "stream",
          "text": [
            "100%|██████████| 100/100 [00:00<00:00, 61365.09it/s]"
          ]
        },
        {
          "name": "stdout",
          "output_type": "stream",
          "text": [
            "self.sims_.shape: (6192, 100)\n",
            "DescribeResult(mean=array([3.2360117 , 1.24578213, 4.95591427, ..., 0.66750337, 1.56394379,\n",
            "       0.56858288]), sims=array([[ 3.10472714e+00,  2.43864714e+00,  2.23507714e+00, ...,\n",
            "         2.64397714e+00,  3.18869714e+00,  3.06951714e+00],\n",
            "       [ 1.60569624e+00,  1.06447624e+00,  1.79409624e+00, ...,\n",
            "         1.60569624e+00, -9.81846579e-02,  1.09772624e+00],\n",
            "       [ 5.27418614e+00,  5.02272614e+00,  5.00947614e+00, ...,\n",
            "         5.95603614e+00,  4.59848614e+00,  4.94088614e+00],\n",
            "       ...,\n",
            "       [ 6.10926242e-01,  3.80596242e-01,  9.11795842e-01, ...,\n",
            "        -7.45705579e-02,  8.58416242e-01,  1.34840124e+00],\n",
            "       [ 1.44491624e+00,  1.65474624e+00,  1.10092604e+00, ...,\n",
            "         4.97054742e-01,  1.78303624e+00,  1.54335624e+00],\n",
            "       [ 3.76614210e-03,  6.72984842e-01,  4.78606242e-01, ...,\n",
            "        -4.77314558e-01,  3.26246242e-01,  3.03476242e-01]]), lower=array([ 2.2380006 , -0.0921739 ,  2.48888988, ..., -2.23056179,\n",
            "        0.49958544, -1.2053305 ]), upper=array([5.02326077, 2.54689948, 6.38181368, ..., 2.51018531, 2.84603863,\n",
            "       1.48789552]))\n",
            "\n",
            " coverage_rate: 0.9794896640826873 \n",
            "\n"
          ]
        },
        {
          "name": "stderr",
          "output_type": "stream",
          "text": [
            "\n"
          ]
        }
      ],
      "source": [
        "data = fetch_california_housing()\n",
        "X = data.data\n",
        "y= data.target\n",
        "X_train, X_test, y_train, y_test = train_test_split(X, y, test_size = .3, random_state = 213)\n",
        "print(f\"X_train.shape(): {X_train.shape}\")\n",
        "print(f\"X_test.shape(): {X_test.shape}\")\n",
        "\n",
        "regr = ns.PredictionInterval(obj=ExtraTreesRegressor(),\n",
        "                             type_pi=\"bootstrap\",\n",
        "                             replications=100, \n",
        "                             level=95,\n",
        "                             seed=312)\n",
        "start = time()\n",
        "regr.fit(X_train, y_train)\n",
        "print(f\"Elapsed: {time() - start}s\")\n",
        "preds = regr.predict(X_test)\n",
        "print(preds)\n",
        "print(f\"\\n coverage_rate: {np.mean((preds[2]<=y_test)*(preds[3]>=y_test))} \\n\")"
      ]
    },
    {
      "cell_type": "code",
      "execution_count": 26,
      "metadata": {},
      "outputs": [],
      "source": [
        "import warnings\n",
        "\n",
        "import matplotlib\n",
        "matplotlib.use('Agg')\n",
        "import matplotlib.pyplot as plt\n",
        "\n",
        "import numpy as np\n",
        "\n",
        "\n",
        "split_color = 'green'\n",
        "local_color = 'gray'\n",
        "\n",
        "np.random.seed(1)\n",
        "\n",
        "def plot_func(x,\n",
        "              y,\n",
        "              y_u=None,\n",
        "              y_l=None,\n",
        "              pred=None,\n",
        "              shade_color=\"\",\n",
        "              method_name=\"\",\n",
        "              title=\"\"):\n",
        "\n",
        "    fig = plt.figure()\n",
        "\n",
        "    plt.plot(x, y, 'k.', alpha=.3, markersize=10,\n",
        "             fillstyle='full', label=u'Test set observations')\n",
        "\n",
        "    if (y_u is not None) and (y_l is not None):\n",
        "        plt.fill(np.concatenate([x, x[::-1]]),\n",
        "                 np.concatenate([y_u, y_l[::-1]]),\n",
        "                 alpha=.3, fc=shade_color, ec='None',\n",
        "                 label = method_name + ' Prediction interval')\n",
        "\n",
        "    if pred is not None:\n",
        "        plt.plot(x, pred, 'k--', lw=2, alpha=0.9,\n",
        "                 label=u'Predicted value')\n",
        "\n",
        "    #plt.ylim([-2.5, 7])\n",
        "    plt.xlabel('$X$')\n",
        "    plt.ylabel('$Y$')\n",
        "    plt.legend(loc='upper right')\n",
        "    plt.title(title)\n",
        "\n",
        "    plt.show()"
      ]
    },
    {
      "cell_type": "code",
      "execution_count": 27,
      "metadata": {},
      "outputs": [],
      "source": [
        "max_idx = 50\n",
        "plot_func(x = range(max_idx),\n",
        "          y = y_test[0:max_idx],\n",
        "          y_u = preds[3][0:max_idx],\n",
        "          y_l = preds[2][0:max_idx],\n",
        "          pred = preds[0][0:max_idx],\n",
        "          shade_color=split_color,\n",
        "          title = f\"Split conformal ({max_idx} first points in test set)\")"
      ]
    }
  ],
  "metadata": {
    "colab": {
      "provenance": []
    },
    "kernelspec": {
      "display_name": "Python 3",
      "name": "python3"
    },
    "language_info": {
      "codemirror_mode": {
        "name": "ipython",
        "version": 3
      },
      "file_extension": ".py",
      "mimetype": "text/x-python",
      "name": "python",
      "nbconvert_exporter": "python",
      "pygments_lexer": "ipython3",
      "version": "3.10.13"
    }
  },
  "nbformat": 4,
  "nbformat_minor": 0
}
