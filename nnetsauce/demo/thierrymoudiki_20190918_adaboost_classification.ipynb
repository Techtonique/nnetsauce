{
 "cells": [
  {
   "cell_type": "markdown",
   "metadata": {
    "colab_type": "text",
    "id": "pUSgyoy5XVy_"
   },
   "source": [
    "This notebook __demonstrates the use of [`nnetsauce`](https://github.com/thierrymoudiki/nnetsauce)'s Adaboost classifier__ on two popular (and public) datasets. `nnetsauce`'s implementation of this algorithm has __some specificities__, as it will be shown in the sequel of this notebook. It is worth noting that the __current implementation is 100% in Python__. \n",
    "\n",
    "We start by installing the package's development version from Github (use the command line):"
   ]
  },
  {
   "cell_type": "code",
   "execution_count": 0,
   "metadata": {
    "colab": {},
    "colab_type": "code",
    "collapsed": true,
    "id": "lcVruPd3sZxm"
   },
   "outputs": [],
   "source": [
    "pip install git+https://github.com/thierrymoudiki/nnetsauce.git"
   ]
  },
  {
   "cell_type": "markdown",
   "metadata": {
    "colab_type": "text",
    "id": "vAsrdnyDX1q1"
   },
   "source": [
    "Next, we __import the packages necessary for the job__, along with `nnetsauce` (namely `numpy` and `sklearn`, nothing weird!):"
   ]
  },
  {
   "cell_type": "code",
   "execution_count": 0,
   "metadata": {
    "colab": {},
    "colab_type": "code",
    "collapsed": true,
    "id": "H4lTsROEs2vn"
   },
   "outputs": [],
   "source": [
    "import nnetsauce as ns\n",
    "import numpy as np\n",
    "from sklearn.datasets import load_breast_cancer, load_wine, load_iris\n",
    "from sklearn.linear_model import LogisticRegression\n",
    "from sklearn.model_selection import train_test_split\n",
    "from sklearn import metrics\n"
   ]
  },
  {
   "cell_type": "markdown",
   "metadata": {
    "colab_type": "text",
    "id": "oKgD8Da-YDIZ"
   },
   "source": [
    "Our __first example__ is based on `wisconsin breast cancer` dataset from [UCI (University of California at Irvine) repository](http://archive.ics.uci.edu/ml/index.php), and available in `sklearn`. More details about the content of these datasets can be found [here](http://archive.ics.uci.edu/ml/datasets/Breast+Cancer+Wisconsin+%28Diagnostic%29) and [here](http://archive.ics.uci.edu/ml/datasets/Wine).\n",
    "\n",
    "`wisconsin breast cancer` dataset is splitted into a __training set__ (for training the model to pattern recognition) and __test set__ (for model validation):"
   ]
  },
  {
   "cell_type": "code",
   "execution_count": 0,
   "metadata": {
    "colab": {},
    "colab_type": "code",
    "collapsed": true,
    "id": "SkRVrEKBaslV"
   },
   "outputs": [],
   "source": [
    "# Import dataset from sklearn\n",
    "breast_cancer = load_breast_cancer()\n",
    "X = breast_cancer.data\n",
    "y = breast_cancer.target\n",
    "X_train, X_test, y_train, y_test = train_test_split(X, y, test_size=0.2, \n",
    "                                                    random_state=123)"
   ]
  },
  {
   "cell_type": "markdown",
   "metadata": {
    "colab_type": "text",
    "id": "lYBFb4F-at1M"
   },
   "source": [
    "The first version of Adaboost that we apply is __`SAMME.R`__, also known as Real Adaboost. `SAMME` stands for Stagewise Additive Modeling using a Multi-class Exponential loss function, and  [`nnetsauce`](https://github.com/thierrymoudiki/nnetsauce)'s implementation of this algorithm has some __specificities__:\n",
    "- The base learners are quasi-randomized (__deterministic__) networks\n",
    "- At each boosting iteration, a fraction of the datasets' rows or columns can be randomly chosen to increase diversity of the ensemble  "
   ]
  },
  {
   "cell_type": "code",
   "execution_count": 0,
   "metadata": {
    "colab": {},
    "colab_type": "code",
    "collapsed": true,
    "id": "nMBTcikts61e"
   },
   "outputs": [],
   "source": [
    "# SAMME.R\n",
    "\n",
    "# base learner\n",
    "clf = LogisticRegression(solver='liblinear', multi_class = 'ovr', \n",
    "                         random_state=123)\n",
    "\n",
    "# nnetsauce's Adaboost\n",
    "fit_obj = ns.AdaBoostClassifier(clf, \n",
    "                                n_hidden_features=11, \n",
    "                                direct_link=True,\n",
    "                                n_estimators=250, learning_rate=0.01126343,\n",
    "                                col_sample=0.72684326, row_sample=0.86429443,\n",
    "                                dropout=0.63078613, n_clusters=2,\n",
    "                                type_clust=\"gmm\",\n",
    "                                verbose=1, seed = 123, \n",
    "                                method=\"SAMME.R\")  \n"
   ]
  },
  {
   "cell_type": "markdown",
   "metadata": {
    "colab_type": "text",
    "id": "UN07dVFWdxGS"
   },
   "source": [
    "The base learner, `clf`, is a logistic regression model. __But it could be anything__, including decision trees. `fit_obj` is a `nnetsauce` object that augments `clf` with a hidden layer, and typically makes its predictions nonlinear. \n",
    "\n",
    "`n_hidden_features` is the number of nodes in the hidden layer, and `dropout` randomly drops some of these nodes at each boosting iteration. `col_sample` and `row_sample` specify the __fraction of columns and rows__ chosen for fitting the base learner at each  iteration. With `n_clusters`, the data can be clustered into homogeneous groups before model training.\n",
    "\n",
    "__`nnetsauce`'s Adaboost can now be fitted__; `250` iterations are used:"
   ]
  },
  {
   "cell_type": "code",
   "execution_count": 0,
   "metadata": {
    "colab": {},
    "colab_type": "code",
    "collapsed": true,
    "id": "uUOkbx8Ndcdp"
   },
   "outputs": [],
   "source": [
    "# Fitting the model to training set \n",
    "fit_obj.fit(X_train, y_train)  \n",
    "\n",
    "# Obtain model's accuracy on test set\n",
    "print(fit_obj.score(X_test, y_test))"
   ]
  },
  {
   "cell_type": "markdown",
   "metadata": {
    "colab_type": "text",
    "id": "eWAfkLL2hps9"
   },
   "source": [
    "With the following graph, we can __visualize how well our data have been classified__ by `nnetsauce`'s Adaboost."
   ]
  },
  {
   "cell_type": "code",
   "execution_count": 35,
   "metadata": {
    "colab": {
     "base_uri": "https://localhost:8080/",
     "height": 308
    },
    "colab_type": "code",
    "id": "P1-4JlqNhNd1",
    "outputId": "981a925c-3478-4d3d-9354-a49cd49e11c4"
   },
   "outputs": [
    {
     "name": "stdout",
     "output_type": "stream",
     "text": [
      "250/250 [██████████████████████████████] - 0s 906us/step\n"
     ]
    },
    {
     "data": {
      "image/png": "[encoded data removed]",
      "text/plain": [
       "<Figure size 432x288 with 1 Axes>"
      ]
     },
     "metadata": {
      "tags": []
     },
     "output_type": "display_data"
    }
   ],
   "source": [
    "import matplotlib.pyplot as plt\n",
    "import seaborn as sns; sns.set()\n",
    "from sklearn.metrics import confusion_matrix\n",
    "preds = fit_obj.predict(X_test)\n",
    "mat = confusion_matrix(y_test, preds)\n",
    "sns.heatmap(mat.T, square=True, annot=True, fmt='d', cbar=False)\n",
    "plt.xlabel('true label')\n",
    "plt.ylabel('predicted label');\n",
    "\n"
   ]
  },
  {
   "cell_type": "markdown",
   "metadata": {
    "colab_type": "text",
    "id": "b6Ubm2pWr2zI"
   },
   "source": [
    "`1` denotes a malignant tumor, and `0`, its absence. For the 3 (out of 114) patients remaining missclassified, it could be interesting to change the model `sample_weight`s, in order to give them more weight in the learning procedure. Then, see how well the result evolves;  depending on which decision we consider being the worst (or best). But note that: \n",
    "- __The model will never be perfect__ (plus, the labels are based on human-eyed labelling ;) ). \n",
    "- Patients are not labelled. _Label_ is just a generic term in classification, for all types of classification models and data. "
   ]
  },
  {
   "cell_type": "markdown",
   "metadata": {
    "colab_type": "text",
    "id": "X58rk7YJZYMt"
   },
   "source": [
    "Our __second example__ is based on `wine` dataset from [UCI repository](http://archive.ics.uci.edu/ml/index.php). This dataset contains information about wines' quality, depending on their characteristics. `SAMME` is now used instead of `SAMME.R`. This second algorithm seems to require more iterations to converge than `SAMME.R` (but you, tell me from your experience!):"
   ]
  },
  {
   "cell_type": "code",
   "execution_count": 0,
   "metadata": {
    "colab": {},
    "colab_type": "code",
    "collapsed": true,
    "id": "4j0gnP_JuUcV"
   },
   "outputs": [],
   "source": [
    "# load dataset\n",
    "wine = load_wine()\n",
    "Z = wine.data\n",
    "t = wine.target\n",
    "np.random.seed(123)\n",
    "Z_train, Z_test, y_train, y_test = train_test_split(Z, t, test_size=0.2)\n",
    "\n",
    "\n",
    "# SAMME\n",
    "clf = LogisticRegression(solver='liblinear', multi_class = 'ovr', \n",
    "                         random_state=123)\n",
    "fit_obj = ns.AdaBoostClassifier(clf, \n",
    "                                n_hidden_features=np.int(8.21154785e+01), \n",
    "                                direct_link=True,\n",
    "                                n_estimators=1000, learning_rate=2.96252441e-02,\n",
    "                                col_sample=4.22766113e-01, row_sample=7.87268066e-01,\n",
    "                                dropout=1.56909180e-01, n_clusters=3,\n",
    "                                type_clust=\"gmm\",\n",
    "                                verbose=1, seed = 123, \n",
    "                                method=\"SAMME\") \n",
    " \n",
    " # Fitting the model to training set\n",
    "fit_obj.fit(Z_train, y_train)  "
   ]
  },
  {
   "cell_type": "markdown",
   "metadata": {
    "colab_type": "text",
    "id": "kY9JYvuCkG9T"
   },
   "source": [
    "After fitting the model, we can obtain some statistics (`accuracy`, `precision`, `recall`, `f1-score`; every `nnetsauce` model is 100% `sklearn`-compatible) about it's quality:"
   ]
  },
  {
   "cell_type": "code",
   "execution_count": 0,
   "metadata": {
    "colab": {},
    "colab_type": "code",
    "collapsed": true,
    "id": "cNaCjOYIjzdJ"
   },
   "outputs": [],
   "source": [
    "preds = fit_obj.predict(Z_test)     \n",
    "print(metrics.classification_report(preds, y_test))    "
   ]
  }
 ],
 "metadata": {
  "colab": {
   "collapsed_sections": [],
   "name": "adaboost_classification.ipynb",
   "provenance": [],
   "version": "0.3.2"
  },
  "kernelspec": {
   "display_name": "Python 3",
   "language": "python",
   "name": "python3"
  },
  "language_info": {
   "codemirror_mode": {
    "name": "ipython",
    "version": 3
   },
   "file_extension": ".py",
   "mimetype": "text/x-python",
   "name": "python",
   "nbconvert_exporter": "python",
   "pygments_lexer": "ipython3",
   "version": "3.6.3"
  }
 },
 "nbformat": 4,
 "nbformat_minor": 1
}
