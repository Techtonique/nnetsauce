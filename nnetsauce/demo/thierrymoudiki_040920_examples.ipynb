{
  "nbformat": 4,
  "nbformat_minor": 0,
  "metadata": {
    "colab": {
      "name": "thierrymoudiki_040920_examples.ipynb",
      "provenance": [],
      "collapsed_sections": []
    },
    "kernelspec": {
      "name": "python3",
      "display_name": "Python 3"
    }
  },
  "cells": [
    {
      "cell_type": "markdown",
      "metadata": {
        "id": "N0GCOQ2LglZR",
        "colab_type": "text"
      },
      "source": [
        "# `nnetsauce` Examples\n",
        "\n",
        "Examples of: \n",
        "- Multitask, AdaBoost, Deep, Random Bag, Ridge2, Ridge2 Multitask, Nonlinear GLM __classifiers__\n",
        "- Nonlinear GLM model for __regression__"
      ]
    },
    {
      "cell_type": "code",
      "metadata": {
        "id": "g_Tlj2aff2xe",
        "colab_type": "code",
        "colab": {}
      },
      "source": [
        "!pip install git+https://github.com/techtonique/nnetsauce.git@cythonize --upgrade"
      ],
      "execution_count": null,
      "outputs": []
    },
    {
      "cell_type": "markdown",
      "metadata": {
        "id": "71rWuKx4gXWP",
        "colab_type": "text"
      },
      "source": [
        "Multitask Classifier"
      ]
    },
    {
      "cell_type": "code",
      "metadata": {
        "id": "AoI715WwmxO-",
        "colab_type": "code",
        "colab": {
          "base_uri": "https://localhost:8080/",
          "height": 238
        },
        "outputId": "ba11e8c6-791c-4419-8b57-c09869527d20"
      },
      "source": [
        "import nnetsauce as ns\n",
        "import numpy as np\n",
        "from sklearn.datasets import load_breast_cancer, load_wine, load_iris, make_classification\n",
        "from sklearn.linear_model import ElasticNet, LinearRegression\n",
        "from sklearn.model_selection import train_test_split\n",
        "from sklearn import metrics\n",
        "from time import time\n",
        "\n",
        "\n",
        "# dataset no. 1 ---------- \n",
        "\n",
        "breast_cancer = load_breast_cancer()\n",
        "Z = breast_cancer.data\n",
        "t = breast_cancer.target\n",
        "np.random.seed(123)\n",
        "X_train, X_test, y_train, y_test = train_test_split(Z, t, test_size=0.2)\n",
        "\n",
        "# Linear Regression is used \n",
        "regr = LinearRegression()\n",
        "fit_obj = ns.MultitaskClassifier(regr, n_hidden_features=5, \n",
        "                             n_clusters=2, type_clust=\"gmm\")\n",
        "\n",
        "start = time()\n",
        "fit_obj.fit(X_train, y_train)\n",
        "print(time() - start)\n",
        "\n",
        "print(fit_obj.score(X_test, y_test))\n",
        "print(fit_obj.score(X_test, y_test, scoring=\"roc_auc\"))\n",
        "\n",
        "start = time()\n",
        "preds = fit_obj.predict(X_test)\n",
        "print(time() - start)\n",
        "print(metrics.classification_report(preds, y_test))"
      ],
      "execution_count": 2,
      "outputs": [
        {
          "output_type": "stream",
          "text": [
            "0.036490678787231445\n",
            "0.9912280701754386\n",
            "0.9878048780487805\n",
            "0.0013403892517089844\n",
            "              precision    recall  f1-score   support\n",
            "\n",
            "           0       0.98      1.00      0.99        40\n",
            "           1       1.00      0.99      0.99        74\n",
            "\n",
            "    accuracy                           0.99       114\n",
            "   macro avg       0.99      0.99      0.99       114\n",
            "weighted avg       0.99      0.99      0.99       114\n",
            "\n"
          ],
          "name": "stdout"
        }
      ]
    },
    {
      "cell_type": "markdown",
      "metadata": {
        "id": "8EooeZ3odGTe",
        "colab_type": "text"
      },
      "source": [
        "AdaBoost"
      ]
    },
    {
      "cell_type": "code",
      "metadata": {
        "id": "s_QsN3wBnKNR",
        "colab_type": "code",
        "colab": {
          "base_uri": "https://localhost:8080/",
          "height": 1000
        },
        "outputId": "b8a64769-c8c5-4bb1-e43e-87e08b9b63f1"
      },
      "source": [
        "import nnetsauce as ns\n",
        "import numpy as np\n",
        "from sklearn.datasets import load_breast_cancer, load_wine, load_iris\n",
        "from sklearn.linear_model import LogisticRegression\n",
        "from sklearn.model_selection import train_test_split\n",
        "from sklearn import metrics\n",
        "from time import time\n",
        "\n",
        "\n",
        "# dataset no. 1 ----------\n",
        "\n",
        "# logistic reg\n",
        "breast_cancer = load_breast_cancer()\n",
        "Z = breast_cancer.data\n",
        "t = breast_cancer.target\n",
        "np.random.seed(123)\n",
        "X_train, X_test, y_train, y_test = train_test_split(Z, t, test_size=0.2)\n",
        "\n",
        "# SAMME\n",
        "clf = LogisticRegression(solver='liblinear', multi_class = 'ovr', \n",
        "                         random_state=123)\n",
        "fit_obj = ns.AdaBoostClassifier(clf, \n",
        "                                n_hidden_features=np.int(56.13806152), \n",
        "                                direct_link=True,\n",
        "                                n_estimators=1000, learning_rate=0.09393372,\n",
        "                                col_sample=0.52887573, row_sample=0.87781372,\n",
        "                                dropout=0.10216064, n_clusters=2,\n",
        "                                type_clust=\"gmm\",\n",
        "                                verbose=1, seed = 123, \n",
        "                                method=\"SAMME\") \n",
        "\n",
        "start = time() \n",
        "fit_obj.fit(X_train, y_train) \n",
        "print(time() - start)\n",
        "# 29.34\n",
        "print(fit_obj.score(X_test, y_test))\n",
        "preds = fit_obj.predict(X_test)                        \n",
        "\n",
        "print(fit_obj.score(X_test, y_test, scoring=\"roc_auc\"))\n",
        "print(metrics.classification_report(preds, y_test))\n",
        "\n",
        "# SAMME.R\n",
        "clf = LogisticRegression(solver='liblinear', multi_class = 'ovr', \n",
        "                         random_state=123)\n",
        "fit_obj = ns.AdaBoostClassifier(clf, \n",
        "                                n_hidden_features=np.int(11.22338867), \n",
        "                                direct_link=True,\n",
        "                                n_estimators=250, learning_rate=0.01126343,\n",
        "                                col_sample=0.72684326, row_sample=0.86429443,\n",
        "                                dropout=0.63078613, n_clusters=2,\n",
        "                                type_clust=\"gmm\",\n",
        "                                verbose=1, seed = 123, \n",
        "                                method=\"SAMME.R\")  \n",
        "start = time() \n",
        "fit_obj.fit(X_train, y_train) \n",
        "print(time() - start) \n",
        "# 6.906151294708252\n",
        "print(fit_obj.score(X_test, y_test))\n",
        "preds = fit_obj.predict(X_test)                        \n",
        "\n",
        "print(fit_obj.score(X_test, y_test, scoring=\"roc_auc\"))\n",
        "print(metrics.classification_report(preds, y_test))\n",
        "\n",
        "\n",
        "# dataset no. 2 ----------\n",
        "\n",
        "wine = load_wine()\n",
        "Z = wine.data\n",
        "t = wine.target\n",
        "np.random.seed(123)\n",
        "Z_train, Z_test, y_train, y_test = train_test_split(Z, t, test_size=0.2)\n",
        "\n",
        "\n",
        "# SAMME\n",
        "clf = LogisticRegression(solver='liblinear', multi_class = 'ovr', \n",
        "                         random_state=123)\n",
        "fit_obj = ns.AdaBoostClassifier(clf, \n",
        "                                n_hidden_features=np.int(8.21154785e+01), \n",
        "                                direct_link=True,\n",
        "                                n_estimators=1000, learning_rate=2.96252441e-02,\n",
        "                                col_sample=4.22766113e-01, row_sample=7.87268066e-01,\n",
        "                                dropout=1.56909180e-01, n_clusters=3,\n",
        "                                type_clust=\"gmm\",\n",
        "                                verbose=1, seed = 123, \n",
        "                                method=\"SAMME\")  \n",
        "start = time() \n",
        "fit_obj.fit(Z_train, y_train) \n",
        "print(time() - start)  \n",
        "# 22.685115098953247\n",
        "print(fit_obj.score(Z_test, y_test))\n",
        "preds = fit_obj.predict(Z_test)     \n",
        "print(metrics.classification_report(preds, y_test))     \n",
        "\n",
        "\n",
        "# dataset no. 3 ----------\n",
        "\n",
        "iris = load_iris()\n",
        "Z = iris.data\n",
        "t = iris.target\n",
        "np.random.seed(123)\n",
        "Z_train, Z_test, y_train, y_test = train_test_split(Z, t, test_size=0.2)\n",
        "\n",
        "\n",
        "# SAMME.R\n",
        "clf = LogisticRegression(solver='liblinear', multi_class = 'ovr', \n",
        "                         random_state=123)\n",
        "fit_obj = ns.AdaBoostClassifier(clf, \n",
        "                                n_hidden_features=np.int(19.66918945), \n",
        "                                direct_link=True,\n",
        "                                n_estimators=250, learning_rate=0.28534302,\n",
        "                                col_sample=0.45474854, row_sample=0.87833252,\n",
        "                                dropout=0.15603027, n_clusters=0,\n",
        "                                verbose=1, seed = 123, \n",
        "                                method=\"SAMME.R\")  \n",
        "start = time() \n",
        "fit_obj.fit(Z_train, y_train)\n",
        "print(time() - start)    \n",
        "# 1.413327932357788\n",
        "print(fit_obj.score(Z_test, y_test))\n",
        "preds = fit_obj.predict(Z_test)     \n",
        "print(metrics.classification_report(preds, y_test))  "
      ],
      "execution_count": 3,
      "outputs": [
        {
          "output_type": "stream",
          "text": [
            "1000/1000 [██████████████████████████████] - 40s 40ms/step\n",
            "39.86503982543945\n",
            "1000/1000 [██████████████████████████████] - 1s 1ms/step\n",
            "0.9385964912280702\n",
            "1000/1000 [██████████████████████████████] - 1s 1ms/step\n",
            "1000/1000 [██████████████████████████████] - 1s 1ms/step\n",
            "0.9253257601069161\n",
            "              precision    recall  f1-score   support\n",
            "\n",
            "           0       0.88      0.95      0.91        38\n",
            "           1       0.97      0.93      0.95        76\n",
            "\n",
            "    accuracy                           0.94       114\n",
            "   macro avg       0.93      0.94      0.93       114\n",
            "weighted avg       0.94      0.94      0.94       114\n",
            "\n",
            "250/250 [██████████████████████████████] - 8s 34ms/step\n",
            "8.471814393997192\n",
            "250/250 [██████████████████████████████] - 0s 1ms/step\n",
            "0.9736842105263158\n",
            "250/250 [██████████████████████████████] - 0s 984us/step\n",
            "250/250 [██████████████████████████████] - 0s 991us/step\n",
            "0.9634146341463415\n",
            "              precision    recall  f1-score   support\n",
            "\n",
            "           0       0.93      1.00      0.96        38\n",
            "           1       1.00      0.96      0.98        76\n",
            "\n",
            "    accuracy                           0.97       114\n",
            "   macro avg       0.96      0.98      0.97       114\n",
            "weighted avg       0.98      0.97      0.97       114\n",
            "\n",
            "1000/1000 [██████████████████████████████] - 20s 20ms/step\n",
            "20.269068241119385\n",
            "1000/1000 [██████████████████████████████] - 1s 853us/step\n",
            "0.9722222222222222\n",
            "1000/1000 [██████████████████████████████] - 1s 787us/step\n",
            "              precision    recall  f1-score   support\n",
            "\n",
            "           0       1.00      0.89      0.94         9\n",
            "           1       0.91      1.00      0.95        10\n",
            "           2       1.00      1.00      1.00        17\n",
            "\n",
            "    accuracy                           0.97        36\n",
            "   macro avg       0.97      0.96      0.96        36\n",
            "weighted avg       0.97      0.97      0.97        36\n",
            "\n",
            "250/250 [██████████████████████████████] - 1s 5ms/step\n",
            "1.1295859813690186\n",
            "250/250 [██████████████████████████████] - 0s 463us/step\n",
            "0.9333333333333333\n",
            "250/250 [██████████████████████████████] - 0s 479us/step\n",
            "              precision    recall  f1-score   support\n",
            "\n",
            "           0       1.00      1.00      1.00        13\n",
            "           1       1.00      0.75      0.86         8\n",
            "           2       0.82      1.00      0.90         9\n",
            "\n",
            "    accuracy                           0.93        30\n",
            "   macro avg       0.94      0.92      0.92        30\n",
            "weighted avg       0.95      0.93      0.93        30\n",
            "\n"
          ],
          "name": "stdout"
        }
      ]
    },
    {
      "cell_type": "markdown",
      "metadata": {
        "id": "RDqeWvXDdURr",
        "colab_type": "text"
      },
      "source": [
        "\n",
        "\n",
        "Deep Classifier"
      ]
    },
    {
      "cell_type": "code",
      "metadata": {
        "id": "DywIYGybniZV",
        "colab_type": "code",
        "colab": {
          "base_uri": "https://localhost:8080/",
          "height": 68
        },
        "outputId": "875fcce6-aaa9-4434-fa27-d5f5f711bca1"
      },
      "source": [
        "import nnetsauce as ns\n",
        "from sklearn.ensemble import RandomForestClassifier\n",
        "from sklearn.model_selection import train_test_split\n",
        "from sklearn.datasets import load_digits\n",
        "\n",
        "\n",
        "digits = load_digits()\n",
        "X = digits.data\n",
        "y = digits.target\n",
        "X_train, X_test, y_train, y_test = train_test_split(X, y, test_size=0.2,\n",
        "                                                    random_state=123)\n",
        "\n",
        "\n",
        "# layer 1 (base layer) ----\n",
        "layer1_regr = RandomForestClassifier(n_estimators=10, random_state=123)\n",
        "layer1_regr.fit(X_train, y_train)\n",
        "\n",
        "# Accuracy in layer 1\n",
        "print(layer1_regr.score(X_test, y_test))\n",
        "\n",
        "\n",
        "# layer 2 using layer 1 ----\n",
        "layer2_regr = ns.CustomClassifier(obj = layer1_regr, n_hidden_features=5, \n",
        "                        direct_link=True, bias=True, \n",
        "                        nodes_sim='uniform', activation_name='relu', \n",
        "                        n_clusters=2, seed=123)\n",
        "layer2_regr.fit(X_train, y_train)\n",
        "\n",
        "# Accuracy in layer 2\n",
        "print(layer2_regr.score(X_test, y_test))\n",
        "\n",
        "\n",
        "# layer 3 using layer 2 ----\n",
        "layer3_regr = ns.CustomClassifier(obj = layer2_regr, n_hidden_features=10, \n",
        "                        direct_link=True, bias=True, dropout=0.7,\n",
        "                        nodes_sim='uniform', activation_name='relu', \n",
        "                        n_clusters=2, seed=123)\n",
        "layer3_regr.fit(X_train, y_train)\n",
        "\n",
        "# Accuracy in layer 3\n",
        "print(layer3_regr.score(X_test, y_test))"
      ],
      "execution_count": 4,
      "outputs": [
        {
          "output_type": "stream",
          "text": [
            "0.9388888888888889\n",
            "0.9305555555555556\n",
            "0.9416666666666667\n"
          ],
          "name": "stdout"
        }
      ]
    },
    {
      "cell_type": "markdown",
      "metadata": {
        "id": "7sqTcwwdde8O",
        "colab_type": "text"
      },
      "source": [
        "Random Bag Classifier"
      ]
    },
    {
      "cell_type": "code",
      "metadata": {
        "id": "eO-vvUVXny3K",
        "colab_type": "code",
        "colab": {
          "base_uri": "https://localhost:8080/",
          "height": 782
        },
        "outputId": "1255d462-0d26-40bd-fbae-2d95ec8b88c7"
      },
      "source": [
        "import nnetsauce as ns\n",
        "import numpy as np\n",
        "from sklearn.datasets import load_breast_cancer, load_wine, load_iris, make_classification\n",
        "from sklearn.tree import DecisionTreeClassifier\n",
        "from sklearn.linear_model import LogisticRegression\n",
        "from sklearn.model_selection import train_test_split\n",
        "from sklearn import metrics\n",
        "from time import time\n",
        "\n",
        "\n",
        "# dataset no. 1 ---------- \n",
        "\n",
        "breast_cancer = load_breast_cancer()\n",
        "Z = breast_cancer.data\n",
        "t = breast_cancer.target\n",
        "np.random.seed(123)\n",
        "X_train, X_test, y_train, y_test = train_test_split(Z, t, test_size=0.2)\n",
        "\n",
        "# decision tree\n",
        "clf = DecisionTreeClassifier(max_depth=2, random_state=123)\n",
        "fit_obj = ns.RandomBagClassifier(clf, n_hidden_features=2,\n",
        "                                direct_link=True,\n",
        "                                n_estimators=100, \n",
        "                                col_sample=0.9, row_sample=0.9,\n",
        "                                dropout=0.3, n_clusters=0, verbose=0)\n",
        "\n",
        "start = time()\n",
        "fit_obj.fit(X_train, y_train)\n",
        "print(time() - start)\n",
        "#0.8955960273742676\n",
        "\n",
        "print(fit_obj.score(X_test, y_test))\n",
        "print(fit_obj.score(X_test, y_test, scoring=\"roc_auc\"))\n",
        "\n",
        "start = time()\n",
        "[fit_obj.fit(X_train, y_train) for _ in range(10)]\n",
        "print(time() - start)\n",
        "\n",
        "start = time()\n",
        "preds = fit_obj.predict(X_test)\n",
        "print(time() - start)\n",
        "print(metrics.classification_report(preds, y_test))\n",
        "\n",
        "\n",
        "# dataset no. 2 ----------\n",
        "\n",
        "wine = load_wine()\n",
        "Z = wine.data\n",
        "t = wine.target\n",
        "np.random.seed(123)\n",
        "Z_train, Z_test, y_train, y_test = train_test_split(Z, t, test_size=0.2)\n",
        "\n",
        "clf = DecisionTreeClassifier(max_depth=2, random_state=123)\n",
        "fit_obj = ns.RandomBagClassifier(clf, n_hidden_features=5,\n",
        "                                direct_link=True,\n",
        "                                n_estimators=100, \n",
        "                                col_sample=0.5, row_sample=0.5,\n",
        "                                dropout=0.1, n_clusters=3, \n",
        "                                type_clust=\"gmm\", verbose=1)\n",
        "\n",
        "start = time()\n",
        "fit_obj.fit(Z_train, y_train)\n",
        "print(time() - start)\n",
        "# 1.8651049137115479\n",
        "print(fit_obj.score(Z_test, y_test))\n",
        "\n",
        "preds = fit_obj.predict(Z_test)\n",
        "print(metrics.classification_report(preds, y_test))\n",
        "\n",
        "\n",
        "# dataset no. 3 ----------\n",
        "\n",
        "iris = load_iris()\n",
        "Z = iris.data\n",
        "t = iris.target\n",
        "np.random.seed(123)\n",
        "Z_train, Z_test, y_train, y_test = train_test_split(Z, t, test_size=0.2)\n",
        "\n",
        "clf = LogisticRegression(solver='liblinear', multi_class = 'ovr', \n",
        "                         random_state=123)\n",
        "fit_obj = ns.RandomBagClassifier(clf, n_hidden_features=5,\n",
        "                                direct_link=False,\n",
        "                                n_estimators=100, \n",
        "                                col_sample=0.5, row_sample=0.5,\n",
        "                                dropout=0.1, n_clusters=0, verbose=0,\n",
        "                                n_jobs=1)\n",
        "\n",
        "start = time()\n",
        "fit_obj.fit(Z_train, y_train)\n",
        "print(time() - start)\n",
        "# 0.4114112854003906\n",
        "print(fit_obj.score(Z_test, y_test))\n",
        "\n",
        "\n",
        "# dataset no. 4 ----------\n",
        "\n",
        "X, y = make_classification(n_samples=2500, n_features=20, \n",
        "                                               random_state=783451)\n",
        "X_train, X_test, y_train, y_test = train_test_split(X, y, test_size=0.2, \n",
        "                                                    random_state=351452)\n",
        "\n",
        "clf = DecisionTreeClassifier(max_depth=1, random_state=123)\n",
        "fit_obj = ns.RandomBagClassifier(clf, n_hidden_features=5,\n",
        "                                direct_link=True,\n",
        "                                n_estimators=100, \n",
        "                                col_sample=0.5, row_sample=0.5,\n",
        "                                dropout=0.1, n_clusters=3, \n",
        "                                type_clust=\"gmm\", verbose=1)\n",
        "\n",
        "start = time()\n",
        "fit_obj.fit(X_train, y_train)\n",
        "print(time() - start)\n",
        "# 5.983736038208008\n",
        "print(fit_obj.score(X_test, y_test))\n",
        "\n",
        "preds = fit_obj.predict(X_test)\n",
        "print(metrics.classification_report(preds, y_test))"
      ],
      "execution_count": 5,
      "outputs": [
        {
          "output_type": "stream",
          "text": [
            "0.6760439872741699\n",
            "0.9298245614035088\n",
            "0.9077848312729703\n",
            "6.7051355838775635\n",
            "0.03845643997192383\n",
            "              precision    recall  f1-score   support\n",
            "\n",
            "           0       0.83      0.97      0.89        35\n",
            "           1       0.99      0.91      0.95        79\n",
            "\n",
            "    accuracy                           0.93       114\n",
            "   macro avg       0.91      0.94      0.92       114\n",
            "weighted avg       0.94      0.93      0.93       114\n",
            "\n",
            "100/100 [██████████████████████████████] - 2s 15ms/step\n",
            "1.536933422088623\n",
            "100/100 [██████████████████████████████] - 0s 925us/step\n",
            "1.0\n",
            "100/100 [██████████████████████████████] - 0s 892us/step\n",
            "              precision    recall  f1-score   support\n",
            "\n",
            "           0       1.00      1.00      1.00         8\n",
            "           1       1.00      1.00      1.00        11\n",
            "           2       1.00      1.00      1.00        17\n",
            "\n",
            "    accuracy                           1.00        36\n",
            "   macro avg       1.00      1.00      1.00        36\n",
            "weighted avg       1.00      1.00      1.00        36\n",
            "\n",
            "0.3304011821746826\n",
            "0.9333333333333333\n",
            "100/100 [██████████████████████████████] - 9s 93ms/step\n",
            "9.323243856430054\n",
            "100/100 [██████████████████████████████] - 0s 1ms/step\n",
            "0.912\n",
            "100/100 [██████████████████████████████] - 0s 1ms/step\n",
            "              precision    recall  f1-score   support\n",
            "\n",
            "           0       0.88      0.96      0.91       246\n",
            "           1       0.95      0.87      0.91       254\n",
            "\n",
            "    accuracy                           0.91       500\n",
            "   macro avg       0.91      0.91      0.91       500\n",
            "weighted avg       0.92      0.91      0.91       500\n",
            "\n"
          ],
          "name": "stdout"
        }
      ]
    },
    {
      "cell_type": "markdown",
      "metadata": {
        "id": "lmYXp8uddmyt",
        "colab_type": "text"
      },
      "source": [
        "Ridge2 Classifier"
      ]
    },
    {
      "cell_type": "code",
      "metadata": {
        "id": "-5EVDPndoAIP",
        "colab_type": "code",
        "colab": {
          "base_uri": "https://localhost:8080/",
          "height": 170
        },
        "outputId": "3501f203-157e-48c4-e0bd-61d5e23d4a1a"
      },
      "source": [
        "\n",
        "import nnetsauce as ns\n",
        "import numpy as np\n",
        "from sklearn.datasets import load_digits, load_breast_cancer, load_wine, load_iris\n",
        "from sklearn.model_selection import train_test_split\n",
        "from time import time\n",
        "\n",
        "\n",
        "# dataset no. 1 ----------\n",
        "\n",
        "breast_cancer = load_breast_cancer()\n",
        "X = breast_cancer.data\n",
        "y = breast_cancer.target\n",
        "\n",
        "# split data into training test and test set\n",
        "np.random.seed(123)\n",
        "X_train, X_test, y_train, y_test = train_test_split(X, y, test_size=0.2)\n",
        "\n",
        "# create the model with nnetsauce\n",
        "fit_obj = ns.Ridge2Classifier(lambda1 = 6.90185578e+04, \n",
        "                             lambda2 = 3.17392781e+02, \n",
        "                             n_hidden_features=95, \n",
        "                             n_clusters=2, \n",
        "                             row_sample = 4.63427734e-01, \n",
        "                             dropout = 3.62817383e-01,\n",
        "                             type_clust = \"gmm\")\n",
        "\n",
        "# fit the model on training set\n",
        "start = time()\n",
        "fit_obj.fit(X_train, y_train)\n",
        "print(time() - start)\n",
        "\n",
        "# get the accuracy on test set\n",
        "start = time()\n",
        "print(fit_obj.score(X_test, y_test))\n",
        "print(time() - start)\n",
        "\n",
        "# get area under the curve on test set (auc)\n",
        "print(fit_obj.score(X_test, y_test, scoring=\"roc_auc\"))\n",
        "\n",
        "\n",
        "# dataset no. 2 ----------\n",
        "\n",
        "wine = load_wine()\n",
        "Z = wine.data\n",
        "t = wine.target\n",
        "np.random.seed(123)\n",
        "Z_train, Z_test, y_train, y_test = train_test_split(Z, t, test_size=0.2)\n",
        "\n",
        "# create the model with nnetsauce\n",
        "fit_obj = ns.Ridge2Classifier(lambda1 = 8.64135756e+04, \n",
        "                             lambda2 = 8.27514666e+04, \n",
        "                             n_hidden_features=109, \n",
        "                             n_clusters=3, \n",
        "                             row_sample = 5.54907227e-01, \n",
        "                             dropout = 1.84484863e-01,\n",
        "                             type_clust = \"gmm\")\n",
        "\n",
        "# fit the model on training set\n",
        "fit_obj.fit(Z_train, y_train)\n",
        "\n",
        "# get the accuracy on test set\n",
        "print(fit_obj.score(Z_test, y_test))\n",
        "\n",
        "\n",
        "# dataset no. 3 ----------\n",
        "\n",
        "iris = load_iris()\n",
        "Z = iris.data\n",
        "t = iris.target\n",
        "np.random.seed(123)\n",
        "Z_train, Z_test, y_train, y_test = train_test_split(Z, t, test_size=0.2)\n",
        "\n",
        "# create the model with nnetsauce\n",
        "fit_obj = ns.Ridge2Classifier(lambda1 = 1.87500081e+04, \n",
        "                             lambda2 = 3.12500069e+04, \n",
        "                             n_hidden_features=47, \n",
        "                             n_clusters=3, \n",
        "                             row_sample = 7.37500000e-01, \n",
        "                             dropout = 1.31250000e-01,\n",
        "                             type_clust = \"gmm\")\n",
        "\n",
        "# fit the model on training set\n",
        "start = time()\n",
        "fit_obj.fit(Z_train, y_train)\n",
        "print(time() - start)\n",
        "\n",
        "# get the accuracy on test set\n",
        "start = time()\n",
        "print(fit_obj.score(Z_test, y_test))\n",
        "print(time() - start)\n",
        "\n",
        "\n",
        "# dataset no. 4 ----------\n",
        "\n",
        "digits = load_digits()\n",
        "Z = digits.data\n",
        "t = digits.target\n",
        "np.random.seed(123)\n",
        "Z_train, Z_test, y_train, y_test = train_test_split(Z, t, test_size=0.2)\n",
        "\n",
        "# create the model with nnetsauce\n",
        "fit_obj = ns.Ridge2Classifier(lambda1 = 7.11914091e+04, \n",
        "                             lambda2 = 4.63867241e+04, \n",
        "                             n_hidden_features=13, \n",
        "                             n_clusters=0, \n",
        "                             row_sample = 7.65039063e-01, \n",
        "                             dropout = 5.21582031e-01,\n",
        "                             type_clust = \"gmm\")\n",
        "\n",
        "# fit the model on training set\n",
        "fit_obj.fit(Z_train, y_train)\n",
        "\n",
        "# get the accuracy on test set\n",
        "print(fit_obj.score(Z_test, y_test))"
      ],
      "execution_count": 6,
      "outputs": [
        {
          "output_type": "stream",
          "text": [
            "0.07920622825622559\n",
            "0.9824561403508771\n",
            "0.003503561019897461\n",
            "0.975609756097561\n",
            "0.9722222222222222\n",
            "0.04982304573059082\n",
            "0.9666666666666667\n",
            "0.0020449161529541016\n",
            "0.4027777777777778\n"
          ],
          "name": "stdout"
        }
      ]
    },
    {
      "cell_type": "markdown",
      "metadata": {
        "id": "Ktwa4bhvdu0g",
        "colab_type": "text"
      },
      "source": [
        "Ridge2 Multitask Classifier"
      ]
    },
    {
      "cell_type": "code",
      "metadata": {
        "id": "2pPmka4doODO",
        "colab_type": "code",
        "colab": {
          "base_uri": "https://localhost:8080/",
          "height": 1000
        },
        "outputId": "2b88c59a-9080-41d3-8f88-5acbf1598d51"
      },
      "source": [
        "import nnetsauce as ns\n",
        "import numpy as np\n",
        "from sklearn.datasets import load_breast_cancer, load_wine, load_iris, load_digits, make_classification\n",
        "from sklearn.model_selection import train_test_split\n",
        "from sklearn import metrics\n",
        "from time import time\n",
        "\n",
        "# dataset no. 1 ---------- \n",
        "\n",
        "breast_cancer = load_breast_cancer()\n",
        "Z = breast_cancer.data\n",
        "t = breast_cancer.target\n",
        "np.random.seed(123)\n",
        "X_train, X_test, y_train, y_test = train_test_split(Z, t, test_size=0.2)\n",
        "\n",
        "print(Z.shape)\n",
        "\n",
        "fit_obj = ns.Ridge2MultitaskClassifier(n_hidden_features=np.int(9.83730469e+01), \n",
        "                                   dropout=4.31054687e-01, \n",
        "                                   n_clusters=np.int(1.71484375e+00),\n",
        "                                   lambda1=1.24023438e+01, lambda2=7.30263672e+03)\n",
        "\n",
        "start = time()\n",
        "fit_obj.fit(X_train, y_train)\n",
        "print(time() - start)\n",
        "\n",
        "print(fit_obj.score(X_test, y_test))\n",
        "print(fit_obj.score(X_test, y_test, scoring=\"roc_auc\"))\n",
        "\n",
        "\n",
        "start = time()\n",
        "preds = fit_obj.predict(X_test)\n",
        "print(time() - start)\n",
        "print(metrics.classification_report(preds, y_test))\n",
        "\n",
        "\n",
        "# dataset no. 2 ----------\n",
        "\n",
        "wine = load_wine()\n",
        "Z = wine.data\n",
        "t = wine.target\n",
        "np.random.seed(123)\n",
        "Z_train, Z_test, y_train, y_test = train_test_split(Z, t, test_size=0.2)\n",
        "\n",
        "fit_obj = ns.Ridge2MultitaskClassifier(n_hidden_features=15,\n",
        "                                  dropout=0.1, n_clusters=3, \n",
        "                                  type_clust=\"gmm\")\n",
        "\n",
        "start = time()\n",
        "fit_obj.fit(Z_train, y_train)\n",
        "print(time() - start)\n",
        "\n",
        "print(fit_obj.score(Z_test, y_test))\n",
        "\n",
        "preds = fit_obj.predict(Z_test)\n",
        "print(metrics.classification_report(preds, y_test))\n",
        "\n",
        "\n",
        "# dataset no. 3 ----------\n",
        "\n",
        "iris = load_iris()\n",
        "Z = iris.data\n",
        "t = iris.target\n",
        "np.random.seed(123)\n",
        "Z_train, Z_test, y_train, y_test = train_test_split(Z, t, test_size=0.2)\n",
        "\n",
        "\n",
        "fit_obj = ns.Ridge2MultitaskClassifier(n_hidden_features=10,\n",
        "                                  dropout=0.1, n_clusters=2)\n",
        "\n",
        "start = time()\n",
        "fit_obj.fit(Z_train, y_train)\n",
        "print(time() - start)\n",
        "\n",
        "print(fit_obj.score(Z_test, y_test))\n",
        "\n",
        "\n",
        "# dataset no. 4 ----------\n",
        "\n",
        "X, y = make_classification(n_samples=2500, n_features=20, \n",
        "                                               random_state=783451)\n",
        "X_train, X_test, y_train, y_test = train_test_split(X, y, test_size=0.2, \n",
        "                                                    random_state=351452)\n",
        "\n",
        "\n",
        "fit_obj = ns.Ridge2MultitaskClassifier(n_hidden_features=5,\n",
        "                                  dropout=0.1, n_clusters=3, \n",
        "                                  type_clust=\"gmm\")\n",
        "\n",
        "start = time()\n",
        "fit_obj.fit(X_train, y_train)\n",
        "print(time() - start)\n",
        "\n",
        "print(fit_obj.score(X_test, y_test))\n",
        "\n",
        "preds = fit_obj.predict(X_test)\n",
        "print(metrics.classification_report(preds, y_test))\n",
        "\n",
        "\n",
        "# dataset no. 5 ----------\n",
        "\n",
        "digits = load_digits()\n",
        "X = digits.data\n",
        "y = digits.target\n",
        "X_train, X_test, y_train, y_test = train_test_split(X, y, test_size=0.2,\n",
        "                                                    random_state=123)\n",
        "\n",
        "fit_obj = ns.Ridge2MultitaskClassifier(n_hidden_features=25,\n",
        "                                  dropout=0.1, n_clusters=3, \n",
        "                                  type_clust=\"gmm\")\n",
        "\n",
        "start = time()\n",
        "fit_obj.fit(X_train, y_train)\n",
        "print(time() - start)\n",
        "print(fit_obj.score(X_test, y_test))\n",
        "\n",
        "start = time()\n",
        "preds = fit_obj.predict(X_test)\n",
        "print(time() - start)\n",
        "print(metrics.classification_report(preds, y_test))"
      ],
      "execution_count": 7,
      "outputs": [
        {
          "output_type": "stream",
          "text": [
            "(569, 30)\n",
            "0.061121225357055664\n",
            "0.9824561403508771\n",
            "0.9809555629802873\n",
            "0.0029571056365966797\n",
            "              precision    recall  f1-score   support\n",
            "\n",
            "           0       0.98      0.98      0.98        41\n",
            "           1       0.99      0.99      0.99        73\n",
            "\n",
            "    accuracy                           0.98       114\n",
            "   macro avg       0.98      0.98      0.98       114\n",
            "weighted avg       0.98      0.98      0.98       114\n",
            "\n",
            "0.014841794967651367\n",
            "1.0\n",
            "              precision    recall  f1-score   support\n",
            "\n",
            "           0       1.00      1.00      1.00         8\n",
            "           1       1.00      1.00      1.00        11\n",
            "           2       1.00      1.00      1.00        17\n",
            "\n",
            "    accuracy                           1.00        36\n",
            "   macro avg       1.00      1.00      1.00        36\n",
            "weighted avg       1.00      1.00      1.00        36\n",
            "\n",
            "0.030718088150024414\n",
            "0.9666666666666667\n",
            "0.11489248275756836\n",
            "0.89\n",
            "              precision    recall  f1-score   support\n",
            "\n",
            "           0       0.86      0.93      0.89       247\n",
            "           1       0.93      0.85      0.89       253\n",
            "\n",
            "    accuracy                           0.89       500\n",
            "   macro avg       0.89      0.89      0.89       500\n",
            "weighted avg       0.89      0.89      0.89       500\n",
            "\n",
            "0.2798030376434326\n",
            "0.9361111111111111\n",
            "0.0037097930908203125\n",
            "              precision    recall  f1-score   support\n",
            "\n",
            "           0       1.00      0.97      0.99        40\n",
            "           1       1.00      0.85      0.92        40\n",
            "           2       0.92      0.97      0.94        34\n",
            "           3       0.94      0.89      0.91        35\n",
            "           4       0.95      1.00      0.98        40\n",
            "           5       0.97      1.00      0.99        36\n",
            "           6       0.95      0.95      0.95        43\n",
            "           7       1.00      0.89      0.94        35\n",
            "           8       0.68      0.96      0.79        26\n",
            "           9       0.96      0.87      0.92        31\n",
            "\n",
            "    accuracy                           0.94       360\n",
            "   macro avg       0.94      0.94      0.93       360\n",
            "weighted avg       0.95      0.94      0.94       360\n",
            "\n"
          ],
          "name": "stdout"
        }
      ]
    },
    {
      "cell_type": "markdown",
      "metadata": {
        "id": "BjxU9nhwZ0B7",
        "colab_type": "text"
      },
      "source": [
        "GLM Regressor with __loss function plot__"
      ]
    },
    {
      "cell_type": "code",
      "metadata": {
        "id": "5C7VTHpEZMos",
        "colab_type": "code",
        "colab": {
          "base_uri": "https://localhost:8080/",
          "height": 452
        },
        "outputId": "ed46cf70-4e3c-48ac-eb36-8b1d814bdaf9"
      },
      "source": [
        "import numpy as np \n",
        "import nnetsauce as ns\n",
        "from sklearn.datasets import load_boston\n",
        "from sklearn.model_selection import train_test_split\n",
        "from time import time\n",
        "import matplotlib.pyplot as plt\n",
        "\n",
        "\n",
        "boston = load_boston()\n",
        "X = boston.data\n",
        "y = boston.target\n",
        "\n",
        "X_train, X_test, y_train, y_test = train_test_split(X, y, random_state=2020)\n",
        "\n",
        "print(f\"\\n Example 1 -----\")\n",
        "obj2 = ns.GLMRegressor(n_hidden_features=3, \n",
        "                       lambda1=1e-2, alpha1=0.5,\n",
        "                       lambda2=1e-2, alpha2=0.5,\n",
        "                       optimizer=ns.optimizers.Optimizer(type_optim=\"sgd\"))\n",
        "start = time()\n",
        "\n",
        "obj2.fit(X_train, y_train, learning_rate=0.1, batch_prop=0.25, verbose=1)\n",
        "print(f\"\\n Elapsed: {time() - start}\")\n",
        "plt.plot(obj2.optimizer.results[2])\n",
        "print(obj2.beta)\n",
        "print(\"RMSE: \")\n",
        "print(np.sqrt(obj2.score(X_test, y_test))) # RMSE"
      ],
      "execution_count": 8,
      "outputs": [
        {
          "output_type": "stream",
          "text": [
            "  3%|▎         | 3/100 [00:00<00:00, 136.46it/s]"
          ],
          "name": "stderr"
        },
        {
          "output_type": "stream",
          "text": [
            "\n",
            " Example 1 -----\n",
            "\n",
            " Elapsed: 0.0810844898223877\n",
            "[ -0.73001937   1.30493899  -0.91342056   2.66435261  -2.29385707\n",
            "   4.53590126  -0.41725906  -2.83037167   4.77373817  -1.49580123\n",
            "  -0.62224408   0.99904679  -1.95016809  -1.71976335   1.71976335\n",
            " -13.72750934   0.34705632   8.21592306]\n",
            "RMSE: \n",
            "4.4468474720872635\n"
          ],
          "name": "stdout"
        },
        {
          "output_type": "stream",
          "text": [
            "\n"
          ],
          "name": "stderr"
        },
        {
          "output_type": "display_data",
          "data": {
            "image/png": "[encoded data removed]",
            "text/plain": [
              "<Figure size 432x288 with 1 Axes>"
            ]
          },
          "metadata": {
            "tags": [],
            "needs_background": "light"
          }
        }
      ]
    },
    {
      "cell_type": "code",
      "metadata": {
        "id": "GBUKO-UvbowG",
        "colab_type": "code",
        "colab": {
          "base_uri": "https://localhost:8080/",
          "height": 463
        },
        "outputId": "35e7685c-61da-4367-c9a8-f4cac80e12f7"
      },
      "source": [
        "print(f\"\\n Example 2 -----\")\n",
        "obj2.optimizer.type_optim = \"scd\"\n",
        "start = time()\n",
        "obj2.fit(X_train, y_train, learning_rate=0.01, batch_prop=0.8, verbose=1)\n",
        "print(f\"\\n Elapsed: {time() - start}\")\n",
        "plt.plot(obj2.optimizer.results[2])\n",
        "print(obj2.beta)\n",
        "print(\"RMSE: \")\n",
        "print(np.sqrt(obj2.score(X_test, y_test))) # RMSE"
      ],
      "execution_count": 9,
      "outputs": [
        {
          "output_type": "stream",
          "text": [
            "  3%|▎         | 3/100 [00:00<00:00, 139.11it/s]"
          ],
          "name": "stderr"
        },
        {
          "output_type": "stream",
          "text": [
            "\n",
            " Example 2 -----\n",
            "\n",
            " Elapsed: 0.0661919116973877\n",
            "[ -0.72509388   1.31132796  -0.92205845   2.66757913  -2.29667756\n",
            "   4.52550514  -0.417997    -2.82410865   4.76906417  -1.49600236\n",
            "  -0.63232039   0.99090698  -1.94419147  -1.71858575   1.71855068\n",
            " -13.725949     0.3426929    8.20576483]\n",
            "RMSE: \n",
            "4.444592994736219\n"
          ],
          "name": "stdout"
        },
        {
          "output_type": "stream",
          "text": [
            "\n"
          ],
          "name": "stderr"
        },
        {
          "output_type": "display_data",
          "data": {
            "image/png": "[encoded data removed]",
            "text/plain": [
              "<Figure size 432x288 with 1 Axes>"
            ]
          },
          "metadata": {
            "tags": [],
            "needs_background": "light"
          }
        }
      ]
    },
    {
      "cell_type": "code",
      "metadata": {
        "id": "Q2kNNSC_b2jG",
        "colab_type": "code",
        "colab": {
          "base_uri": "https://localhost:8080/",
          "height": 452
        },
        "outputId": "8b2c461a-f4e8-40ea-ca0e-19d9565794a7"
      },
      "source": [
        "print(f\"\\n Example 3 -----\")\n",
        "obj2.optimizer.type_optim = \"sgd\"\n",
        "obj2.set_params(lambda1=1e-2, alpha1=0.1,\n",
        "               lambda2=1e-1, alpha2=0.9)\n",
        "start = time()\n",
        "obj2.fit(X_train, y_train, batch_prop=0.25, verbose=1)\n",
        "print(f\"\\n Elapsed: {time() - start}\")\n",
        "plt.plot(obj2.optimizer.results[2])\n",
        "print(obj2.beta)\n",
        "print(\"RMSE: \")\n",
        "print(np.sqrt(obj2.score(X_test, y_test))) # RMSE"
      ],
      "execution_count": 10,
      "outputs": [
        {
          "output_type": "stream",
          "text": [
            "  3%|▎         | 3/100 [00:00<00:00, 156.87it/s]"
          ],
          "name": "stderr"
        },
        {
          "output_type": "stream",
          "text": [
            "\n",
            " Example 3 -----\n",
            "\n",
            " Elapsed: 0.06070113182067871\n",
            "[ -0.73001937   1.30493899  -0.91342056   2.66435261  -2.29385707\n",
            "   4.53590126  -0.41725906  -2.83037167   4.77373817  -1.49580123\n",
            "  -0.62224408   0.99904679  -1.95016809  -1.71976335   1.71976335\n",
            " -13.72750934   0.34705632   8.21592306]\n",
            "RMSE: \n",
            "4.4468474720872635\n"
          ],
          "name": "stdout"
        },
        {
          "output_type": "stream",
          "text": [
            "\n"
          ],
          "name": "stderr"
        },
        {
          "output_type": "display_data",
          "data": {
            "image/png": "[encoded data removed]",
            "text/plain": [
              "<Figure size 432x288 with 1 Axes>"
            ]
          },
          "metadata": {
            "tags": [],
            "needs_background": "light"
          }
        }
      ]
    },
    {
      "cell_type": "code",
      "metadata": {
        "id": "tgi-JST4btb3",
        "colab_type": "code",
        "colab": {
          "base_uri": "https://localhost:8080/",
          "height": 452
        },
        "outputId": "ad56a93e-861f-4104-f4f3-a936b4c5f555"
      },
      "source": [
        "print(f\"\\n Example 4 -----\")\n",
        "obj2.optimizer.type_optim = \"scd\"\n",
        "start = time()\n",
        "obj2.fit(X_train, y_train, learning_rate=0.01, batch_prop=0.8, verbose=1)\n",
        "print(f\"\\n Elapsed: {time() - start}\")\n",
        "plt.plot(obj2.optimizer.results[2])\n",
        "print(obj2.beta)\n",
        "print(\"RMSE: \")\n",
        "print(np.sqrt(obj2.score(X_test, y_test))) # RMSE "
      ],
      "execution_count": 11,
      "outputs": [
        {
          "output_type": "stream",
          "text": [
            " 22%|██▏       | 22/100 [00:00<00:00, 219.09it/s]"
          ],
          "name": "stderr"
        },
        {
          "output_type": "stream",
          "text": [
            "\n",
            " Example 4 -----\n"
          ],
          "name": "stdout"
        },
        {
          "output_type": "stream",
          "text": [
            "100%|██████████| 100/100 [00:00<00:00, 214.20it/s]\n"
          ],
          "name": "stderr"
        },
        {
          "output_type": "stream",
          "text": [
            "\n",
            " Elapsed: 0.5153474807739258\n",
            "[ -0.71067792   1.29690491  -0.68747342   2.3543546   -1.9784566\n",
            "   4.34896759  -0.37600378  -2.65266734   4.62406064  -1.24187685\n",
            "  -0.67498569   1.05347135  -2.03899589  -1.28069863   1.31830636\n",
            " -11.58438533  -0.06159893   6.69250763]\n",
            "RMSE: \n",
            "4.440806114381907\n"
          ],
          "name": "stdout"
        },
        {
          "output_type": "display_data",
          "data": {
            "image/png": "[encoded data removed]",
            "text/plain": [
              "<Figure size 432x288 with 1 Axes>"
            ]
          },
          "metadata": {
            "tags": [],
            "needs_background": "light"
          }
        }
      ]
    },
    {
      "cell_type": "code",
      "metadata": {
        "id": "kuOGz3RXbvZU",
        "colab_type": "code",
        "colab": {
          "base_uri": "https://localhost:8080/",
          "height": 454
        },
        "outputId": "85ed4f12-3d57-4849-d04c-1912dacbd51b"
      },
      "source": [
        "print(f\"\\n Example 5 -----\")\n",
        "obj2.optimizer.type_optim = \"sgd\"\n",
        "obj2.set_params(lambda1=1, alpha1=0.5,\n",
        "               lambda2=1e-2, alpha2=0.1)\n",
        "start = time()\n",
        "obj2.fit(X_train, y_train, learning_rate=0.1, batch_prop=0.5, verbose=1)\n",
        "print(f\"\\n Elapsed: {time() - start}\")\n",
        "plt.plot(obj2.optimizer.results[2])\n",
        "print(obj2.beta)\n",
        "print(\"RMSE: \")\n",
        "print(np.sqrt(obj2.score(X_test, y_test))) # RMSE"
      ],
      "execution_count": 12,
      "outputs": [
        {
          "output_type": "stream",
          "text": [
            "\n",
            " Example 5 -----\n"
          ],
          "name": "stdout"
        },
        {
          "output_type": "stream",
          "text": [
            "  3%|▎         | 3/100 [00:00<00:00, 144.21it/s]"
          ],
          "name": "stderr"
        },
        {
          "output_type": "stream",
          "text": [
            "\n",
            " Elapsed: 0.06675028800964355\n",
            "[ -0.73001937   1.30493899  -0.91342056   2.66435261  -2.29385707\n",
            "   4.53590126  -0.41725906  -2.83037167   4.77373817  -1.49580123\n",
            "  -0.62224408   0.99904679  -1.95016809  -1.71976335   1.71976335\n",
            " -13.72750934   0.34705632   8.21592306]\n",
            "RMSE: \n",
            "4.4468474720872635\n"
          ],
          "name": "stdout"
        },
        {
          "output_type": "stream",
          "text": [
            "\n"
          ],
          "name": "stderr"
        },
        {
          "output_type": "display_data",
          "data": {
            "image/png": "[encoded data removed]",
            "text/plain": [
              "<Figure size 432x288 with 1 Axes>"
            ]
          },
          "metadata": {
            "tags": [],
            "needs_background": "light"
          }
        }
      ]
    },
    {
      "cell_type": "code",
      "metadata": {
        "id": "jTC55DCIbx52",
        "colab_type": "code",
        "colab": {
          "base_uri": "https://localhost:8080/",
          "height": 435
        },
        "outputId": "e5058889-b7f3-475b-dfb5-b0647d45f597"
      },
      "source": [
        "print(f\"\\n Example 6 -----\")\n",
        "obj2.optimizer.type_optim = \"scd\"\n",
        "start = time()\n",
        "obj2.fit(X_train, y_train, learning_rate=0.1, batch_prop=0.5, verbose=1)\n",
        "print(f\"\\n Elapsed: {time() - start}\")\n",
        "plt.plot(obj2.optimizer.results[2])\n",
        "print(obj2.beta)\n",
        "print(\"RMSE: \")\n",
        "print(np.sqrt(obj2.score(X_test, y_test))) # RMSE"
      ],
      "execution_count": 13,
      "outputs": [
        {
          "output_type": "stream",
          "text": [
            "\r  0%|          | 0/100 [00:00<?, ?it/s]"
          ],
          "name": "stderr"
        },
        {
          "output_type": "stream",
          "text": [
            "\n",
            " Example 6 -----\n"
          ],
          "name": "stdout"
        },
        {
          "output_type": "stream",
          "text": [
            "100%|██████████| 100/100 [00:00<00:00, 222.79it/s]\n"
          ],
          "name": "stderr"
        },
        {
          "output_type": "stream",
          "text": [
            "\n",
            " Elapsed: 0.48998546600341797\n",
            "[-0.04767637  0.19638247 -0.19408203  0.31171937  0.16231266  2.65354274\n",
            " -0.11634894 -0.17232216  0.45971568  0.22730924 -0.66890088  1.10529369\n",
            " -1.81068051  1.18481262 -0.20380827 -4.31217738  2.35984521  0.4547747 ]\n",
            "RMSE: \n",
            "5.313346766202479\n"
          ],
          "name": "stdout"
        },
        {
          "output_type": "display_data",
          "data": {
            "image/png": "[encoded data removed]",
            "text/plain": [
              "<Figure size 432x288 with 1 Axes>"
            ]
          },
          "metadata": {
            "tags": [],
            "needs_background": "light"
          }
        }
      ]
    },
    {
      "cell_type": "markdown",
      "metadata": {
        "id": "ZZtjooNQZ2Qd",
        "colab_type": "text"
      },
      "source": [
        "GLM Classifier with __loss function plot__\n"
      ]
    },
    {
      "cell_type": "code",
      "metadata": {
        "id": "ikhDOAH4Z4O1",
        "colab_type": "code",
        "colab": {
          "base_uri": "https://localhost:8080/",
          "height": 571
        },
        "outputId": "a28256a0-2acb-447f-bf69-e92cb7415a17"
      },
      "source": [
        "import numpy as np\n",
        "from sklearn.datasets import load_breast_cancer, load_wine, load_iris, make_classification, load_digits\n",
        "from sklearn.model_selection import train_test_split\n",
        "from sklearn import metrics\n",
        "from time import time\n",
        "import matplotlib.pyplot as plt\n",
        "\n",
        "\n",
        "print(f\"\\n method = 'momentum' ----------\")\n",
        "\n",
        "\n",
        "# dataset no. 1 ---------- \n",
        "\n",
        "breast_cancer = load_breast_cancer()\n",
        "Z = breast_cancer.data\n",
        "t = breast_cancer.target\n",
        "np.random.seed(123)\n",
        "X_train, X_test, y_train, y_test = train_test_split(Z, t, test_size=0.2)\n",
        "\n",
        "print(f\"\\n 1 - breast_cancer dataset ----------\")\n",
        "fit_obj = ns.GLMClassifier(n_hidden_features=5, \n",
        "                           n_clusters=2, type_clust=\"gmm\")\n",
        "\n",
        "start = time()\n",
        "fit_obj.fit(X_train, y_train, verbose=1)\n",
        "print(time() - start)\n",
        "\n",
        "plt.plot(fit_obj.optimizer.results[2])\n",
        "\n",
        "print(fit_obj.score(X_test, y_test))\n",
        "print(fit_obj.score(X_test, y_test, scoring=\"roc_auc\"))\n",
        "\n",
        "start = time()\n",
        "preds = fit_obj.predict(X_test)\n",
        "print(time() - start)\n",
        "print(metrics.classification_report(preds, y_test))\n",
        "\n"
      ],
      "execution_count": 14,
      "outputs": [
        {
          "output_type": "stream",
          "text": [
            "\n",
            " method = 'momentum' ----------\n",
            "\n",
            " 1 - breast_cancer dataset ----------\n"
          ],
          "name": "stdout"
        },
        {
          "output_type": "stream",
          "text": [
            "  3%|▎         | 3/100 [00:00<00:06, 14.21it/s]\n"
          ],
          "name": "stderr"
        },
        {
          "output_type": "stream",
          "text": [
            "0.2432265281677246\n",
            "0.9736842105263158\n",
            "0.9741062479117941\n",
            "0.0013012886047363281\n",
            "              precision    recall  f1-score   support\n",
            "\n",
            "           0       0.98      0.95      0.96        42\n",
            "           1       0.97      0.99      0.98        72\n",
            "\n",
            "    accuracy                           0.97       114\n",
            "   macro avg       0.97      0.97      0.97       114\n",
            "weighted avg       0.97      0.97      0.97       114\n",
            "\n"
          ],
          "name": "stdout"
        },
        {
          "output_type": "display_data",
          "data": {
            "image/png": "[encoded data removed]",
            "text/plain": [
              "<Figure size 432x288 with 1 Axes>"
            ]
          },
          "metadata": {
            "tags": [],
            "needs_background": "light"
          }
        }
      ]
    },
    {
      "cell_type": "code",
      "metadata": {
        "id": "hM57tHHuakFc",
        "colab_type": "code",
        "colab": {
          "base_uri": "https://localhost:8080/",
          "height": 538
        },
        "outputId": "0a1ab7ef-168e-41b1-9e79-2d15b5735d8d"
      },
      "source": [
        "# dataset no. 2 ---------- \n",
        "\n",
        "wine = load_wine()\n",
        "Z = wine.data\n",
        "t = wine.target\n",
        "np.random.seed(123575)\n",
        "X_train, X_test, y_train, y_test = train_test_split(Z, t, test_size=0.2)\n",
        "\n",
        "print(f\"\\n 2 - wine dataset ----------\")\n",
        "fit_obj = ns.GLMClassifier(n_hidden_features=3, \n",
        "                           n_clusters=2, type_clust=\"gmm\")\n",
        "\n",
        "start = time()\n",
        "fit_obj.fit(X_train, y_train, verbose=1)\n",
        "print(time() - start)\n",
        "\n",
        "plt.plot(fit_obj.optimizer.results[2])\n",
        "\n",
        "print(fit_obj.score(X_test, y_test))\n",
        "\n",
        "start = time()\n",
        "preds = fit_obj.predict(X_test)\n",
        "print(time() - start)\n",
        "print(metrics.classification_report(preds, y_test))\n"
      ],
      "execution_count": 15,
      "outputs": [
        {
          "output_type": "stream",
          "text": [
            "\r  0%|          | 0/100 [00:00<?, ?it/s]"
          ],
          "name": "stderr"
        },
        {
          "output_type": "stream",
          "text": [
            "\n",
            " 2 - wine dataset ----------\n"
          ],
          "name": "stdout"
        },
        {
          "output_type": "stream",
          "text": [
            "\r  3%|▎         | 3/100 [00:00<00:03, 31.12it/s]"
          ],
          "name": "stderr"
        },
        {
          "output_type": "stream",
          "text": [
            "0.11235547065734863\n",
            "1.0\n",
            "0.0011019706726074219\n",
            "              precision    recall  f1-score   support\n",
            "\n",
            "           0       1.00      1.00      1.00        12\n",
            "           1       1.00      1.00      1.00        16\n",
            "           2       1.00      1.00      1.00         8\n",
            "\n",
            "    accuracy                           1.00        36\n",
            "   macro avg       1.00      1.00      1.00        36\n",
            "weighted avg       1.00      1.00      1.00        36\n",
            "\n"
          ],
          "name": "stdout"
        },
        {
          "output_type": "stream",
          "text": [
            "\n"
          ],
          "name": "stderr"
        },
        {
          "output_type": "display_data",
          "data": {
            "image/png": "[encoded data removed]",
            "text/plain": [
              "<Figure size 432x288 with 1 Axes>"
            ]
          },
          "metadata": {
            "tags": [],
            "needs_background": "light"
          }
        }
      ]
    },
    {
      "cell_type": "code",
      "metadata": {
        "id": "Kwl0hjZoapnf",
        "colab_type": "code",
        "colab": {
          "base_uri": "https://localhost:8080/",
          "height": 537
        },
        "outputId": "8b6e7907-cbb2-4e94-aa80-a44db036fd5c"
      },
      "source": [
        "# dataset no. 3 ---------- \n",
        "\n",
        "iris = load_iris()\n",
        "Z = iris.data\n",
        "t = iris.target\n",
        "np.random.seed(123575)\n",
        "X_train, X_test, y_train, y_test = train_test_split(Z, t, test_size=0.2)\n",
        "\n",
        "print(f\"\\n 3 - iris dataset ----------\")\n",
        "fit_obj = ns.GLMClassifier(n_hidden_features=3, \n",
        "                           n_clusters=2, type_clust=\"gmm\")\n",
        "\n",
        "start = time()\n",
        "fit_obj.fit(X_train, y_train, verbose=1)\n",
        "print(time() - start)\n",
        "\n",
        "plt.plot(fit_obj.optimizer.results[2])\n",
        "\n",
        "print(fit_obj.score(X_test, y_test))\n",
        "\n",
        "start = time()\n",
        "preds = fit_obj.predict(X_test)\n",
        "print(time() - start)\n",
        "print(metrics.classification_report(preds, y_test))\n"
      ],
      "execution_count": 16,
      "outputs": [
        {
          "output_type": "stream",
          "text": [
            "\r  0%|          | 0/100 [00:00<?, ?it/s]"
          ],
          "name": "stderr"
        },
        {
          "output_type": "stream",
          "text": [
            "\n",
            " 3 - iris dataset ----------\n"
          ],
          "name": "stdout"
        },
        {
          "output_type": "stream",
          "text": [
            "\r  3%|▎         | 3/100 [00:00<00:01, 65.44it/s]"
          ],
          "name": "stderr"
        },
        {
          "output_type": "stream",
          "text": [
            "0.06327033042907715\n",
            "1.0\n",
            "0.0012693405151367188\n",
            "              precision    recall  f1-score   support\n",
            "\n",
            "           0       1.00      1.00      1.00        11\n",
            "           1       1.00      1.00      1.00        10\n",
            "           2       1.00      1.00      1.00         9\n",
            "\n",
            "    accuracy                           1.00        30\n",
            "   macro avg       1.00      1.00      1.00        30\n",
            "weighted avg       1.00      1.00      1.00        30\n",
            "\n"
          ],
          "name": "stdout"
        },
        {
          "output_type": "stream",
          "text": [
            "\n"
          ],
          "name": "stderr"
        },
        {
          "output_type": "display_data",
          "data": {
            "image/png": "[encoded data removed]",
            "text/plain": [
              "<Figure size 432x288 with 1 Axes>"
            ]
          },
          "metadata": {
            "tags": [],
            "needs_background": "light"
          }
        }
      ]
    },
    {
      "cell_type": "code",
      "metadata": {
        "id": "eK2IjjgkayNQ",
        "colab_type": "code",
        "colab": {
          "base_uri": "https://localhost:8080/",
          "height": 1000
        },
        "outputId": "94da93c1-fff9-48bb-b7e6-a2d4659b0177"
      },
      "source": [
        "# dataset no. 4 ----------\n",
        "\n",
        "X, y = make_classification(n_samples=2500, n_features=20, \n",
        "                                               random_state=783451)\n",
        "X_train, X_test, y_train, y_test = train_test_split(X, y, test_size=0.2, \n",
        "                                                    random_state=351452)\n",
        "\n",
        "print(f\"\\n 4 - make_classification dataset ----------\")\n",
        "fit_obj = ns.GLMClassifier(n_hidden_features=5,\n",
        "                                  dropout=0.1, n_clusters=3, \n",
        "                                  type_clust=\"gmm\")\n",
        "\n",
        "start = time()\n",
        "fit_obj.fit(X_train, y_train, verbose=1)\n",
        "print(time() - start)\n",
        "\n",
        "print(fit_obj.score(X_test, y_test))\n",
        "\n",
        "preds = fit_obj.predict(X_test)\n",
        "print(metrics.classification_report(preds, y_test))\n",
        "\n",
        "\n",
        "# dataset no. 5 ----------\n",
        "\n",
        "digits = load_digits()\n",
        "X = digits.data\n",
        "y = digits.target\n",
        "X_train, X_test, y_train, y_test = train_test_split(X, y, test_size=0.2,\n",
        "                                                    random_state=123)\n",
        "\n",
        "print(f\"\\n 5 - digits dataset ----------\")\n",
        "fit_obj = ns.GLMClassifier(n_hidden_features=25,\n",
        "                                  dropout=0.1, n_clusters=3, \n",
        "                                  type_clust=\"gmm\")\n",
        "\n",
        "start = time()\n",
        "fit_obj.fit(X_train, y_train, verbose=1)\n",
        "print(time() - start)\n",
        "print(fit_obj.score(X_test, y_test))\n",
        "\n",
        "start = time()\n",
        "preds = fit_obj.predict(X_test)\n",
        "print(time() - start)\n",
        "print(metrics.classification_report(preds, y_test))\n",
        "\n",
        "\n",
        "print(f\"\\n method = 'exp' ----------\")\n",
        "\n",
        "# dataset no. 1 ---------- \n",
        "\n",
        "breast_cancer = load_breast_cancer()\n",
        "Z = breast_cancer.data\n",
        "t = breast_cancer.target\n",
        "np.random.seed(123)\n",
        "X_train, X_test, y_train, y_test = train_test_split(Z, t, test_size=0.2)\n",
        "\n",
        "print(f\"\\n 1 - breast_cancer dataset ----------\")\n",
        "opt = ns.Optimizer()\n",
        "opt.set_params(learning_method = \"exp\")\n",
        "fit_obj = ns.GLMClassifier(optimizer=opt)\n",
        "fit_obj.set_params(lambda1=1e-5, lambda2=100)\n",
        "fit_obj.optimizer.type_optim = \"scd\"\n",
        "\n",
        "start = time()\n",
        "fit_obj.fit(X_train, y_train, verbose=1, learning_rate=0.01, batch_prop=0.5)\n",
        "print(time() - start)\n",
        "\n",
        "plt.plot(fit_obj.optimizer.results[2])\n",
        "\n",
        "print(fit_obj.score(X_test, y_test))\n",
        "print(fit_obj.score(X_test, y_test, scoring=\"roc_auc\"))\n",
        "\n",
        "start = time()\n",
        "preds = fit_obj.predict(X_test)\n",
        "print(time() - start)\n",
        "print(metrics.classification_report(preds, y_test))\n",
        "\n",
        "\n",
        "print(f\"\\n method = 'poly' ----------\")\n",
        "\n"
      ],
      "execution_count": 17,
      "outputs": [
        {
          "output_type": "stream",
          "text": [
            "\r  0%|          | 0/100 [00:00<?, ?it/s]"
          ],
          "name": "stderr"
        },
        {
          "output_type": "stream",
          "text": [
            "\n",
            " 4 - make_classification dataset ----------\n"
          ],
          "name": "stdout"
        },
        {
          "output_type": "stream",
          "text": [
            "  3%|▎         | 3/100 [00:00<00:12,  8.05it/s]\n"
          ],
          "name": "stderr"
        },
        {
          "output_type": "stream",
          "text": [
            "0.4820847511291504\n",
            "0.89\n",
            "              precision    recall  f1-score   support\n",
            "\n",
            "           0       0.86      0.93      0.89       247\n",
            "           1       0.93      0.85      0.89       253\n",
            "\n",
            "    accuracy                           0.89       500\n",
            "   macro avg       0.89      0.89      0.89       500\n",
            "weighted avg       0.89      0.89      0.89       500\n",
            "\n",
            "\n",
            " 5 - digits dataset ----------\n"
          ],
          "name": "stdout"
        },
        {
          "output_type": "stream",
          "text": [
            "  3%|▎         | 3/100 [00:11<06:01,  3.73s/it]\n",
            "  0%|          | 0/100 [00:00<?, ?it/s]"
          ],
          "name": "stderr"
        },
        {
          "output_type": "stream",
          "text": [
            "11.476924180984497\n",
            "0.9361111111111111\n",
            "0.003488302230834961\n",
            "              precision    recall  f1-score   support\n",
            "\n",
            "           0       1.00      0.97      0.99        40\n",
            "           1       1.00      0.85      0.92        40\n",
            "           2       0.92      0.97      0.94        34\n",
            "           3       0.94      0.89      0.91        35\n",
            "           4       0.95      1.00      0.98        40\n",
            "           5       0.97      1.00      0.99        36\n",
            "           6       0.95      0.95      0.95        43\n",
            "           7       1.00      0.89      0.94        35\n",
            "           8       0.68      0.96      0.79        26\n",
            "           9       0.96      0.87      0.92        31\n",
            "\n",
            "    accuracy                           0.94       360\n",
            "   macro avg       0.94      0.94      0.93       360\n",
            "weighted avg       0.95      0.94      0.94       360\n",
            "\n",
            "\n",
            " method = 'exp' ----------\n",
            "\n",
            " 1 - breast_cancer dataset ----------\n"
          ],
          "name": "stdout"
        },
        {
          "output_type": "stream",
          "text": [
            "100%|██████████| 100/100 [00:02<00:00, 33.63it/s]\n"
          ],
          "name": "stderr"
        },
        {
          "output_type": "stream",
          "text": [
            "3.022287368774414\n",
            "0.956140350877193\n",
            "0.9390243902439024\n",
            "0.0019712448120117188\n",
            "              precision    recall  f1-score   support\n",
            "\n",
            "           0       0.88      1.00      0.94        36\n",
            "           1       1.00      0.94      0.97        78\n",
            "\n",
            "    accuracy                           0.96       114\n",
            "   macro avg       0.94      0.97      0.95       114\n",
            "weighted avg       0.96      0.96      0.96       114\n",
            "\n",
            "\n",
            " method = 'poly' ----------\n"
          ],
          "name": "stdout"
        },
        {
          "output_type": "display_data",
          "data": {
            "image/png": "[encoded data removed]",
            "text/plain": [
              "<Figure size 432x288 with 1 Axes>"
            ]
          },
          "metadata": {
            "tags": [],
            "needs_background": "light"
          }
        }
      ]
    },
    {
      "cell_type": "code",
      "metadata": {
        "id": "XJt-dHpUabx3",
        "colab_type": "code",
        "colab": {
          "base_uri": "https://localhost:8080/",
          "height": 537
        },
        "outputId": "87967642-788d-49fb-b4c6-a8ae9257eab6"
      },
      "source": [
        "# dataset no. 1 ---------- \n",
        "\n",
        "print(f\"\\n 1 - breast_cancer dataset ----------\")\n",
        "opt = ns.Optimizer()\n",
        "opt.set_params(learning_method = \"poly\")\n",
        "fit_obj = ns.GLMClassifier(optimizer=opt)\n",
        "fit_obj.set_params(lambda1=1, lambda2=1)\n",
        "fit_obj.optimizer.type_optim = \"scd\"\n",
        "\n",
        "start = time()\n",
        "fit_obj.fit(X_train, y_train, verbose=1, learning_rate=0.001, batch_prop=0.5)\n",
        "print(time() - start)\n",
        "\n",
        "plt.plot(fit_obj.optimizer.results[2])\n",
        "\n",
        "print(fit_obj.score(X_test, y_test))\n",
        "print(fit_obj.score(X_test, y_test, scoring=\"roc_auc\"))\n",
        "\n",
        "start = time()\n",
        "preds = fit_obj.predict(X_test)\n",
        "print(time() - start)\n",
        "print(metrics.classification_report(preds, y_test))"
      ],
      "execution_count": 18,
      "outputs": [
        {
          "output_type": "stream",
          "text": [
            "\n",
            " 1 - breast_cancer dataset ----------\n"
          ],
          "name": "stdout"
        },
        {
          "output_type": "stream",
          "text": [
            "100%|██████████| 100/100 [00:03<00:00, 31.90it/s]\n"
          ],
          "name": "stderr"
        },
        {
          "output_type": "stream",
          "text": [
            "3.188145875930786\n",
            "0.9824561403508771\n",
            "0.975609756097561\n",
            "0.0024595260620117188\n",
            "              precision    recall  f1-score   support\n",
            "\n",
            "           0       0.95      1.00      0.97        39\n",
            "           1       1.00      0.97      0.99        75\n",
            "\n",
            "    accuracy                           0.98       114\n",
            "   macro avg       0.98      0.99      0.98       114\n",
            "weighted avg       0.98      0.98      0.98       114\n",
            "\n"
          ],
          "name": "stdout"
        },
        {
          "output_type": "display_data",
          "data": {
            "image/png": "[encoded data removed]",
            "text/plain": [
              "<Figure size 432x288 with 1 Axes>"
            ]
          },
          "metadata": {
            "tags": [],
            "needs_background": "light"
          }
        }
      ]
    }
  ]
}