{
 "cells": [
  {
   "cell_type": "markdown",
   "metadata": {},
   "source": [
    "# Subsampling continous and discrete responses"
   ]
  },
  {
   "cell_type": "code",
   "execution_count": null,
   "metadata": {},
   "outputs": [],
   "source": [
    "!pip uninstall nnetsauce --yes"
   ]
  },
  {
   "cell_type": "code",
   "execution_count": null,
   "metadata": {},
   "outputs": [],
   "source": [
    "!pip install nnetsauce==0.16.7"
   ]
  },
  {
   "cell_type": "markdown",
   "metadata": {},
   "source": [
    "# 1 - using a percentage of the data"
   ]
  },
  {
   "cell_type": "code",
   "execution_count": null,
   "metadata": {},
   "outputs": [],
   "source": [
    "import os \n",
    "import matplotlib.pyplot as plt\n",
    "import nnetsauce as ns\n",
    "import numpy as np\n",
    "from sklearn.datasets import load_digits, load_diabetes\n",
    "from time import time\n",
    "\n",
    "\n",
    "# dataset no. 1 ---------- \n",
    "\n",
    "print(\"\\n\\n dataset no. 1 (classification) ---------- \\n\\n\")\n",
    "\n",
    "dataset = load_digits()\n",
    "u = dataset.target\n",
    "\n",
    "print(\" \\n sequential ----- \\n\")\n",
    "\n",
    "sub1 = ns.SubSampler(y=u, row_sample=0.6, seed=123, n_jobs=None)\n",
    "start = time()\n",
    "x1 = sub1.subsample()\n",
    "print(f\"elapsed time: {time() - start}\")\n",
    "\n",
    "print(x1)\n",
    "\n",
    "_ = plt.hist(x1, bins='auto')\n",
    "plt.show()"
   ]
  },
  {
   "cell_type": "code",
   "execution_count": null,
   "metadata": {},
   "outputs": [],
   "source": [
    "print(\" \\n parallel ----- \\n\") # needs more data to be efficient\n",
    "\n",
    "sub2 = ns.SubSampler(y=u, row_sample=0.6, seed=123, n_jobs=2)\n",
    "start = time()\n",
    "x2 = sub2.subsample()\n",
    "print(f\"elapsed time: {time() - start}\")\n",
    "\n",
    "print(x2)\n",
    "\n",
    "print(f\" \\n check: {np.allclose(x1, x2)} \\n\")\n",
    "\n",
    "_ = plt.hist(x2, bins='auto')\n",
    "plt.show()\n"
   ]
  },
  {
   "cell_type": "code",
   "execution_count": null,
   "metadata": {},
   "outputs": [],
   "source": [
    "# dataset no. 2 ---------- \n",
    "\n",
    "print(\"\\n\\n dataset no. 2 (regression) ---------- \\n\\n\")\n",
    "\n",
    "dataset = load_diabetes()\n",
    "v = dataset.target\n",
    "\n",
    "print(\" \\n sequential ----- \\n\")\n",
    "\n",
    "sub1 = ns.SubSampler(y=v, row_sample=0.6, seed=123, n_jobs=None)\n",
    "start = time()\n",
    "y1 = sub1.subsample()\n",
    "print(f\"elapsed time: {time() - start}\")\n",
    "\n",
    "print(y1)\n",
    "\n",
    "_ = plt.hist(y1, bins='auto')\n",
    "plt.show()\n"
   ]
  },
  {
   "cell_type": "code",
   "execution_count": null,
   "metadata": {},
   "outputs": [],
   "source": [
    "print(\" \\n parallel ----- \\n\") # needs more data to be efficient\n",
    "\n",
    "sub2 = ns.SubSampler(y=v, row_sample=0.6, seed=123, n_jobs=2)\n",
    "start = time()\n",
    "y2 = sub2.subsample()\n",
    "print(f\"elapsed time: {time() - start}\")\n",
    "\n",
    "print(y2)\n",
    "\n",
    "_ = plt.hist(y2, bins='auto')\n",
    "plt.show()"
   ]
  },
  {
   "cell_type": "code",
   "execution_count": null,
   "metadata": {},
   "outputs": [],
   "source": [
    "print(f\" \\n check: {np.allclose(y1, y2)} \\n\")"
   ]
  },
  {
   "cell_type": "code",
   "execution_count": null,
   "metadata": {},
   "outputs": [],
   "source": [
    "print(len(x1))\n",
    "print(len(x2))\n",
    "print(len(u))\n",
    "print(len(y1))\n",
    "print(len(y2))\n",
    "print(len(v))"
   ]
  },
  {
   "cell_type": "code",
   "execution_count": null,
   "metadata": {},
   "outputs": [],
   "source": [
    "fig, axs = plt.subplots(2, 3)\n",
    "axs[0, 0].hist(u[x1], bins='auto', density=False)\n",
    "axs[0, 1].hist(u[x2], bins='auto', density=False)\n",
    "axs[0, 2].hist(u, bins='auto', density=False)\n",
    "axs[1, 0].hist(v[y1], bins='auto', density=False)\n",
    "axs[1, 1].hist(v[y2], bins='auto', density=False)\n",
    "axs[1, 2].hist(v, bins='auto', density=False)"
   ]
  },
  {
   "cell_type": "markdown",
   "metadata": {},
   "source": [
    "# 2 - using a fixed number of samples"
   ]
  },
  {
   "cell_type": "code",
   "execution_count": null,
   "metadata": {},
   "outputs": [],
   "source": [
    "print(\" \\n sequential ----- \\n\")\n",
    "\n",
    "sub1 = ns.SubSampler(y=u, n_samples=100, seed=123, n_jobs=None)\n",
    "start = time()\n",
    "x1 = sub1.subsample()\n",
    "print(f\"elapsed time: {time() - start}\")\n",
    "print(x1)\n",
    "print(len(x1))\n",
    "print(len(u))\n",
    "\n",
    "sub2 = ns.SubSampler(y=u, n_samples=250, seed=123, n_jobs=None)\n",
    "start = time()\n",
    "x2 = sub2.subsample()\n",
    "print(f\"elapsed time: {time() - start}\")\n",
    "print(sub2.indices)\n",
    "print(x2)\n",
    "print(len(x2))\n",
    "print(len(u))\n",
    "\n",
    "fig, axs = plt.subplots(1, 3)\n",
    "axs[0].hist(u[x1], bins='auto', density=False)\n",
    "axs[1].hist(u[x2], bins='auto', density=False)\n",
    "axs[2].hist(u, bins='auto', density=False)"
   ]
  },
  {
   "cell_type": "code",
   "execution_count": null,
   "metadata": {},
   "outputs": [],
   "source": []
  }
 ],
 "metadata": {
  "kernelspec": {
   "display_name": "venv",
   "language": "python",
   "name": "python3"
  },
  "language_info": {
   "codemirror_mode": {
    "name": "ipython",
    "version": 3
   },
   "file_extension": ".py",
   "mimetype": "text/x-python",
   "name": "python",
   "nbconvert_exporter": "python",
   "pygments_lexer": "ipython3",
   "version": "3.11.6"
  }
 },
 "nbformat": 4,
 "nbformat_minor": 2
}
