{
  "nbformat": 4,
  "nbformat_minor": 0,
  "metadata": {
    "colab": {
      "name": "nnetsauce_mtask.ipynb",
      "provenance": [],
      "collapsed_sections": []
    },
    "kernelspec": {
      "name": "python3",
      "display_name": "Python 3"
    }
  },
  "cells": [
    {
      "cell_type": "markdown",
      "metadata": {
        "id": "HoIYsFZ7Mig5",
        "colab_type": "text"
      },
      "source": [
        "# nnetsauce's Multitask classifier\n",
        "\n",
        "This notebook demonstrates the use of nnetsauce's Multitask classifier. It's a Multitask Classification model based on regression models, with shared covariates."
      ]
    },
    {
      "cell_type": "code",
      "metadata": {
        "id": "50w-dgWIM0XT",
        "colab_type": "code",
        "colab": {}
      },
      "source": [
        "pip install git+https://github.com/thierrymoudiki/nnetsauce.git"
      ],
      "execution_count": 0,
      "outputs": []
    },
    {
      "cell_type": "code",
      "metadata": {
        "id": "vHZItr73M5t2",
        "colab_type": "code",
        "colab": {}
      },
      "source": [
        "import nnetsauce as ns\n",
        "import numpy as np\n",
        "from sklearn.datasets import load_breast_cancer, load_wine, load_iris, make_classification\n",
        "from sklearn.linear_model import ElasticNet, LinearRegression\n",
        "from sklearn.model_selection import train_test_split\n",
        "from sklearn import metrics\n",
        "from time import time\n"
      ],
      "execution_count": 0,
      "outputs": []
    },
    {
      "cell_type": "code",
      "metadata": {
        "id": "ppGmm_bqM_Gf",
        "colab_type": "code",
        "colab": {
          "base_uri": "https://localhost:8080/",
          "height": 69
        },
        "outputId": "de2d2bb4-2c8a-4428-e766-57bc4646b9e2"
      },
      "source": [
        "# dataset no. 1 ---------- \n",
        "\n",
        "breast_cancer = load_breast_cancer()\n",
        "Z = breast_cancer.data\n",
        "t = breast_cancer.target\n",
        "np.random.seed(123)\n",
        "X_train, X_test, y_train, y_test = train_test_split(Z, t, test_size=0.2)\n",
        "\n",
        "# Linear Regression is used (can be anything, but must be a regression model)\n",
        "regr = LinearRegression()\n",
        "fit_obj = ns.MultitaskClassifier(regr, n_hidden_features=5, \n",
        "                             n_clusters=2, type_clust=\"gmm\")\n",
        "\n",
        "start = time()\n",
        "fit_obj.fit(X_train, y_train)\n",
        "print(time() - start)\n",
        "\n",
        "print(fit_obj.score(X_test, y_test))\n",
        "print(fit_obj.score(X_test, y_test, scoring=\"roc_auc\"))\n",
        "\n"
      ],
      "execution_count": 4,
      "outputs": [
        {
          "output_type": "stream",
          "text": [
            "0.09344983100891113\n",
            "0.9912280701754386\n",
            "0.9878048780487805\n"
          ],
          "name": "stdout"
        }
      ]
    },
    {
      "cell_type": "code",
      "metadata": {
        "id": "d7BRlzj0NBRg",
        "colab_type": "code",
        "colab": {
          "base_uri": "https://localhost:8080/",
          "height": 191
        },
        "outputId": "4545e1cf-a17a-4896-c482-3ae9d5d62791"
      },
      "source": [
        "start = time()\n",
        "preds = fit_obj.predict(X_test)\n",
        "print(time() - start)\n",
        "print(metrics.classification_report(preds, y_test))\n"
      ],
      "execution_count": 5,
      "outputs": [
        {
          "output_type": "stream",
          "text": [
            "0.004671335220336914\n",
            "              precision    recall  f1-score   support\n",
            "\n",
            "           0       0.98      1.00      0.99        40\n",
            "           1       1.00      0.99      0.99        74\n",
            "\n",
            "    accuracy                           0.99       114\n",
            "   macro avg       0.99      0.99      0.99       114\n",
            "weighted avg       0.99      0.99      0.99       114\n",
            "\n"
          ],
          "name": "stdout"
        }
      ]
    }
  ]
}