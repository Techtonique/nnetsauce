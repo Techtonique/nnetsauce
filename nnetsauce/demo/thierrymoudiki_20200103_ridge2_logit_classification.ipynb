{
  "nbformat": 4,
  "nbformat_minor": 0,
  "metadata": {
    "colab": {
      "name": "ridge2_logit.ipynb",
      "provenance": []
    },
    "kernelspec": {
      "name": "python3",
      "display_name": "Python 3"
    }
  },
  "cells": [
    {
      "cell_type": "markdown",
      "metadata": {
        "id": "3yzVZcFVW4J3",
        "colab_type": "text"
      },
      "source": [
        "# `nnetsauce`'s Ridge2 logistic regression\n",
        "\n",
        "This notebook demonstrates the use of `nnetsauce`'s Ridge2 logistic regression. It's a quasi-randomized classification model with 2 shrinkage parameters: one on input data, another one on the hidden layer. For more details, report to: https://www.researchgate.net/publication/334706878_Multinomial_logistic_regression_using_quasi-randomized_networks"
      ]
    },
    {
      "cell_type": "code",
      "metadata": {
        "id": "I2BYGMHm_YT4",
        "colab_type": "code",
        "colab": {}
      },
      "source": [
        "pip install git+https://github.com/thierrymoudiki/nnetsauce.git"
      ],
      "execution_count": 0,
      "outputs": []
    },
    {
      "cell_type": "code",
      "metadata": {
        "id": "VSpcAAgc_Hyp",
        "colab_type": "code",
        "colab": {}
      },
      "source": [
        "import nnetsauce as ns\n",
        "import numpy as np\n",
        "from sklearn.datasets import load_digits, load_breast_cancer, load_wine, load_iris\n",
        "from sklearn.model_selection import train_test_split\n",
        "from sklearn.metrics import classification_report"
      ],
      "execution_count": 0,
      "outputs": []
    },
    {
      "cell_type": "code",
      "metadata": {
        "id": "7cB4SMlzq-z2",
        "colab_type": "code",
        "colab": {
          "base_uri": "https://localhost:8080/",
          "height": 208
        },
        "outputId": "b4647623-fa50-4d79-e356-3cb43c3c3499"
      },
      "source": [
        "# dataset no. 1 ----------\n",
        "\n",
        "breast_cancer = load_breast_cancer()\n",
        "X = breast_cancer.data\n",
        "y = breast_cancer.target\n",
        "\n",
        "# split data into training test and test set\n",
        "np.random.seed(123)\n",
        "X_train, X_test, y_train, y_test = train_test_split(X, y, test_size=0.2)\n",
        "\n",
        "# create the model with nnetsauce\n",
        "fit_obj = ns.Ridge2Classifier(lambda1 = 6.90185578e+04, \n",
        "                             lambda2 = 3.17392781e+02, \n",
        "                             n_hidden_features=95, \n",
        "                             n_clusters=2, \n",
        "                             row_sample = 4.63427734e-01, \n",
        "                             dropout = 3.62817383e-01,\n",
        "                             type_clust = \"gmm\")\n",
        "\n",
        "# fit the model on training set\n",
        "fit_obj.fit(X_train, y_train)\n",
        "\n",
        "# get the accuracy on test set\n",
        "print(fit_obj.score(X_test, y_test))\n",
        "\n",
        "# get area under the curve on test set (auc)\n",
        "print(fit_obj.score(X_test, y_test, scoring=\"roc_auc\"))\n",
        "\n",
        "# classification report\n",
        "y_pred = fit_obj.predict(X_test)\n",
        "print(classification_report(y_test, y_pred))"
      ],
      "execution_count": 18,
      "outputs": [
        {
          "output_type": "stream",
          "text": [
            "0.9824561403508771\n",
            "0.9809555629802873\n",
            "              precision    recall  f1-score   support\n",
            "\n",
            "           0       0.98      0.98      0.98        41\n",
            "           1       0.99      0.99      0.99        73\n",
            "\n",
            "    accuracy                           0.98       114\n",
            "   macro avg       0.98      0.98      0.98       114\n",
            "weighted avg       0.98      0.98      0.98       114\n",
            "\n"
          ],
          "name": "stdout"
        }
      ]
    },
    {
      "cell_type": "code",
      "metadata": {
        "id": "JnfY88AkrBNi",
        "colab_type": "code",
        "colab": {
          "base_uri": "https://localhost:8080/",
          "height": 208
        },
        "outputId": "9e023ddb-2165-4273-a6be-f79d36a508e7"
      },
      "source": [
        "# dataset no. 2 ----------\n",
        "\n",
        "wine = load_wine()\n",
        "Z = wine.data\n",
        "t = wine.target\n",
        "np.random.seed(123)\n",
        "Z_train, Z_test, y_train, y_test = train_test_split(Z, t, test_size=0.2)\n",
        "\n",
        "# create the model with nnetsauce\n",
        "fit_obj = ns.Ridge2Classifier(lambda1 = 8.64135756e+04, \n",
        "                             lambda2 = 8.27514666e+04, \n",
        "                             n_hidden_features=109, \n",
        "                             n_clusters=3, \n",
        "                             row_sample = 5.54907227e-01, \n",
        "                             dropout = 1.84484863e-01,\n",
        "                             type_clust = \"gmm\")\n",
        "\n",
        "# fit the model on training set\n",
        "fit_obj.fit(Z_train, y_train)\n",
        "\n",
        "# get the accuracy on test set\n",
        "print(fit_obj.score(Z_test, y_test))\n",
        "\n",
        "# classification report\n",
        "y_pred = fit_obj.predict(Z_test)\n",
        "print(classification_report(y_test, y_pred))"
      ],
      "execution_count": 19,
      "outputs": [
        {
          "output_type": "stream",
          "text": [
            "0.9722222222222222\n",
            "              precision    recall  f1-score   support\n",
            "\n",
            "           0       0.89      1.00      0.94         8\n",
            "           1       1.00      0.91      0.95        11\n",
            "           2       1.00      1.00      1.00        17\n",
            "\n",
            "    accuracy                           0.97        36\n",
            "   macro avg       0.96      0.97      0.96        36\n",
            "weighted avg       0.98      0.97      0.97        36\n",
            "\n"
          ],
          "name": "stdout"
        }
      ]
    },
    {
      "cell_type": "code",
      "metadata": {
        "id": "wnfLXUAerDvs",
        "colab_type": "code",
        "colab": {
          "base_uri": "https://localhost:8080/",
          "height": 208
        },
        "outputId": "4a7a344a-5b5d-4d40-9c56-9cc897c4505d"
      },
      "source": [
        "# dataset no. 3 ----------\n",
        "\n",
        "iris = load_iris()\n",
        "Z = iris.data\n",
        "t = iris.target\n",
        "np.random.seed(123)\n",
        "Z_train, Z_test, y_train, y_test = train_test_split(Z, t, test_size=0.2)\n",
        "\n",
        "# create the model with nnetsauce\n",
        "fit_obj = ns.Ridge2Classifier(lambda1 = 1.87500081e+04, \n",
        "                             lambda2 = 3.12500069e+04, \n",
        "                             n_hidden_features=47, \n",
        "                             n_clusters=3, \n",
        "                             row_sample = 7.37500000e-01, \n",
        "                             dropout = 1.31250000e-01,\n",
        "                             type_clust = \"gmm\")\n",
        "\n",
        "# fit the model on training set\n",
        "fit_obj.fit(Z_train, y_train)\n",
        "\n",
        "# get the accuracy on test set\n",
        "print(fit_obj.score(Z_test, y_test))\n",
        "\n",
        "# classification report\n",
        "y_pred = fit_obj.predict(Z_test)\n",
        "print(classification_report(y_test, y_pred))"
      ],
      "execution_count": 20,
      "outputs": [
        {
          "output_type": "stream",
          "text": [
            "0.9666666666666667\n",
            "              precision    recall  f1-score   support\n",
            "\n",
            "           0       1.00      1.00      1.00        13\n",
            "           1       1.00      0.83      0.91         6\n",
            "           2       0.92      1.00      0.96        11\n",
            "\n",
            "    accuracy                           0.97        30\n",
            "   macro avg       0.97      0.94      0.96        30\n",
            "weighted avg       0.97      0.97      0.97        30\n",
            "\n"
          ],
          "name": "stdout"
        }
      ]
    }
  ]
}